{
 "cells": [
  {
   "cell_type": "markdown",
   "id": "1c0ebc94",
   "metadata": {
    "_cell_guid": "056150e1-326b-4aa9-8a47-50285141eecb",
    "_uuid": "dc2c7262-f401-4fd6-b652-60344758c237",
    "papermill": {
     "duration": 0.015636,
     "end_time": "2023-09-05T10:16:58.373492",
     "exception": false,
     "start_time": "2023-09-05T10:16:58.357856",
     "status": "completed"
    },
    "tags": []
   },
   "source": [
    "\n",
    "**Importing the Libraries**"
   ]
  },
  {
   "cell_type": "code",
   "execution_count": 76,
   "id": "eed92b05",
   "metadata": {
    "_cell_guid": "282306d1-abdb-4b43-8719-ea303ffffff1",
    "_uuid": "d47a1cfb-aa2d-4829-a379-0b714acd92fe",
    "execution": {
     "iopub.execute_input": "2023-09-05T10:16:58.406566Z",
     "iopub.status.busy": "2023-09-05T10:16:58.406138Z",
     "iopub.status.idle": "2023-09-05T10:17:00.883016Z",
     "shell.execute_reply": "2023-09-05T10:17:00.881748Z"
    },
    "jupyter": {
     "outputs_hidden": false
    },
    "papermill": {
     "duration": 2.497429,
     "end_time": "2023-09-05T10:17:00.885903",
     "exception": false,
     "start_time": "2023-09-05T10:16:58.388474",
     "status": "completed"
    },
    "tags": []
   },
   "outputs": [],
   "source": [
    "import numpy as np\n",
    "import pandas as pd\n",
    "import seaborn as sns\n",
    "import plotly.express as px\n",
    "import matplotlib.pyplot as plt\n",
    "from sklearn.model_selection import cross_val_score\n",
    "from sklearn.tree import DecisionTreeClassifier\n",
    "from sklearn import metrics\n",
    "from collections import Counter"
   ]
  },
  {
   "cell_type": "markdown",
   "id": "721c19a3",
   "metadata": {
    "_cell_guid": "2abc2898-2d7e-4c02-851c-25ba70c5022c",
    "_uuid": "6bcff417-ec81-47f0-b6ac-69009b46929c",
    "papermill": {
     "duration": 0.015426,
     "end_time": "2023-09-05T10:17:00.917343",
     "exception": false,
     "start_time": "2023-09-05T10:17:00.901917",
     "status": "completed"
    },
    "tags": []
   },
   "source": [
    "### Import Data"
   ]
  },
  {
   "cell_type": "code",
   "execution_count": 77,
   "id": "9e9d1dda",
   "metadata": {
    "_cell_guid": "0e5b0c6a-f3da-4bc6-a92c-e60d01704707",
    "_uuid": "b9c2b53b-790a-4ce2-a9cc-a4cbc1e730df",
    "execution": {
     "iopub.execute_input": "2023-09-05T10:17:00.950032Z",
     "iopub.status.busy": "2023-09-05T10:17:00.949265Z",
     "iopub.status.idle": "2023-09-05T10:17:19.720825Z",
     "shell.execute_reply": "2023-09-05T10:17:19.719494Z"
    },
    "jupyter": {
     "outputs_hidden": false
    },
    "papermill": {
     "duration": 18.791177,
     "end_time": "2023-09-05T10:17:19.723846",
     "exception": false,
     "start_time": "2023-09-05T10:17:00.932669",
     "status": "completed"
    },
    "tags": []
   },
   "outputs": [],
   "source": [
    "train_df = pd.read_csv('fraudTrain.csv')\n",
    "test_df = pd.read_csv('fraudTest.csv')"
   ]
  },
  {
   "cell_type": "code",
   "execution_count": 78,
   "id": "7b97fd61",
   "metadata": {
    "_cell_guid": "26ccea22-6427-4578-a38c-47ee0a1a6ecd",
    "_uuid": "f162fc86-ef38-45f6-8e7c-ee7219e914b2",
    "execution": {
     "iopub.execute_input": "2023-09-05T10:17:19.757402Z",
     "iopub.status.busy": "2023-09-05T10:17:19.756487Z",
     "iopub.status.idle": "2023-09-05T10:17:19.801613Z",
     "shell.execute_reply": "2023-09-05T10:17:19.800179Z"
    },
    "jupyter": {
     "outputs_hidden": false
    },
    "papermill": {
     "duration": 0.064921,
     "end_time": "2023-09-05T10:17:19.804363",
     "exception": false,
     "start_time": "2023-09-05T10:17:19.739442",
     "status": "completed"
    },
    "tags": []
   },
   "outputs": [
    {
     "data": {
      "text/html": [
       "<div>\n",
       "<style scoped>\n",
       "    .dataframe tbody tr th:only-of-type {\n",
       "        vertical-align: middle;\n",
       "    }\n",
       "\n",
       "    .dataframe tbody tr th {\n",
       "        vertical-align: top;\n",
       "    }\n",
       "\n",
       "    .dataframe thead th {\n",
       "        text-align: right;\n",
       "    }\n",
       "</style>\n",
       "<table border=\"1\" class=\"dataframe\">\n",
       "  <thead>\n",
       "    <tr style=\"text-align: right;\">\n",
       "      <th></th>\n",
       "      <th>Unnamed: 0</th>\n",
       "      <th>trans_date_trans_time</th>\n",
       "      <th>cc_num</th>\n",
       "      <th>merchant</th>\n",
       "      <th>category</th>\n",
       "      <th>amt</th>\n",
       "      <th>first</th>\n",
       "      <th>last</th>\n",
       "      <th>gender</th>\n",
       "      <th>street</th>\n",
       "      <th>...</th>\n",
       "      <th>lat</th>\n",
       "      <th>long</th>\n",
       "      <th>city_pop</th>\n",
       "      <th>job</th>\n",
       "      <th>dob</th>\n",
       "      <th>trans_num</th>\n",
       "      <th>unix_time</th>\n",
       "      <th>merch_lat</th>\n",
       "      <th>merch_long</th>\n",
       "      <th>is_fraud</th>\n",
       "    </tr>\n",
       "  </thead>\n",
       "  <tbody>\n",
       "    <tr>\n",
       "      <th>0</th>\n",
       "      <td>0</td>\n",
       "      <td>2019-01-01 00:00:18</td>\n",
       "      <td>2703186189652095</td>\n",
       "      <td>fraud_Rippin, Kub and Mann</td>\n",
       "      <td>misc_net</td>\n",
       "      <td>4.97</td>\n",
       "      <td>Jennifer</td>\n",
       "      <td>Banks</td>\n",
       "      <td>F</td>\n",
       "      <td>561 Perry Cove</td>\n",
       "      <td>...</td>\n",
       "      <td>36.0788</td>\n",
       "      <td>-81.1781</td>\n",
       "      <td>3495</td>\n",
       "      <td>Psychologist, counselling</td>\n",
       "      <td>1988-03-09</td>\n",
       "      <td>0b242abb623afc578575680df30655b9</td>\n",
       "      <td>1325376018</td>\n",
       "      <td>36.011293</td>\n",
       "      <td>-82.048315</td>\n",
       "      <td>0</td>\n",
       "    </tr>\n",
       "    <tr>\n",
       "      <th>1</th>\n",
       "      <td>1</td>\n",
       "      <td>2019-01-01 00:00:44</td>\n",
       "      <td>630423337322</td>\n",
       "      <td>fraud_Heller, Gutmann and Zieme</td>\n",
       "      <td>grocery_pos</td>\n",
       "      <td>107.23</td>\n",
       "      <td>Stephanie</td>\n",
       "      <td>Gill</td>\n",
       "      <td>F</td>\n",
       "      <td>43039 Riley Greens Suite 393</td>\n",
       "      <td>...</td>\n",
       "      <td>48.8878</td>\n",
       "      <td>-118.2105</td>\n",
       "      <td>149</td>\n",
       "      <td>Special educational needs teacher</td>\n",
       "      <td>1978-06-21</td>\n",
       "      <td>1f76529f8574734946361c461b024d99</td>\n",
       "      <td>1325376044</td>\n",
       "      <td>49.159047</td>\n",
       "      <td>-118.186462</td>\n",
       "      <td>0</td>\n",
       "    </tr>\n",
       "    <tr>\n",
       "      <th>2</th>\n",
       "      <td>2</td>\n",
       "      <td>2019-01-01 00:00:51</td>\n",
       "      <td>38859492057661</td>\n",
       "      <td>fraud_Lind-Buckridge</td>\n",
       "      <td>entertainment</td>\n",
       "      <td>220.11</td>\n",
       "      <td>Edward</td>\n",
       "      <td>Sanchez</td>\n",
       "      <td>M</td>\n",
       "      <td>594 White Dale Suite 530</td>\n",
       "      <td>...</td>\n",
       "      <td>42.1808</td>\n",
       "      <td>-112.2620</td>\n",
       "      <td>4154</td>\n",
       "      <td>Nature conservation officer</td>\n",
       "      <td>1962-01-19</td>\n",
       "      <td>a1a22d70485983eac12b5b88dad1cf95</td>\n",
       "      <td>1325376051</td>\n",
       "      <td>43.150704</td>\n",
       "      <td>-112.154481</td>\n",
       "      <td>0</td>\n",
       "    </tr>\n",
       "    <tr>\n",
       "      <th>3</th>\n",
       "      <td>3</td>\n",
       "      <td>2019-01-01 00:01:16</td>\n",
       "      <td>3534093764340240</td>\n",
       "      <td>fraud_Kutch, Hermiston and Farrell</td>\n",
       "      <td>gas_transport</td>\n",
       "      <td>45.00</td>\n",
       "      <td>Jeremy</td>\n",
       "      <td>White</td>\n",
       "      <td>M</td>\n",
       "      <td>9443 Cynthia Court Apt. 038</td>\n",
       "      <td>...</td>\n",
       "      <td>46.2306</td>\n",
       "      <td>-112.1138</td>\n",
       "      <td>1939</td>\n",
       "      <td>Patent attorney</td>\n",
       "      <td>1967-01-12</td>\n",
       "      <td>6b849c168bdad6f867558c3793159a81</td>\n",
       "      <td>1325376076</td>\n",
       "      <td>47.034331</td>\n",
       "      <td>-112.561071</td>\n",
       "      <td>0</td>\n",
       "    </tr>\n",
       "    <tr>\n",
       "      <th>4</th>\n",
       "      <td>4</td>\n",
       "      <td>2019-01-01 00:03:06</td>\n",
       "      <td>375534208663984</td>\n",
       "      <td>fraud_Keeling-Crist</td>\n",
       "      <td>misc_pos</td>\n",
       "      <td>41.96</td>\n",
       "      <td>Tyler</td>\n",
       "      <td>Garcia</td>\n",
       "      <td>M</td>\n",
       "      <td>408 Bradley Rest</td>\n",
       "      <td>...</td>\n",
       "      <td>38.4207</td>\n",
       "      <td>-79.4629</td>\n",
       "      <td>99</td>\n",
       "      <td>Dance movement psychotherapist</td>\n",
       "      <td>1986-03-28</td>\n",
       "      <td>a41d7549acf90789359a9aa5346dcb46</td>\n",
       "      <td>1325376186</td>\n",
       "      <td>38.674999</td>\n",
       "      <td>-78.632459</td>\n",
       "      <td>0</td>\n",
       "    </tr>\n",
       "  </tbody>\n",
       "</table>\n",
       "<p>5 rows × 23 columns</p>\n",
       "</div>"
      ],
      "text/plain": [
       "   Unnamed: 0 trans_date_trans_time            cc_num  \\\n",
       "0           0   2019-01-01 00:00:18  2703186189652095   \n",
       "1           1   2019-01-01 00:00:44      630423337322   \n",
       "2           2   2019-01-01 00:00:51    38859492057661   \n",
       "3           3   2019-01-01 00:01:16  3534093764340240   \n",
       "4           4   2019-01-01 00:03:06   375534208663984   \n",
       "\n",
       "                             merchant       category     amt      first  \\\n",
       "0          fraud_Rippin, Kub and Mann       misc_net    4.97   Jennifer   \n",
       "1     fraud_Heller, Gutmann and Zieme    grocery_pos  107.23  Stephanie   \n",
       "2                fraud_Lind-Buckridge  entertainment  220.11     Edward   \n",
       "3  fraud_Kutch, Hermiston and Farrell  gas_transport   45.00     Jeremy   \n",
       "4                 fraud_Keeling-Crist       misc_pos   41.96      Tyler   \n",
       "\n",
       "      last gender                        street  ...      lat      long  \\\n",
       "0    Banks      F                561 Perry Cove  ...  36.0788  -81.1781   \n",
       "1     Gill      F  43039 Riley Greens Suite 393  ...  48.8878 -118.2105   \n",
       "2  Sanchez      M      594 White Dale Suite 530  ...  42.1808 -112.2620   \n",
       "3    White      M   9443 Cynthia Court Apt. 038  ...  46.2306 -112.1138   \n",
       "4   Garcia      M              408 Bradley Rest  ...  38.4207  -79.4629   \n",
       "\n",
       "   city_pop                                job         dob  \\\n",
       "0      3495          Psychologist, counselling  1988-03-09   \n",
       "1       149  Special educational needs teacher  1978-06-21   \n",
       "2      4154        Nature conservation officer  1962-01-19   \n",
       "3      1939                    Patent attorney  1967-01-12   \n",
       "4        99     Dance movement psychotherapist  1986-03-28   \n",
       "\n",
       "                          trans_num   unix_time  merch_lat  merch_long  \\\n",
       "0  0b242abb623afc578575680df30655b9  1325376018  36.011293  -82.048315   \n",
       "1  1f76529f8574734946361c461b024d99  1325376044  49.159047 -118.186462   \n",
       "2  a1a22d70485983eac12b5b88dad1cf95  1325376051  43.150704 -112.154481   \n",
       "3  6b849c168bdad6f867558c3793159a81  1325376076  47.034331 -112.561071   \n",
       "4  a41d7549acf90789359a9aa5346dcb46  1325376186  38.674999  -78.632459   \n",
       "\n",
       "   is_fraud  \n",
       "0         0  \n",
       "1         0  \n",
       "2         0  \n",
       "3         0  \n",
       "4         0  \n",
       "\n",
       "[5 rows x 23 columns]"
      ]
     },
     "execution_count": 78,
     "metadata": {},
     "output_type": "execute_result"
    }
   ],
   "source": [
    "train_df.head()"
   ]
  },
  {
   "cell_type": "markdown",
   "id": "d48a69e0",
   "metadata": {
    "_cell_guid": "5c0545f3-dda4-451c-87ce-94fd8ee1555f",
    "_uuid": "4ab00696-1363-4338-a977-b25f79c122c5",
    "papermill": {
     "duration": 0.016042,
     "end_time": "2023-09-05T10:17:19.836562",
     "exception": false,
     "start_time": "2023-09-05T10:17:19.820520",
     "status": "completed"
    },
    "tags": []
   },
   "source": [
    "### Data imbalance check"
   ]
  },
  {
   "cell_type": "code",
   "execution_count": 6,
   "id": "1594ef09",
   "metadata": {},
   "outputs": [
    {
     "name": "stdout",
     "output_type": "stream",
     "text": [
      "Collecting nbformat==4.2.0\n",
      "  Using cached nbformat-4.2.0-py2.py3-none-any.whl (153 kB)\n",
      "Requirement already satisfied: ipython-genutils in e:\\ana\\lib\\site-packages (from nbformat==4.2.0) (0.2.0)Note: you may need to restart the kernel to use updated packages.\n",
      "Requirement already satisfied: jsonschema!=2.5.0,>=2.4 in e:\\ana\\lib\\site-packages (from nbformat==4.2.0) (3.2.0)\n"
     ]
    },
    {
     "name": "stderr",
     "output_type": "stream",
     "text": [
      "DEPRECATION: block 0.0.5 has a non-standard dependency specifier numpy>=1<2. pip 23.3 will enforce this behaviour change. A possible replacement is to upgrade to a newer version of block or contact the author to suggest that they release a version with a conforming dependency specifiers. Discussion can be found at https://github.com/pypa/pip/issues/12063\n",
      "DEPRECATION: pyodbc 4.0.0-unsupported has a non-standard version number. pip 23.3 will enforce this behaviour change. A possible replacement is to upgrade to a newer version of pyodbc or contact the author to suggest that they release a version with a conforming version number. Discussion can be found at https://github.com/pypa/pip/issues/12063\n",
      "ERROR: pip's dependency resolver does not currently take into account all the packages that are installed. This behaviour is the source of the following dependency conflicts.\n",
      "anaconda-project 0.9.1 requires ruamel-yaml, which is not installed.\n",
      "conda-repo-cli 1.0.4 requires pathlib, which is not installed.\n",
      "spyder 4.2.5 requires pyqt5<5.13, which is not installed.\n",
      "spyder 4.2.5 requires pyqtwebengine<5.13, which is not installed.\n",
      "anaconda-client 1.7.2 requires nbformat>=4.4.0, but you have nbformat 4.2.0 which is incompatible.\n",
      "conda-repo-cli 1.0.4 requires nbformat>=4.4.0, but you have nbformat 4.2.0 which is incompatible.\n",
      "nbclient 0.5.3 requires nbformat>=5.0, but you have nbformat 4.2.0 which is incompatible.\n",
      "nbconvert 6.0.7 requires nbformat>=4.4, but you have nbformat 4.2.0 which is incompatible.\n"
     ]
    },
    {
     "name": "stdout",
     "output_type": "stream",
     "text": [
      "\n",
      "Requirement already satisfied: jupyter-core in e:\\ana\\lib\\site-packages (from nbformat==4.2.0) (4.7.1)\n",
      "Requirement already satisfied: traitlets>=4.1 in e:\\ana\\lib\\site-packages (from nbformat==4.2.0) (5.0.5)\n",
      "Requirement already satisfied: attrs>=17.4.0 in e:\\ana\\lib\\site-packages (from jsonschema!=2.5.0,>=2.4->nbformat==4.2.0) (20.3.0)\n",
      "Requirement already satisfied: pyrsistent>=0.14.0 in e:\\ana\\lib\\site-packages (from jsonschema!=2.5.0,>=2.4->nbformat==4.2.0) (0.17.3)\n",
      "Requirement already satisfied: setuptools in e:\\ana\\lib\\site-packages (from jsonschema!=2.5.0,>=2.4->nbformat==4.2.0) (52.0.0.post20210125)\n",
      "Requirement already satisfied: six>=1.11.0 in e:\\ana\\lib\\site-packages (from jsonschema!=2.5.0,>=2.4->nbformat==4.2.0) (1.15.0)\n",
      "Requirement already satisfied: pywin32>=1.0 in e:\\ana\\lib\\site-packages (from jupyter-core->nbformat==4.2.0) (227)\n",
      "Installing collected packages: nbformat\n",
      "  Attempting uninstall: nbformat\n",
      "    Found existing installation: nbformat 5.1.3\n",
      "    Uninstalling nbformat-5.1.3:\n",
      "      Successfully uninstalled nbformat-5.1.3\n",
      "Successfully installed nbformat-4.2.0\n"
     ]
    }
   ],
   "source": [
    "pip install nbformat==4.2.0"
   ]
  },
  {
   "cell_type": "code",
   "execution_count": 80,
   "id": "4f9c4c87",
   "metadata": {
    "_cell_guid": "8b8b4947-e0c6-4610-804c-392b746c6ab1",
    "_uuid": "7e7f8916-e707-4d9a-a339-c6e50641adb7",
    "execution": {
     "iopub.execute_input": "2023-09-05T10:17:21.791537Z",
     "iopub.status.busy": "2023-09-05T10:17:21.790914Z",
     "iopub.status.idle": "2023-09-05T10:17:22.170838Z",
     "shell.execute_reply": "2023-09-05T10:17:22.169836Z"
    },
    "jupyter": {
     "outputs_hidden": false
    },
    "papermill": {
     "duration": 0.40518,
     "end_time": "2023-09-05T10:17:22.174036",
     "exception": false,
     "start_time": "2023-09-05T10:17:21.768856",
     "status": "completed"
    },
    "tags": []
   },
   "outputs": [
    {
     "data": {
      "image/png": "[encoded data removed]",
      "text/plain": [
       "<Figure size 300x400 with 1 Axes>"
      ]
     },
     "metadata": {},
     "output_type": "display_data"
    }
   ],
   "source": [
    "plt.figure(figsize=(3,4))\n",
    "ax = sns.countplot(x='is_fraud',data=train_df,palette=\"pastel\")\n",
    "for i in ax.containers:\n",
    "    ax.bar_label(i,)"
   ]
  },
  {
   "cell_type": "code",
   "execution_count": 81,
   "id": "aa612a24",
   "metadata": {
    "_cell_guid": "18dc7dd4-cead-4668-9cfc-70f84c315993",
    "_uuid": "32a6604d-d28d-4379-b95e-d28681a0626a",
    "execution": {
     "iopub.execute_input": "2023-09-05T10:17:22.223550Z",
     "iopub.status.busy": "2023-09-05T10:17:22.222709Z",
     "iopub.status.idle": "2023-09-05T10:17:22.263567Z",
     "shell.execute_reply": "2023-09-05T10:17:22.262426Z"
    },
    "jupyter": {
     "outputs_hidden": false
    },
    "papermill": {
     "duration": 0.069347,
     "end_time": "2023-09-05T10:17:22.265998",
     "exception": false,
     "start_time": "2023-09-05T10:17:22.196651",
     "status": "completed"
    },
    "tags": []
   },
   "outputs": [
    {
     "name": "stdout",
     "output_type": "stream",
     "text": [
      "Genuine: 99.42 % of the dataset\n",
      "Frauds: 0.58 % of the dataset\n"
     ]
    }
   ],
   "source": [
    "print('Genuine:', round(train_df['is_fraud'].value_counts()[0]/len(train_df) * 100,2), '% of the dataset')\n",
    "print('Frauds:', round(train_df['is_fraud'].value_counts()[1]/len(train_df) * 100,2), '% of the dataset')"
   ]
  },
  {
   "cell_type": "markdown",
   "id": "e257ad1f",
   "metadata": {
    "_cell_guid": "c1e421a1-b2ba-473c-b53a-79f869b00383",
    "_uuid": "d3c1bb9c-48f4-4f47-9cd9-dfac3b7fa190",
    "papermill": {
     "duration": 0.016609,
     "end_time": "2023-09-05T10:17:22.303658",
     "exception": false,
     "start_time": "2023-09-05T10:17:22.287049",
     "status": "completed"
    },
    "tags": []
   },
   "source": [
    "In this dataset:\n",
    "\n",
    "we have 99.42% of Genuine transactions and only 0,58% (7506) of fraud transactions; which means that a blind guess (bet on Genuine) would give us accuracy of 99.42%."
   ]
  },
  {
   "cell_type": "markdown",
   "id": "214d39da",
   "metadata": {
    "_cell_guid": "39430740-b599-4ec5-be9b-4fdc8f60b20d",
    "_uuid": "742fb8cb-4d23-4885-89ee-28703d6ea9c8",
    "papermill": {
     "duration": 0.01669,
     "end_time": "2023-09-05T10:17:22.337334",
     "exception": false,
     "start_time": "2023-09-05T10:17:22.320644",
     "status": "completed"
    },
    "tags": []
   },
   "source": [
    "# Data cleaning"
   ]
  },
  {
   "cell_type": "code",
   "execution_count": 82,
   "id": "2530de29",
   "metadata": {
    "_cell_guid": "9941dbef-532a-4771-8068-7afe93ea5025",
    "_uuid": "16e77372-3b18-4109-ba22-ebad5119c5dd",
    "execution": {
     "iopub.execute_input": "2023-09-05T10:17:22.374344Z",
     "iopub.status.busy": "2023-09-05T10:17:22.373524Z",
     "iopub.status.idle": "2023-09-05T10:17:29.445115Z",
     "shell.execute_reply": "2023-09-05T10:17:29.443900Z"
    },
    "jupyter": {
     "outputs_hidden": false
    },
    "papermill": {
     "duration": 7.092893,
     "end_time": "2023-09-05T10:17:29.447737",
     "exception": false,
     "start_time": "2023-09-05T10:17:22.354844",
     "status": "completed"
    },
    "tags": []
   },
   "outputs": [
    {
     "name": "stdout",
     "output_type": "stream",
     "text": [
      "<class 'pandas.core.frame.DataFrame'>\n",
      "RangeIndex: 1296675 entries, 0 to 1296674\n",
      "Data columns (total 23 columns):\n",
      " #   Column                 Non-Null Count    Dtype  \n",
      "---  ------                 --------------    -----  \n",
      " 0   Unnamed: 0             1296675 non-null  int64  \n",
      " 1   trans_date_trans_time  1296675 non-null  object \n",
      " 2   cc_num                 1296675 non-null  int64  \n",
      " 3   merchant               1296675 non-null  object \n",
      " 4   category               1296675 non-null  object \n",
      " 5   amt                    1296675 non-null  float64\n",
      " 6   first                  1296675 non-null  object \n",
      " 7   last                   1296675 non-null  object \n",
      " 8   gender                 1296675 non-null  object \n",
      " 9   street                 1296675 non-null  object \n",
      " 10  city                   1296675 non-null  object \n",
      " 11  state                  1296675 non-null  object \n",
      " 12  zip                    1296675 non-null  int64  \n",
      " 13  lat                    1296675 non-null  float64\n",
      " 14  long                   1296675 non-null  float64\n",
      " 15  city_pop               1296675 non-null  int64  \n",
      " 16  job                    1296675 non-null  object \n",
      " 17  dob                    1296675 non-null  object \n",
      " 18  trans_num              1296675 non-null  object \n",
      " 19  unix_time              1296675 non-null  int64  \n",
      " 20  merch_lat              1296675 non-null  float64\n",
      " 21  merch_long             1296675 non-null  float64\n",
      " 22  is_fraud               1296675 non-null  int64  \n",
      "dtypes: float64(5), int64(6), object(12)\n",
      "memory usage: 227.5+ MB\n",
      "None\n",
      "<class 'pandas.core.frame.DataFrame'>\n",
      "RangeIndex: 555719 entries, 0 to 555718\n",
      "Data columns (total 23 columns):\n",
      " #   Column                 Non-Null Count   Dtype  \n",
      "---  ------                 --------------   -----  \n",
      " 0   Unnamed: 0             555719 non-null  int64  \n",
      " 1   trans_date_trans_time  555719 non-null  object \n",
      " 2   cc_num                 555719 non-null  int64  \n",
      " 3   merchant               555719 non-null  object \n",
      " 4   category               555719 non-null  object \n",
      " 5   amt                    555719 non-null  float64\n",
      " 6   first                  555719 non-null  object \n",
      " 7   last                   555719 non-null  object \n",
      " 8   gender                 555719 non-null  object \n",
      " 9   street                 555719 non-null  object \n",
      " 10  city                   555719 non-null  object \n",
      " 11  state                  555719 non-null  object \n",
      " 12  zip                    555719 non-null  int64  \n",
      " 13  lat                    555719 non-null  float64\n",
      " 14  long                   555719 non-null  float64\n",
      " 15  city_pop               555719 non-null  int64  \n",
      " 16  job                    555719 non-null  object \n",
      " 17  dob                    555719 non-null  object \n",
      " 18  trans_num              555719 non-null  object \n",
      " 19  unix_time              555719 non-null  int64  \n",
      " 20  merch_lat              555719 non-null  float64\n",
      " 21  merch_long             555719 non-null  float64\n",
      " 22  is_fraud               555719 non-null  int64  \n",
      "dtypes: float64(5), int64(6), object(12)\n",
      "memory usage: 97.5+ MB\n",
      "None\n"
     ]
    }
   ],
   "source": [
    "print(train_df.info())\n",
    "print(test_df.info())"
   ]
  },
  {
   "cell_type": "code",
   "execution_count": 83,
   "id": "3325955a",
   "metadata": {
    "_cell_guid": "2e098140-9400-4459-bc5e-349ccf5d7d4d",
    "_uuid": "64cfbb82-ae5b-4c0f-8c98-f4b45f925151",
    "execution": {
     "iopub.execute_input": "2023-09-05T10:17:29.484555Z",
     "iopub.status.busy": "2023-09-05T10:17:29.484118Z",
     "iopub.status.idle": "2023-09-05T10:17:36.539956Z",
     "shell.execute_reply": "2023-09-05T10:17:36.538746Z"
    },
    "jupyter": {
     "outputs_hidden": false
    },
    "papermill": {
     "duration": 7.077663,
     "end_time": "2023-09-05T10:17:36.542680",
     "exception": false,
     "start_time": "2023-09-05T10:17:29.465017",
     "status": "completed"
    },
    "tags": []
   },
   "outputs": [
    {
     "data": {
      "text/plain": [
       "(Unnamed: 0               0\n",
       " trans_date_trans_time    0\n",
       " cc_num                   0\n",
       " merchant                 0\n",
       " category                 0\n",
       " amt                      0\n",
       " first                    0\n",
       " last                     0\n",
       " gender                   0\n",
       " street                   0\n",
       " city                     0\n",
       " state                    0\n",
       " zip                      0\n",
       " lat                      0\n",
       " long                     0\n",
       " city_pop                 0\n",
       " job                      0\n",
       " dob                      0\n",
       " trans_num                0\n",
       " unix_time                0\n",
       " merch_lat                0\n",
       " merch_long               0\n",
       " is_fraud                 0\n",
       " dtype: int64,\n",
       " Unnamed: 0               0\n",
       " trans_date_trans_time    0\n",
       " cc_num                   0\n",
       " merchant                 0\n",
       " category                 0\n",
       " amt                      0\n",
       " first                    0\n",
       " last                     0\n",
       " gender                   0\n",
       " street                   0\n",
       " city                     0\n",
       " state                    0\n",
       " zip                      0\n",
       " lat                      0\n",
       " long                     0\n",
       " city_pop                 0\n",
       " job                      0\n",
       " dob                      0\n",
       " trans_num                0\n",
       " unix_time                0\n",
       " merch_lat                0\n",
       " merch_long               0\n",
       " is_fraud                 0\n",
       " dtype: int64)"
      ]
     },
     "execution_count": 83,
     "metadata": {},
     "output_type": "execute_result"
    }
   ],
   "source": [
    "train_df.isnull().sum(),test_df.isnull().sum()"
   ]
  },
  {
   "cell_type": "markdown",
   "id": "6bf72beb",
   "metadata": {
    "_cell_guid": "ad98593c-28ba-4095-b7c7-657efbc2e04f",
    "_uuid": "e98d2eb9-1b23-41c4-bd25-7ec2b4a434ad",
    "papermill": {
     "duration": 0.017531,
     "end_time": "2023-09-05T10:17:36.577854",
     "exception": false,
     "start_time": "2023-09-05T10:17:36.560323",
     "status": "completed"
    },
    "tags": []
   },
   "source": [
    "### 1. Drop Columns"
   ]
  },
  {
   "cell_type": "code",
   "execution_count": 84,
   "id": "feaa8466",
   "metadata": {
    "_cell_guid": "e7bdb7dc-e32f-440c-8742-4013bc5a1696",
    "_uuid": "6720cc3e-008f-47b8-9fbb-a007399dbb34",
    "execution": {
     "iopub.execute_input": "2023-09-05T10:17:36.615234Z",
     "iopub.status.busy": "2023-09-05T10:17:36.614806Z",
     "iopub.status.idle": "2023-09-05T10:17:36.802979Z",
     "shell.execute_reply": "2023-09-05T10:17:36.801906Z"
    },
    "jupyter": {
     "outputs_hidden": false
    },
    "papermill": {
     "duration": 0.210448,
     "end_time": "2023-09-05T10:17:36.805856",
     "exception": false,
     "start_time": "2023-09-05T10:17:36.595408",
     "status": "completed"
    },
    "tags": []
   },
   "outputs": [],
   "source": [
    "#Drop Columns that are not relevant to predicy fraud transaction\n",
    "drop_columns = ['Unnamed: 0','cc_num','merchant','trans_num','unix_time','first','last','street','zip']\n",
    "train_df.drop(columns=drop_columns,inplace=True)\n",
    "test_df.drop(columns=drop_columns,inplace=True)"
   ]
  },
  {
   "cell_type": "code",
   "execution_count": 85,
   "id": "e9486d6b",
   "metadata": {
    "_cell_guid": "cb9f57c6-3a55-4ab9-ab52-853d82926913",
    "_uuid": "346f8f21-1e68-4941-bb06-31023317ac6e",
    "execution": {
     "iopub.execute_input": "2023-09-05T10:17:36.842357Z",
     "iopub.status.busy": "2023-09-05T10:17:36.841944Z",
     "iopub.status.idle": "2023-09-05T10:17:36.848233Z",
     "shell.execute_reply": "2023-09-05T10:17:36.846936Z"
    },
    "jupyter": {
     "outputs_hidden": false
    },
    "papermill": {
     "duration": 0.027112,
     "end_time": "2023-09-05T10:17:36.850500",
     "exception": false,
     "start_time": "2023-09-05T10:17:36.823388",
     "status": "completed"
    },
    "tags": []
   },
   "outputs": [
    {
     "name": "stdout",
     "output_type": "stream",
     "text": [
      "(1296675, 14)\n",
      "(555719, 14)\n"
     ]
    }
   ],
   "source": [
    "print(train_df.shape)\n",
    "print(test_df.shape)"
   ]
  },
  {
   "cell_type": "markdown",
   "id": "4b65e4f3",
   "metadata": {
    "_cell_guid": "c7d671ec-5120-4b59-a7c2-a9e97f0e31d5",
    "_uuid": "eb82e193-cb1a-46b5-b39b-015430d48d06",
    "papermill": {
     "duration": 0.017151,
     "end_time": "2023-09-05T10:17:36.885270",
     "exception": false,
     "start_time": "2023-09-05T10:17:36.868119",
     "status": "completed"
    },
    "tags": []
   },
   "source": [
    "### 2. Handle Date time"
   ]
  },
  {
   "cell_type": "code",
   "execution_count": 86,
   "id": "a1cb4ee2",
   "metadata": {
    "_cell_guid": "f19b37e2-50f5-481c-84c5-9abae0e583f9",
    "_uuid": "884b0046-f8d6-4a9a-ad1f-785b03f0f455",
    "execution": {
     "iopub.execute_input": "2023-09-05T10:17:36.921920Z",
     "iopub.status.busy": "2023-09-05T10:17:36.921525Z",
     "iopub.status.idle": "2023-09-05T10:17:41.061367Z",
     "shell.execute_reply": "2023-09-05T10:17:41.060268Z"
    },
    "jupyter": {
     "outputs_hidden": false
    },
    "papermill": {
     "duration": 4.161408,
     "end_time": "2023-09-05T10:17:41.064063",
     "exception": false,
     "start_time": "2023-09-05T10:17:36.902655",
     "status": "completed"
    },
    "tags": []
   },
   "outputs": [],
   "source": [
    "train_df['trans_date_trans_time']=pd.to_datetime(train_df['trans_date_trans_time'])\n",
    "train_df['trans_date']=train_df['trans_date_trans_time'].dt.strftime('%Y-%m-%d')\n",
    "train_df['trans_date']=pd.to_datetime(train_df['trans_date'])\n",
    "train_df['dob']=pd.to_datetime(train_df['dob'])\n",
    "\n",
    "test_df['trans_date_trans_time']=pd.to_datetime(test_df['trans_date_trans_time'])\n",
    "test_df['trans_date']=test_df['trans_date_trans_time'].dt.strftime('%Y-%m-%d')\n",
    "test_df['trans_date']=pd.to_datetime(test_df['trans_date'])\n",
    "test_df['dob']=pd.to_datetime(test_df['dob'])"
   ]
  },
  {
   "cell_type": "markdown",
   "id": "8873bc07",
   "metadata": {
    "_cell_guid": "1008f6f4-179c-481e-92c4-23390b4ea6b8",
    "_uuid": "db8ab893-229b-4666-b93d-cbf3166dcfbc",
    "papermill": {
     "duration": 0.017171,
     "end_time": "2023-09-05T10:17:41.099135",
     "exception": false,
     "start_time": "2023-09-05T10:17:41.081964",
     "status": "completed"
    },
    "tags": []
   },
   "source": [
    "# Data Preprocessing"
   ]
  },
  {
   "cell_type": "markdown",
   "id": "49a1ccac",
   "metadata": {
    "_cell_guid": "98e7da09-e544-479f-b513-5906e621e279",
    "_uuid": "78bb2c3f-f87c-4024-bfa2-8fa831f700be",
    "papermill": {
     "duration": 0.017045,
     "end_time": "2023-09-05T10:17:41.133523",
     "exception": false,
     "start_time": "2023-09-05T10:17:41.116478",
     "status": "completed"
    },
    "tags": []
   },
   "source": [
    "### 1. Feature Engineering"
   ]
  },
  {
   "cell_type": "code",
   "execution_count": 87,
   "id": "5fb4ee7b",
   "metadata": {
    "_cell_guid": "244777b2-b3b6-400d-9cd7-2dd79ccecf0f",
    "_uuid": "cb2541b1-8762-4221-859c-a00ae712188a",
    "execution": {
     "iopub.execute_input": "2023-09-05T10:17:41.169934Z",
     "iopub.status.busy": "2023-09-05T10:17:41.169535Z",
     "iopub.status.idle": "2023-09-05T10:17:41.316715Z",
     "shell.execute_reply": "2023-09-05T10:17:41.315431Z"
    },
    "jupyter": {
     "outputs_hidden": false
    },
    "papermill": {
     "duration": 0.16885,
     "end_time": "2023-09-05T10:17:41.319602",
     "exception": false,
     "start_time": "2023-09-05T10:17:41.150752",
     "status": "completed"
    },
    "tags": []
   },
   "outputs": [],
   "source": [
    "#Calculate Age\n",
    "train_df[\"age\"] = train_df[\"trans_date\"]-train_df[\"dob\"]\n",
    "train_df[\"age\"]=train_df[\"age\"].astype('timedelta64[Y]')\n",
    "\n",
    "test_df[\"age\"] = test_df[\"trans_date\"]-test_df[\"dob\"]\n",
    "test_df[\"age\"]=test_df[\"age\"].astype('timedelta64[Y]')"
   ]
  },
  {
   "cell_type": "code",
   "execution_count": 88,
   "id": "6ef45004",
   "metadata": {
    "_cell_guid": "588a1620-c10a-410d-bdc0-c83fb35c7a66",
    "_uuid": "ca5ca60b-8f29-4a47-b5db-bd4d0c1cf3c9",
    "execution": {
     "iopub.execute_input": "2023-09-05T10:17:41.356140Z",
     "iopub.status.busy": "2023-09-05T10:17:41.355730Z",
     "iopub.status.idle": "2023-09-05T10:17:41.602593Z",
     "shell.execute_reply": "2023-09-05T10:17:41.601359Z"
    },
    "jupyter": {
     "outputs_hidden": false
    },
    "papermill": {
     "duration": 0.2681,
     "end_time": "2023-09-05T10:17:41.605389",
     "exception": false,
     "start_time": "2023-09-05T10:17:41.337289",
     "status": "completed"
    },
    "tags": []
   },
   "outputs": [],
   "source": [
    "# Get Transaction Month & Year\n",
    "train_df['trans_month'] = pd.DatetimeIndex(train_df['trans_date']).month\n",
    "train_df['trans_year'] = pd.DatetimeIndex(train_df['trans_date']).year"
   ]
  },
  {
   "cell_type": "code",
   "execution_count": 89,
   "id": "fc1bc58a",
   "metadata": {
    "_cell_guid": "42fe896e-b1ee-4cb0-aead-ba326c3a023f",
    "_uuid": "a3d9c71b-fac6-483f-8121-e1087719fa91",
    "execution": {
     "iopub.execute_input": "2023-09-05T10:17:41.642031Z",
     "iopub.status.busy": "2023-09-05T10:17:41.641588Z",
     "iopub.status.idle": "2023-09-05T10:17:41.681714Z",
     "shell.execute_reply": "2023-09-05T10:17:41.680466Z"
    },
    "jupyter": {
     "outputs_hidden": false
    },
    "papermill": {
     "duration": 0.061982,
     "end_time": "2023-09-05T10:17:41.684393",
     "exception": false,
     "start_time": "2023-09-05T10:17:41.622411",
     "status": "completed"
    },
    "tags": []
   },
   "outputs": [],
   "source": [
    "#Calculate distance between merchant and home location\n",
    "train_df['latitudinal_distance'] = abs(round(train_df['merch_lat']-train_df['lat'],3))\n",
    "train_df['longitudinal_distance'] = abs(round(train_df['merch_long']-train_df['long'],3))\n",
    "\n",
    "test_df['latitudinal_distance'] = abs(round(test_df['merch_lat']-test_df['lat'],3))\n",
    "test_df['longitudinal_distance'] = abs(round(test_df['merch_long']-test_df['long'],3))"
   ]
  },
  {
   "cell_type": "code",
   "execution_count": 90,
   "id": "dfca4d7e",
   "metadata": {
    "_cell_guid": "2754bb04-d3ad-437c-af05-54b5a685151c",
    "_uuid": "32ae0e98-47c9-4cef-9975-bceefcb81e86",
    "execution": {
     "iopub.execute_input": "2023-09-05T10:17:41.721113Z",
     "iopub.status.busy": "2023-09-05T10:17:41.720726Z",
     "iopub.status.idle": "2023-09-05T10:17:41.849160Z",
     "shell.execute_reply": "2023-09-05T10:17:41.848062Z"
    },
    "jupyter": {
     "outputs_hidden": false
    },
    "papermill": {
     "duration": 0.149905,
     "end_time": "2023-09-05T10:17:41.851959",
     "exception": false,
     "start_time": "2023-09-05T10:17:41.702054",
     "status": "completed"
    },
    "tags": []
   },
   "outputs": [],
   "source": [
    "#Drop Columns that are not relevant to predicy fraud transaction\n",
    "drop_columns = ['trans_date_trans_time','city','lat','long','job','dob','merch_lat','merch_long','trans_date','state']\n",
    "train_df.drop(columns=drop_columns,inplace=True)\n",
    "test_df.drop(columns=drop_columns,inplace=True)"
   ]
  },
  {
   "cell_type": "code",
   "execution_count": 91,
   "id": "6237c8e5",
   "metadata": {
    "_cell_guid": "642c6b11-b9c1-45b8-ba4b-f1ecaf915cc7",
    "_uuid": "645d992c-4e40-456e-bfeb-01db3100e294",
    "execution": {
     "iopub.execute_input": "2023-09-05T10:17:41.889164Z",
     "iopub.status.busy": "2023-09-05T10:17:41.888708Z",
     "iopub.status.idle": "2023-09-05T10:17:43.288246Z",
     "shell.execute_reply": "2023-09-05T10:17:43.287077Z"
    },
    "jupyter": {
     "outputs_hidden": false
    },
    "papermill": {
     "duration": 1.421321,
     "end_time": "2023-09-05T10:17:43.290972",
     "exception": false,
     "start_time": "2023-09-05T10:17:41.869651",
     "status": "completed"
    },
    "tags": []
   },
   "outputs": [],
   "source": [
    "# Convert categorical column gender into numerical \n",
    "train_df.gender=train_df.gender.apply(lambda x: 1 if x==\"M\" else 0)\n",
    "test_df.gender=test_df.gender.apply(lambda x: 1 if x==\"M\" else 0)"
   ]
  },
  {
   "cell_type": "code",
   "execution_count": 92,
   "id": "23d98b36",
   "metadata": {
    "_cell_guid": "b456b62e-4b16-49c4-985d-17e2a5a0f408",
    "_uuid": "46e3d06d-e96e-4fc7-8c4d-7ab0796fe99d",
    "execution": {
     "iopub.execute_input": "2023-09-05T10:17:43.327426Z",
     "iopub.status.busy": "2023-09-05T10:17:43.327012Z",
     "iopub.status.idle": "2023-09-05T10:17:43.900924Z",
     "shell.execute_reply": "2023-09-05T10:17:43.899671Z"
    },
    "jupyter": {
     "outputs_hidden": false
    },
    "papermill": {
     "duration": 0.595292,
     "end_time": "2023-09-05T10:17:43.903686",
     "exception": false,
     "start_time": "2023-09-05T10:17:43.308394",
     "status": "completed"
    },
    "tags": []
   },
   "outputs": [],
   "source": [
    "#One Hot Encoding of Category column\n",
    "train_df = pd.get_dummies(train_df, columns=['category'], prefix='category')\n",
    "test_df = pd.get_dummies(test_df, columns=['category'], prefix='category')\n",
    "\n",
    "test_df = test_df.reindex(columns=train_df.columns, fill_value=0)"
   ]
  },
  {
   "cell_type": "code",
   "execution_count": 93,
   "id": "d2c88786",
   "metadata": {
    "_cell_guid": "1783bf92-9d70-4375-acc1-385ef87e9cec",
    "_uuid": "62e01b72-638c-4ae3-9e53-74d695a22bdc",
    "execution": {
     "iopub.execute_input": "2023-09-05T10:17:43.940589Z",
     "iopub.status.busy": "2023-09-05T10:17:43.940159Z",
     "iopub.status.idle": "2023-09-05T10:17:43.963567Z",
     "shell.execute_reply": "2023-09-05T10:17:43.962274Z"
    },
    "jupyter": {
     "outputs_hidden": false
    },
    "papermill": {
     "duration": 0.0446,
     "end_time": "2023-09-05T10:17:43.965800",
     "exception": false,
     "start_time": "2023-09-05T10:17:43.921200",
     "status": "completed"
    },
    "tags": []
   },
   "outputs": [
    {
     "data": {
      "text/html": [
       "<div>\n",
       "<style scoped>\n",
       "    .dataframe tbody tr th:only-of-type {\n",
       "        vertical-align: middle;\n",
       "    }\n",
       "\n",
       "    .dataframe tbody tr th {\n",
       "        vertical-align: top;\n",
       "    }\n",
       "\n",
       "    .dataframe thead th {\n",
       "        text-align: right;\n",
       "    }\n",
       "</style>\n",
       "<table border=\"1\" class=\"dataframe\">\n",
       "  <thead>\n",
       "    <tr style=\"text-align: right;\">\n",
       "      <th></th>\n",
       "      <th>amt</th>\n",
       "      <th>gender</th>\n",
       "      <th>city_pop</th>\n",
       "      <th>is_fraud</th>\n",
       "      <th>age</th>\n",
       "      <th>trans_month</th>\n",
       "      <th>trans_year</th>\n",
       "      <th>latitudinal_distance</th>\n",
       "      <th>longitudinal_distance</th>\n",
       "      <th>category_entertainment</th>\n",
       "      <th>...</th>\n",
       "      <th>category_grocery_pos</th>\n",
       "      <th>category_health_fitness</th>\n",
       "      <th>category_home</th>\n",
       "      <th>category_kids_pets</th>\n",
       "      <th>category_misc_net</th>\n",
       "      <th>category_misc_pos</th>\n",
       "      <th>category_personal_care</th>\n",
       "      <th>category_shopping_net</th>\n",
       "      <th>category_shopping_pos</th>\n",
       "      <th>category_travel</th>\n",
       "    </tr>\n",
       "  </thead>\n",
       "  <tbody>\n",
       "    <tr>\n",
       "      <th>0</th>\n",
       "      <td>4.97</td>\n",
       "      <td>0</td>\n",
       "      <td>3495</td>\n",
       "      <td>0</td>\n",
       "      <td>30.0</td>\n",
       "      <td>1</td>\n",
       "      <td>2019</td>\n",
       "      <td>0.068</td>\n",
       "      <td>0.870</td>\n",
       "      <td>0</td>\n",
       "      <td>...</td>\n",
       "      <td>0</td>\n",
       "      <td>0</td>\n",
       "      <td>0</td>\n",
       "      <td>0</td>\n",
       "      <td>1</td>\n",
       "      <td>0</td>\n",
       "      <td>0</td>\n",
       "      <td>0</td>\n",
       "      <td>0</td>\n",
       "      <td>0</td>\n",
       "    </tr>\n",
       "    <tr>\n",
       "      <th>1</th>\n",
       "      <td>107.23</td>\n",
       "      <td>0</td>\n",
       "      <td>149</td>\n",
       "      <td>0</td>\n",
       "      <td>40.0</td>\n",
       "      <td>1</td>\n",
       "      <td>2019</td>\n",
       "      <td>0.271</td>\n",
       "      <td>0.024</td>\n",
       "      <td>0</td>\n",
       "      <td>...</td>\n",
       "      <td>1</td>\n",
       "      <td>0</td>\n",
       "      <td>0</td>\n",
       "      <td>0</td>\n",
       "      <td>0</td>\n",
       "      <td>0</td>\n",
       "      <td>0</td>\n",
       "      <td>0</td>\n",
       "      <td>0</td>\n",
       "      <td>0</td>\n",
       "    </tr>\n",
       "    <tr>\n",
       "      <th>2</th>\n",
       "      <td>220.11</td>\n",
       "      <td>1</td>\n",
       "      <td>4154</td>\n",
       "      <td>0</td>\n",
       "      <td>56.0</td>\n",
       "      <td>1</td>\n",
       "      <td>2019</td>\n",
       "      <td>0.970</td>\n",
       "      <td>0.108</td>\n",
       "      <td>1</td>\n",
       "      <td>...</td>\n",
       "      <td>0</td>\n",
       "      <td>0</td>\n",
       "      <td>0</td>\n",
       "      <td>0</td>\n",
       "      <td>0</td>\n",
       "      <td>0</td>\n",
       "      <td>0</td>\n",
       "      <td>0</td>\n",
       "      <td>0</td>\n",
       "      <td>0</td>\n",
       "    </tr>\n",
       "    <tr>\n",
       "      <th>3</th>\n",
       "      <td>45.00</td>\n",
       "      <td>1</td>\n",
       "      <td>1939</td>\n",
       "      <td>0</td>\n",
       "      <td>51.0</td>\n",
       "      <td>1</td>\n",
       "      <td>2019</td>\n",
       "      <td>0.804</td>\n",
       "      <td>0.447</td>\n",
       "      <td>0</td>\n",
       "      <td>...</td>\n",
       "      <td>0</td>\n",
       "      <td>0</td>\n",
       "      <td>0</td>\n",
       "      <td>0</td>\n",
       "      <td>0</td>\n",
       "      <td>0</td>\n",
       "      <td>0</td>\n",
       "      <td>0</td>\n",
       "      <td>0</td>\n",
       "      <td>0</td>\n",
       "    </tr>\n",
       "    <tr>\n",
       "      <th>4</th>\n",
       "      <td>41.96</td>\n",
       "      <td>1</td>\n",
       "      <td>99</td>\n",
       "      <td>0</td>\n",
       "      <td>32.0</td>\n",
       "      <td>1</td>\n",
       "      <td>2019</td>\n",
       "      <td>0.254</td>\n",
       "      <td>0.830</td>\n",
       "      <td>0</td>\n",
       "      <td>...</td>\n",
       "      <td>0</td>\n",
       "      <td>0</td>\n",
       "      <td>0</td>\n",
       "      <td>0</td>\n",
       "      <td>0</td>\n",
       "      <td>1</td>\n",
       "      <td>0</td>\n",
       "      <td>0</td>\n",
       "      <td>0</td>\n",
       "      <td>0</td>\n",
       "    </tr>\n",
       "  </tbody>\n",
       "</table>\n",
       "<p>5 rows × 23 columns</p>\n",
       "</div>"
      ],
      "text/plain": [
       "      amt  gender  city_pop  is_fraud   age  trans_month  trans_year  \\\n",
       "0    4.97       0      3495         0  30.0            1        2019   \n",
       "1  107.23       0       149         0  40.0            1        2019   \n",
       "2  220.11       1      4154         0  56.0            1        2019   \n",
       "3   45.00       1      1939         0  51.0            1        2019   \n",
       "4   41.96       1        99         0  32.0            1        2019   \n",
       "\n",
       "   latitudinal_distance  longitudinal_distance  category_entertainment  ...  \\\n",
       "0                 0.068                  0.870                       0  ...   \n",
       "1                 0.271                  0.024                       0  ...   \n",
       "2                 0.970                  0.108                       1  ...   \n",
       "3                 0.804                  0.447                       0  ...   \n",
       "4                 0.254                  0.830                       0  ...   \n",
       "\n",
       "   category_grocery_pos  category_health_fitness  category_home  \\\n",
       "0                     0                        0              0   \n",
       "1                     1                        0              0   \n",
       "2                     0                        0              0   \n",
       "3                     0                        0              0   \n",
       "4                     0                        0              0   \n",
       "\n",
       "   category_kids_pets  category_misc_net  category_misc_pos  \\\n",
       "0                   0                  1                  0   \n",
       "1                   0                  0                  0   \n",
       "2                   0                  0                  0   \n",
       "3                   0                  0                  0   \n",
       "4                   0                  0                  1   \n",
       "\n",
       "   category_personal_care  category_shopping_net  category_shopping_pos  \\\n",
       "0                       0                      0                      0   \n",
       "1                       0                      0                      0   \n",
       "2                       0                      0                      0   \n",
       "3                       0                      0                      0   \n",
       "4                       0                      0                      0   \n",
       "\n",
       "   category_travel  \n",
       "0                0  \n",
       "1                0  \n",
       "2                0  \n",
       "3                0  \n",
       "4                0  \n",
       "\n",
       "[5 rows x 23 columns]"
      ]
     },
     "execution_count": 93,
     "metadata": {},
     "output_type": "execute_result"
    }
   ],
   "source": [
    "train_df.head()"
   ]
  },
  {
   "cell_type": "code",
   "execution_count": 94,
   "id": "6e224de4",
   "metadata": {
    "_cell_guid": "fbbd8e70-6278-4808-b36c-894abd3e210f",
    "_uuid": "5690ef40-4dd5-4db0-8fb1-6701d6d73df2",
    "execution": {
     "iopub.execute_input": "2023-09-05T10:17:44.003845Z",
     "iopub.status.busy": "2023-09-05T10:17:44.003406Z",
     "iopub.status.idle": "2023-09-05T10:17:44.029739Z",
     "shell.execute_reply": "2023-09-05T10:17:44.028389Z"
    },
    "jupyter": {
     "outputs_hidden": false
    },
    "papermill": {
     "duration": 0.048569,
     "end_time": "2023-09-05T10:17:44.032163",
     "exception": false,
     "start_time": "2023-09-05T10:17:43.983594",
     "status": "completed"
    },
    "tags": []
   },
   "outputs": [
    {
     "data": {
      "text/html": [
       "<div>\n",
       "<style scoped>\n",
       "    .dataframe tbody tr th:only-of-type {\n",
       "        vertical-align: middle;\n",
       "    }\n",
       "\n",
       "    .dataframe tbody tr th {\n",
       "        vertical-align: top;\n",
       "    }\n",
       "\n",
       "    .dataframe thead th {\n",
       "        text-align: right;\n",
       "    }\n",
       "</style>\n",
       "<table border=\"1\" class=\"dataframe\">\n",
       "  <thead>\n",
       "    <tr style=\"text-align: right;\">\n",
       "      <th></th>\n",
       "      <th>amt</th>\n",
       "      <th>gender</th>\n",
       "      <th>city_pop</th>\n",
       "      <th>is_fraud</th>\n",
       "      <th>age</th>\n",
       "      <th>trans_month</th>\n",
       "      <th>trans_year</th>\n",
       "      <th>latitudinal_distance</th>\n",
       "      <th>longitudinal_distance</th>\n",
       "      <th>category_entertainment</th>\n",
       "      <th>...</th>\n",
       "      <th>category_grocery_pos</th>\n",
       "      <th>category_health_fitness</th>\n",
       "      <th>category_home</th>\n",
       "      <th>category_kids_pets</th>\n",
       "      <th>category_misc_net</th>\n",
       "      <th>category_misc_pos</th>\n",
       "      <th>category_personal_care</th>\n",
       "      <th>category_shopping_net</th>\n",
       "      <th>category_shopping_pos</th>\n",
       "      <th>category_travel</th>\n",
       "    </tr>\n",
       "  </thead>\n",
       "  <tbody>\n",
       "    <tr>\n",
       "      <th>0</th>\n",
       "      <td>2.86</td>\n",
       "      <td>1</td>\n",
       "      <td>333497</td>\n",
       "      <td>0</td>\n",
       "      <td>52.0</td>\n",
       "      <td>0</td>\n",
       "      <td>0</td>\n",
       "      <td>0.020</td>\n",
       "      <td>0.265</td>\n",
       "      <td>0</td>\n",
       "      <td>...</td>\n",
       "      <td>0</td>\n",
       "      <td>0</td>\n",
       "      <td>0</td>\n",
       "      <td>0</td>\n",
       "      <td>0</td>\n",
       "      <td>0</td>\n",
       "      <td>1</td>\n",
       "      <td>0</td>\n",
       "      <td>0</td>\n",
       "      <td>0</td>\n",
       "    </tr>\n",
       "    <tr>\n",
       "      <th>1</th>\n",
       "      <td>29.84</td>\n",
       "      <td>0</td>\n",
       "      <td>302</td>\n",
       "      <td>0</td>\n",
       "      <td>30.0</td>\n",
       "      <td>0</td>\n",
       "      <td>0</td>\n",
       "      <td>0.870</td>\n",
       "      <td>0.476</td>\n",
       "      <td>0</td>\n",
       "      <td>...</td>\n",
       "      <td>0</td>\n",
       "      <td>0</td>\n",
       "      <td>0</td>\n",
       "      <td>0</td>\n",
       "      <td>0</td>\n",
       "      <td>0</td>\n",
       "      <td>1</td>\n",
       "      <td>0</td>\n",
       "      <td>0</td>\n",
       "      <td>0</td>\n",
       "    </tr>\n",
       "    <tr>\n",
       "      <th>2</th>\n",
       "      <td>41.28</td>\n",
       "      <td>0</td>\n",
       "      <td>34496</td>\n",
       "      <td>0</td>\n",
       "      <td>49.0</td>\n",
       "      <td>0</td>\n",
       "      <td>0</td>\n",
       "      <td>0.177</td>\n",
       "      <td>0.660</td>\n",
       "      <td>0</td>\n",
       "      <td>...</td>\n",
       "      <td>0</td>\n",
       "      <td>1</td>\n",
       "      <td>0</td>\n",
       "      <td>0</td>\n",
       "      <td>0</td>\n",
       "      <td>0</td>\n",
       "      <td>0</td>\n",
       "      <td>0</td>\n",
       "      <td>0</td>\n",
       "      <td>0</td>\n",
       "    </tr>\n",
       "    <tr>\n",
       "      <th>3</th>\n",
       "      <td>60.05</td>\n",
       "      <td>1</td>\n",
       "      <td>54767</td>\n",
       "      <td>0</td>\n",
       "      <td>32.0</td>\n",
       "      <td>0</td>\n",
       "      <td>0</td>\n",
       "      <td>0.243</td>\n",
       "      <td>0.064</td>\n",
       "      <td>0</td>\n",
       "      <td>...</td>\n",
       "      <td>0</td>\n",
       "      <td>0</td>\n",
       "      <td>0</td>\n",
       "      <td>0</td>\n",
       "      <td>0</td>\n",
       "      <td>1</td>\n",
       "      <td>0</td>\n",
       "      <td>0</td>\n",
       "      <td>0</td>\n",
       "      <td>0</td>\n",
       "    </tr>\n",
       "    <tr>\n",
       "      <th>4</th>\n",
       "      <td>3.19</td>\n",
       "      <td>1</td>\n",
       "      <td>1126</td>\n",
       "      <td>0</td>\n",
       "      <td>64.0</td>\n",
       "      <td>0</td>\n",
       "      <td>0</td>\n",
       "      <td>0.706</td>\n",
       "      <td>0.868</td>\n",
       "      <td>0</td>\n",
       "      <td>...</td>\n",
       "      <td>0</td>\n",
       "      <td>0</td>\n",
       "      <td>0</td>\n",
       "      <td>0</td>\n",
       "      <td>0</td>\n",
       "      <td>0</td>\n",
       "      <td>0</td>\n",
       "      <td>0</td>\n",
       "      <td>0</td>\n",
       "      <td>1</td>\n",
       "    </tr>\n",
       "  </tbody>\n",
       "</table>\n",
       "<p>5 rows × 23 columns</p>\n",
       "</div>"
      ],
      "text/plain": [
       "     amt  gender  city_pop  is_fraud   age  trans_month  trans_year  \\\n",
       "0   2.86       1    333497         0  52.0            0           0   \n",
       "1  29.84       0       302         0  30.0            0           0   \n",
       "2  41.28       0     34496         0  49.0            0           0   \n",
       "3  60.05       1     54767         0  32.0            0           0   \n",
       "4   3.19       1      1126         0  64.0            0           0   \n",
       "\n",
       "   latitudinal_distance  longitudinal_distance  category_entertainment  ...  \\\n",
       "0                 0.020                  0.265                       0  ...   \n",
       "1                 0.870                  0.476                       0  ...   \n",
       "2                 0.177                  0.660                       0  ...   \n",
       "3                 0.243                  0.064                       0  ...   \n",
       "4                 0.706                  0.868                       0  ...   \n",
       "\n",
       "   category_grocery_pos  category_health_fitness  category_home  \\\n",
       "0                     0                        0              0   \n",
       "1                     0                        0              0   \n",
       "2                     0                        1              0   \n",
       "3                     0                        0              0   \n",
       "4                     0                        0              0   \n",
       "\n",
       "   category_kids_pets  category_misc_net  category_misc_pos  \\\n",
       "0                   0                  0                  0   \n",
       "1                   0                  0                  0   \n",
       "2                   0                  0                  0   \n",
       "3                   0                  0                  1   \n",
       "4                   0                  0                  0   \n",
       "\n",
       "   category_personal_care  category_shopping_net  category_shopping_pos  \\\n",
       "0                       1                      0                      0   \n",
       "1                       1                      0                      0   \n",
       "2                       0                      0                      0   \n",
       "3                       0                      0                      0   \n",
       "4                       0                      0                      0   \n",
       "\n",
       "   category_travel  \n",
       "0                0  \n",
       "1                0  \n",
       "2                0  \n",
       "3                0  \n",
       "4                1  \n",
       "\n",
       "[5 rows x 23 columns]"
      ]
     },
     "execution_count": 94,
     "metadata": {},
     "output_type": "execute_result"
    }
   ],
   "source": [
    "test_df.head()"
   ]
  },
  {
   "cell_type": "markdown",
   "id": "4c7541d4",
   "metadata": {
    "_cell_guid": "f7030968-4d88-4830-a06d-199be0819a9f",
    "_uuid": "745071e2-2787-4493-bd58-6c455f37fb48",
    "papermill": {
     "duration": 0.017666,
     "end_time": "2023-09-05T10:17:44.068134",
     "exception": false,
     "start_time": "2023-09-05T10:17:44.050468",
     "status": "completed"
    },
    "tags": []
   },
   "source": [
    "### 2. Split Train and Test Data"
   ]
  },
  {
   "cell_type": "code",
   "execution_count": 95,
   "id": "55d9a0c3",
   "metadata": {
    "_cell_guid": "eebcf1d2-5255-4ce1-aeb5-c605f2665033",
    "_uuid": "038a87da-7451-43be-bd70-a3eb17166f19",
    "execution": {
     "iopub.execute_input": "2023-09-05T10:17:44.106138Z",
     "iopub.status.busy": "2023-09-05T10:17:44.105752Z",
     "iopub.status.idle": "2023-09-05T10:17:44.157930Z",
     "shell.execute_reply": "2023-09-05T10:17:44.156793Z"
    },
    "jupyter": {
     "outputs_hidden": false
    },
    "papermill": {
     "duration": 0.07456,
     "end_time": "2023-09-05T10:17:44.160836",
     "exception": false,
     "start_time": "2023-09-05T10:17:44.086276",
     "status": "completed"
    },
    "tags": []
   },
   "outputs": [],
   "source": [
    "X_train = train_df.drop('is_fraud', axis=1)\n",
    "y_train = train_df['is_fraud']\n",
    "X_test = test_df.drop('is_fraud', axis=1)\n",
    "y_test = test_df['is_fraud']"
   ]
  },
  {
   "cell_type": "markdown",
   "id": "63837256",
   "metadata": {
    "_cell_guid": "33a9c921-72ae-4d5a-980b-0fcce157ef4b",
    "_uuid": "99df5222-4b1c-46bd-8b6f-e64167190379",
    "papermill": {
     "duration": 0.017916,
     "end_time": "2023-09-05T10:17:44.197204",
     "exception": false,
     "start_time": "2023-09-05T10:17:44.179288",
     "status": "completed"
    },
    "tags": []
   },
   "source": [
    "### 3. Handle Data Imbalance"
   ]
  },
  {
   "cell_type": "code",
   "execution_count": 96,
   "id": "2198713d",
   "metadata": {
    "_cell_guid": "e65f75ff-030b-44a0-a5f7-15b893fe329d",
    "_uuid": "e1514b1b-6084-4e6c-a38f-980b80898feb",
    "execution": {
     "iopub.execute_input": "2023-09-05T10:17:44.235176Z",
     "iopub.status.busy": "2023-09-05T10:17:44.234792Z",
     "iopub.status.idle": "2023-09-05T10:17:47.728758Z",
     "shell.execute_reply": "2023-09-05T10:17:47.727553Z"
    },
    "jupyter": {
     "outputs_hidden": false
    },
    "papermill": {
     "duration": 3.516285,
     "end_time": "2023-09-05T10:17:47.731677",
     "exception": false,
     "start_time": "2023-09-05T10:17:44.215392",
     "status": "completed"
    },
    "tags": []
   },
   "outputs": [],
   "source": [
    "from imblearn.over_sampling import SMOTE\n",
    "\n",
    "# Initialize the SMOTE object\n",
    "smote = SMOTE(random_state=42)\n",
    "\n",
    "# Apply SMOTE to the training data\n",
    "X_train, y_train = smote.fit_resample(X_train, y_train)"
   ]
  },
  {
   "cell_type": "code",
   "execution_count": 24,
   "id": "9776f223",
   "metadata": {},
   "outputs": [
    {
     "name": "stdout",
     "output_type": "stream",
     "text": [
      "Collecting imblearnNote: you may need to restart the kernel to use updated packages.\n",
      "\n"
     ]
    },
    {
     "name": "stderr",
     "output_type": "stream",
     "text": [
      "DEPRECATION: block 0.0.5 has a non-standard dependency specifier numpy>=1<2. pip 23.3 will enforce this behaviour change. A possible replacement is to upgrade to a newer version of block or contact the author to suggest that they release a version with a conforming dependency specifiers. Discussion can be found at https://github.com/pypa/pip/issues/12063\n",
      "DEPRECATION: pyodbc 4.0.0-unsupported has a non-standard version number. pip 23.3 will enforce this behaviour change. A possible replacement is to upgrade to a newer version of pyodbc or contact the author to suggest that they release a version with a conforming version number. Discussion can be found at https://github.com/pypa/pip/issues/12063\n"
     ]
    },
    {
     "name": "stdout",
     "output_type": "stream",
     "text": [
      "  Using cached imblearn-0.0-py2.py3-none-any.whl (1.9 kB)\n",
      "Collecting imbalanced-learn (from imblearn)\n",
      "  Obtaining dependency information for imbalanced-learn from https://files.pythonhosted.org/packages/a3/9e/fbe60a768502af54563dcb59ca7856f5a8833b3ad5ada658922e1ab09b7f/imbalanced_learn-0.11.0-py3-none-any.whl.metadata\n",
      "  Using cached imbalanced_learn-0.11.0-py3-none-any.whl.metadata (8.3 kB)\n",
      "Requirement already satisfied: numpy>=1.17.3 in e:\\ana\\lib\\site-packages (from imbalanced-learn->imblearn) (1.22.0)\n",
      "Requirement already satisfied: scipy>=1.5.0 in e:\\ana\\lib\\site-packages (from imbalanced-learn->imblearn) (1.6.2)\n",
      "Requirement already satisfied: scikit-learn>=1.0.2 in e:\\ana\\lib\\site-packages (from imbalanced-learn->imblearn) (1.3.0)\n",
      "Requirement already satisfied: joblib>=1.1.1 in e:\\ana\\lib\\site-packages (from imbalanced-learn->imblearn) (1.3.2)\n",
      "Requirement already satisfied: threadpoolctl>=2.0.0 in e:\\ana\\lib\\site-packages (from imbalanced-learn->imblearn) (2.1.0)\n",
      "Using cached imbalanced_learn-0.11.0-py3-none-any.whl (235 kB)\n",
      "Installing collected packages: imbalanced-learn, imblearn\n",
      "Successfully installed imbalanced-learn-0.11.0 imblearn-0.0\n"
     ]
    }
   ],
   "source": [
    "pip install imblearn"
   ]
  },
  {
   "cell_type": "markdown",
   "id": "e68b99ad",
   "metadata": {
    "_cell_guid": "55732ffe-604c-41fc-a2b7-6a0793372b68",
    "_uuid": "5e20e54a-1ba2-4026-a71b-a5bb1fa2a158",
    "papermill": {
     "duration": 0.018054,
     "end_time": "2023-09-05T10:17:47.769409",
     "exception": false,
     "start_time": "2023-09-05T10:17:47.751355",
     "status": "completed"
    },
    "tags": []
   },
   "source": [
    "### 4. Standardize data"
   ]
  },
  {
   "cell_type": "code",
   "execution_count": 97,
   "id": "fde906e8",
   "metadata": {
    "_cell_guid": "23638cf0-56b3-43a7-87cf-385c6c4606d7",
    "_uuid": "d86c4e1e-d1df-44a7-a50e-309b306520c1",
    "execution": {
     "iopub.execute_input": "2023-09-05T10:17:47.807821Z",
     "iopub.status.busy": "2023-09-05T10:17:47.807395Z",
     "iopub.status.idle": "2023-09-05T10:17:49.041730Z",
     "shell.execute_reply": "2023-09-05T10:17:49.040749Z"
    },
    "jupyter": {
     "outputs_hidden": false
    },
    "papermill": {
     "duration": 1.256699,
     "end_time": "2023-09-05T10:17:49.044363",
     "exception": false,
     "start_time": "2023-09-05T10:17:47.787664",
     "status": "completed"
    },
    "tags": []
   },
   "outputs": [],
   "source": [
    "from sklearn.preprocessing import StandardScaler\n",
    "\n",
    "# Step 1: Fit the StandardScaler on the training data\n",
    "scaler = StandardScaler()\n",
    "scaler.fit(X_train)\n",
    "\n",
    "# Step 2: Transform both the training and testing data\n",
    "X_train = scaler.transform(X_train)\n",
    "X_test = scaler.transform(X_test)"
   ]
  },
  {
   "cell_type": "markdown",
   "id": "0eefdd2f",
   "metadata": {
    "_cell_guid": "8fe40af4-8914-4de2-a5d0-f469442d5d13",
    "_uuid": "62d41908-5c30-453b-bc44-11cd36ea6b71",
    "papermill": {
     "duration": 0.017962,
     "end_time": "2023-09-05T10:17:49.081279",
     "exception": false,
     "start_time": "2023-09-05T10:17:49.063317",
     "status": "completed"
    },
    "tags": []
   },
   "source": [
    "# Model Building"
   ]
  },
  {
   "cell_type": "markdown",
   "id": "ceb320af",
   "metadata": {
    "_cell_guid": "d232541e-fc8d-4747-849e-1f4308143c05",
    "_uuid": "0024ac1d-138b-4232-b53f-4babb81a4018",
    "papermill": {
     "duration": 0.018127,
     "end_time": "2023-09-05T10:17:49.117644",
     "exception": false,
     "start_time": "2023-09-05T10:17:49.099517",
     "status": "completed"
    },
    "tags": []
   },
   "source": [
    "### 1. Decision Tree"
   ]
  },
  {
   "cell_type": "code",
   "execution_count": 98,
   "id": "93e03061",
   "metadata": {
    "_cell_guid": "a73dfd14-d05e-41a4-8b1e-e8f485882b52",
    "_uuid": "becfcd08-0629-4b4c-b438-32926b2e96ca",
    "execution": {
     "iopub.execute_input": "2023-09-05T10:17:49.157248Z",
     "iopub.status.busy": "2023-09-05T10:17:49.156541Z",
     "iopub.status.idle": "2023-09-05T10:18:52.706545Z",
     "shell.execute_reply": "2023-09-05T10:18:52.705349Z"
    },
    "jupyter": {
     "outputs_hidden": false
    },
    "papermill": {
     "duration": 63.590442,
     "end_time": "2023-09-05T10:18:52.726834",
     "exception": false,
     "start_time": "2023-09-05T10:17:49.136392",
     "status": "completed"
    },
    "tags": []
   },
   "outputs": [
    {
     "name": "stdout",
     "output_type": "stream",
     "text": [
      "              precision    recall  f1-score   support\n",
      "\n",
      "           0       1.00      0.99      1.00    553574\n",
      "           1       0.33      0.72      0.45      2145\n",
      "\n",
      "    accuracy                           0.99    555719\n",
      "   macro avg       0.67      0.86      0.73    555719\n",
      "weighted avg       1.00      0.99      0.99    555719\n",
      "\n"
     ]
    }
   ],
   "source": [
    "from sklearn.tree import DecisionTreeClassifier\n",
    "from sklearn.metrics import classification_report\n",
    "\n",
    "# Initialize and fit the Decision Tree classifier on the training data\n",
    "DT = DecisionTreeClassifier(random_state=42)\n",
    "DT.fit(X_train, y_train)\n",
    "\n",
    "# Make predictions on the testing data\n",
    "y_pred = DT.predict(X_test)\n",
    "\n",
    "# Generate a classification report\n",
    "report = classification_report(y_test, y_pred)\n",
    "\n",
    "# Print the classification report\n",
    "print(report)"
   ]
  },
  {
   "cell_type": "markdown",
   "id": "c6721e64",
   "metadata": {
    "_cell_guid": "9c3e4f29-89fe-47ee-84b6-35edf69890f1",
    "_uuid": "bb5c31f1-0d9c-4479-8c53-c75eb2f574e1",
    "papermill": {
     "duration": 0.017603,
     "end_time": "2023-09-05T10:18:52.762307",
     "exception": false,
     "start_time": "2023-09-05T10:18:52.744704",
     "status": "completed"
    },
    "tags": []
   },
   "source": [
    "### 2. Random Forest"
   ]
  },
  {
   "cell_type": "code",
   "execution_count": 28,
   "id": "c88b6471",
   "metadata": {
    "_cell_guid": "1e8b628b-4beb-4359-80b2-6aac3616735f",
    "_uuid": "09242d22-2c03-4dcc-8dd2-404e8c3c0546",
    "execution": {
     "iopub.execute_input": "2023-09-05T10:18:52.800690Z",
     "iopub.status.busy": "2023-09-05T10:18:52.800298Z",
     "iopub.status.idle": "2023-09-05T10:36:38.039295Z",
     "shell.execute_reply": "2023-09-05T10:36:38.037907Z"
    },
    "jupyter": {
     "outputs_hidden": false
    },
    "papermill": {
     "duration": 1065.279421,
     "end_time": "2023-09-05T10:36:38.060055",
     "exception": false,
     "start_time": "2023-09-05T10:18:52.780634",
     "status": "completed"
    },
    "tags": []
   },
   "outputs": [],
   "source": [
    "from sklearn.ensemble import RandomForestClassifier\n",
    "\n",
    "# Initialize and fit the Random Forest classifier on the training data\n",
    "RF = RandomForestClassifier()"
   ]
  },
  {
   "cell_type": "code",
   "execution_count": null,
   "id": "efb8e327",
   "metadata": {},
   "outputs": [],
   "source": [
    "RF.fit(X_train, y_train)"
   ]
  },
  {
   "cell_type": "code",
   "execution_count": 34,
   "id": "4b85df74",
   "metadata": {},
   "outputs": [],
   "source": [
    "# Make predictions on the testing data\n",
    "y_pred = RF.predict(X_test)"
   ]
  },
  {
   "cell_type": "code",
   "execution_count": 35,
   "id": "293b134e",
   "metadata": {},
   "outputs": [],
   "source": [
    "# Generate a classification report\n",
    "report = classification_report(y_test, y_pred)"
   ]
  },
  {
   "cell_type": "code",
   "execution_count": 36,
   "id": "7622d4bc",
   "metadata": {},
   "outputs": [
    {
     "name": "stdout",
     "output_type": "stream",
     "text": [
      "              precision    recall  f1-score   support\n",
      "\n",
      "           0       1.00      1.00      1.00    553574\n",
      "           1       0.56      0.78      0.65      2145\n",
      "\n",
      "    accuracy                           1.00    555719\n",
      "   macro avg       0.78      0.89      0.83    555719\n",
      "weighted avg       1.00      1.00      1.00    555719\n",
      "\n"
     ]
    }
   ],
   "source": [
    "# Print the classification report\n",
    "print(report)"
   ]
  },
  {
   "cell_type": "code",
   "execution_count": 37,
   "id": "889fa53d",
   "metadata": {},
   "outputs": [
    {
     "name": "stdout",
     "output_type": "stream",
     "text": [
      "Collecting xgboost\n",
      "  Downloading xgboost-1.7.6-py3-none-win_amd64.whl (70.9 MB)\n",
      "     ---------------------------------------- 0.0/70.9 MB ? eta -:--:--\n",
      "     ---------------------------------------- 0.3/70.9 MB 5.2 MB/s eta 0:00:14\n",
      "     ---------------------------------------- 0.6/70.9 MB 5.9 MB/s eta 0:00:12\n",
      "      --------------------------------------- 0.9/70.9 MB 6.5 MB/s eta 0:00:11\n",
      "      --------------------------------------- 1.1/70.9 MB 5.9 MB/s eta 0:00:12\n",
      "      --------------------------------------- 1.1/70.9 MB 5.9 MB/s eta 0:00:12\n",
      "      --------------------------------------- 1.1/70.9 MB 5.9 MB/s eta 0:00:12\n",
      "      --------------------------------------- 1.5/70.9 MB 4.3 MB/s eta 0:00:17\n",
      "      --------------------------------------- 1.8/70.9 MB 4.1 MB/s eta 0:00:17\n",
      "     - -------------------------------------- 2.0/70.9 MB 4.2 MB/s eta 0:00:17\n",
      "     - -------------------------------------- 2.3/70.9 MB 4.2 MB/s eta 0:00:17\n",
      "     - -------------------------------------- 2.4/70.9 MB 4.1 MB/s eta 0:00:17\n",
      "     - -------------------------------------- 2.4/70.9 MB 4.1 MB/s eta 0:00:17\n",
      "     - -------------------------------------- 2.6/70.9 MB 3.7 MB/s eta 0:00:19\n",
      "     - -------------------------------------- 3.1/70.9 MB 4.1 MB/s eta 0:00:17\n",
      "     - -------------------------------------- 3.3/70.9 MB 4.1 MB/s eta 0:00:17\n",
      "     - -------------------------------------- 3.4/70.9 MB 3.9 MB/s eta 0:00:18\n",
      "     - -------------------------------------- 3.4/70.9 MB 3.9 MB/s eta 0:00:18\n",
      "     - -------------------------------------- 3.4/70.9 MB 3.9 MB/s eta 0:00:18\n",
      "     -- ------------------------------------- 3.6/70.9 MB 3.7 MB/s eta 0:00:19\n",
      "     -- ------------------------------------- 3.9/70.9 MB 3.7 MB/s eta 0:00:18\n",
      "     -- ------------------------------------- 4.1/70.9 MB 3.8 MB/s eta 0:00:18\n",
      "     -- ------------------------------------- 4.2/70.9 MB 3.8 MB/s eta 0:00:18\n",
      "     -- ------------------------------------- 4.4/70.9 MB 3.7 MB/s eta 0:00:18\n",
      "     -- ------------------------------------- 4.6/70.9 MB 3.8 MB/s eta 0:00:18\n",
      "     -- ------------------------------------- 4.9/70.9 MB 3.8 MB/s eta 0:00:18\n",
      "     -- ------------------------------------- 5.0/70.9 MB 3.7 MB/s eta 0:00:18\n",
      "     -- ------------------------------------- 5.2/70.9 MB 3.8 MB/s eta 0:00:18\n",
      "     --- ------------------------------------ 5.4/70.9 MB 3.8 MB/s eta 0:00:18\n",
      "     --- ------------------------------------ 5.6/70.9 MB 3.8 MB/s eta 0:00:18\n",
      "     --- ------------------------------------ 5.7/70.9 MB 3.8 MB/s eta 0:00:18\n",
      "     --- ------------------------------------ 5.9/70.9 MB 3.8 MB/s eta 0:00:18\n",
      "     --- ------------------------------------ 6.0/70.9 MB 3.8 MB/s eta 0:00:17\n",
      "     --- ------------------------------------ 6.3/70.9 MB 3.8 MB/s eta 0:00:18\n",
      "     --- ------------------------------------ 6.5/70.9 MB 3.8 MB/s eta 0:00:17\n",
      "     --- ------------------------------------ 6.6/70.9 MB 3.8 MB/s eta 0:00:17\n",
      "     --- ------------------------------------ 6.8/70.9 MB 3.8 MB/s eta 0:00:17\n",
      "     --- ------------------------------------ 7.1/70.9 MB 3.8 MB/s eta 0:00:17\n",
      "     ---- ----------------------------------- 7.2/70.9 MB 3.8 MB/s eta 0:00:17\n",
      "     ---- ----------------------------------- 7.4/70.9 MB 3.8 MB/s eta 0:00:17\n",
      "     ---- ----------------------------------- 7.6/70.9 MB 3.8 MB/s eta 0:00:17\n",
      "     ---- ----------------------------------- 7.8/70.9 MB 3.8 MB/s eta 0:00:17\n",
      "     ---- ----------------------------------- 8.0/70.9 MB 3.8 MB/s eta 0:00:17\n",
      "     ---- ----------------------------------- 8.2/70.9 MB 3.8 MB/s eta 0:00:17\n",
      "     ---- ----------------------------------- 8.4/70.9 MB 3.8 MB/s eta 0:00:17\n",
      "     ---- ----------------------------------- 8.6/70.9 MB 3.8 MB/s eta 0:00:17\n",
      "     ---- ----------------------------------- 8.7/70.9 MB 3.8 MB/s eta 0:00:17\n",
      "     ----- ---------------------------------- 8.9/70.9 MB 3.8 MB/s eta 0:00:17\n",
      "     ----- ---------------------------------- 8.9/70.9 MB 3.8 MB/s eta 0:00:17\n",
      "     ----- ---------------------------------- 8.9/70.9 MB 3.8 MB/s eta 0:00:17\n",
      "     ----- ---------------------------------- 9.5/70.9 MB 3.8 MB/s eta 0:00:17\n",
      "     ----- ---------------------------------- 9.7/70.9 MB 3.8 MB/s eta 0:00:17\n",
      "     ----- ---------------------------------- 9.9/70.9 MB 3.8 MB/s eta 0:00:17\n",
      "     ----- ---------------------------------- 10.0/70.9 MB 3.8 MB/s eta 0:00:16\n",
      "     ----- ---------------------------------- 10.3/70.9 MB 3.8 MB/s eta 0:00:16\n",
      "     ----- ---------------------------------- 10.4/70.9 MB 3.8 MB/s eta 0:00:16\n",
      "     ------ --------------------------------- 10.6/70.9 MB 3.8 MB/s eta 0:00:16\n",
      "     ------ --------------------------------- 10.8/70.9 MB 3.7 MB/s eta 0:00:17\n",
      "     ------ --------------------------------- 11.1/70.9 MB 3.7 MB/s eta 0:00:17\n",
      "     ------ --------------------------------- 11.2/70.9 MB 3.7 MB/s eta 0:00:17\n",
      "     ------ --------------------------------- 11.4/70.9 MB 3.9 MB/s eta 0:00:16\n",
      "     ------ --------------------------------- 11.5/70.9 MB 3.8 MB/s eta 0:00:16\n",
      "     ------ --------------------------------- 11.7/70.9 MB 3.8 MB/s eta 0:00:16\n",
      "     ------ --------------------------------- 12.0/70.9 MB 3.8 MB/s eta 0:00:16\n",
      "     ------ --------------------------------- 12.2/70.9 MB 3.8 MB/s eta 0:00:16\n",
      "     ------ --------------------------------- 12.3/70.9 MB 3.8 MB/s eta 0:00:16\n",
      "     ------- -------------------------------- 12.6/70.9 MB 3.8 MB/s eta 0:00:16\n",
      "     ------- -------------------------------- 12.7/70.9 MB 3.9 MB/s eta 0:00:15\n",
      "     ------- -------------------------------- 12.9/70.9 MB 3.9 MB/s eta 0:00:15\n",
      "     ------- -------------------------------- 13.0/70.9 MB 3.9 MB/s eta 0:00:15\n",
      "     ------- -------------------------------- 13.3/70.9 MB 3.8 MB/s eta 0:00:16\n",
      "     ------- -------------------------------- 13.5/70.9 MB 3.8 MB/s eta 0:00:16\n",
      "     ------- -------------------------------- 13.7/70.9 MB 3.9 MB/s eta 0:00:15\n",
      "     ------- -------------------------------- 14.0/70.9 MB 3.9 MB/s eta 0:00:15\n",
      "     -------- ------------------------------- 14.2/70.9 MB 3.9 MB/s eta 0:00:15\n",
      "     -------- ------------------------------- 14.4/70.9 MB 3.9 MB/s eta 0:00:15\n",
      "     -------- ------------------------------- 14.6/70.9 MB 3.9 MB/s eta 0:00:15\n",
      "     -------- ------------------------------- 14.8/70.9 MB 3.9 MB/s eta 0:00:15\n",
      "     -------- ------------------------------- 15.0/70.9 MB 3.9 MB/s eta 0:00:15\n",
      "     -------- ------------------------------- 15.1/70.9 MB 3.9 MB/s eta 0:00:15\n",
      "     -------- ------------------------------- 15.3/70.9 MB 3.9 MB/s eta 0:00:15\n",
      "     -------- ------------------------------- 15.5/70.9 MB 3.9 MB/s eta 0:00:15\n",
      "     -------- ------------------------------- 15.6/70.9 MB 3.9 MB/s eta 0:00:15\n",
      "     -------- ------------------------------- 15.8/70.9 MB 3.9 MB/s eta 0:00:15\n",
      "     --------- ------------------------------ 16.0/70.9 MB 3.9 MB/s eta 0:00:15\n",
      "     --------- ------------------------------ 16.2/70.9 MB 3.9 MB/s eta 0:00:15\n",
      "     --------- ------------------------------ 16.4/70.9 MB 3.9 MB/s eta 0:00:14\n",
      "     --------- ------------------------------ 16.6/70.9 MB 3.9 MB/s eta 0:00:15\n",
      "     --------- ------------------------------ 16.8/70.9 MB 3.9 MB/s eta 0:00:14\n",
      "     --------- ------------------------------ 16.9/70.9 MB 3.9 MB/s eta 0:00:14\n",
      "     --------- ------------------------------ 17.2/70.9 MB 3.9 MB/s eta 0:00:14\n",
      "     --------- ------------------------------ 17.4/70.9 MB 3.9 MB/s eta 0:00:14\n",
      "     --------- ------------------------------ 17.5/70.9 MB 3.9 MB/s eta 0:00:14\n",
      "     --------- ------------------------------ 17.6/70.9 MB 3.8 MB/s eta 0:00:14\n",
      "     ---------- ----------------------------- 17.8/70.9 MB 3.9 MB/s eta 0:00:14\n",
      "     ---------- ----------------------------- 18.0/70.9 MB 3.9 MB/s eta 0:00:14\n",
      "     ---------- ----------------------------- 18.2/70.9 MB 3.9 MB/s eta 0:00:14\n",
      "     ---------- ----------------------------- 18.4/70.9 MB 3.8 MB/s eta 0:00:14\n",
      "     ---------- ----------------------------- 18.5/70.9 MB 3.8 MB/s eta 0:00:14\n",
      "     ---------- ----------------------------- 18.6/70.9 MB 3.8 MB/s eta 0:00:14\n",
      "     ---------- ----------------------------- 18.7/70.9 MB 3.7 MB/s eta 0:00:15\n",
      "     ---------- ----------------------------- 19.0/70.9 MB 3.8 MB/s eta 0:00:14\n",
      "     ---------- ----------------------------- 19.1/70.9 MB 3.7 MB/s eta 0:00:14\n",
      "     ---------- ----------------------------- 19.3/70.9 MB 3.9 MB/s eta 0:00:14\n",
      "     ----------- ---------------------------- 19.5/70.9 MB 3.8 MB/s eta 0:00:14\n",
      "     ----------- ---------------------------- 19.7/70.9 MB 3.8 MB/s eta 0:00:14\n",
      "     ----------- ---------------------------- 19.9/70.9 MB 3.8 MB/s eta 0:00:14\n",
      "     ----------- ---------------------------- 20.1/70.9 MB 3.8 MB/s eta 0:00:14\n",
      "     ----------- ---------------------------- 20.3/70.9 MB 3.8 MB/s eta 0:00:14\n",
      "     ----------- ---------------------------- 20.4/70.9 MB 3.7 MB/s eta 0:00:14\n",
      "     ----------- ---------------------------- 20.6/70.9 MB 3.8 MB/s eta 0:00:14\n",
      "     ----------- ---------------------------- 20.7/70.9 MB 3.8 MB/s eta 0:00:14\n",
      "     ----------- ---------------------------- 21.0/70.9 MB 3.8 MB/s eta 0:00:14\n",
      "     ----------- ---------------------------- 21.1/70.9 MB 3.8 MB/s eta 0:00:14\n",
      "     ------------ --------------------------- 21.3/70.9 MB 3.7 MB/s eta 0:00:14\n",
      "     ------------ --------------------------- 21.4/70.9 MB 3.7 MB/s eta 0:00:14\n",
      "     ------------ --------------------------- 21.6/70.9 MB 3.8 MB/s eta 0:00:14\n",
      "     ------------ --------------------------- 21.8/70.9 MB 3.8 MB/s eta 0:00:14\n",
      "     ------------ --------------------------- 22.0/70.9 MB 3.8 MB/s eta 0:00:14\n",
      "     ------------ --------------------------- 22.1/70.9 MB 3.8 MB/s eta 0:00:13\n",
      "     ------------ --------------------------- 22.3/70.9 MB 3.7 MB/s eta 0:00:13\n",
      "     ------------ --------------------------- 22.5/70.9 MB 3.8 MB/s eta 0:00:13\n",
      "     ------------ --------------------------- 22.8/70.9 MB 3.7 MB/s eta 0:00:13\n",
      "     ------------ --------------------------- 22.9/70.9 MB 3.8 MB/s eta 0:00:13\n",
      "     ------------- -------------------------- 23.1/70.9 MB 3.8 MB/s eta 0:00:13\n",
      "     ------------- -------------------------- 23.4/70.9 MB 3.8 MB/s eta 0:00:13\n",
      "     ------------- -------------------------- 23.5/70.9 MB 3.7 MB/s eta 0:00:13\n",
      "     ------------- -------------------------- 23.7/70.9 MB 3.8 MB/s eta 0:00:13\n",
      "     ------------- -------------------------- 23.9/70.9 MB 3.8 MB/s eta 0:00:13\n",
      "     ------------- -------------------------- 24.1/70.9 MB 3.8 MB/s eta 0:00:13\n",
      "     ------------- -------------------------- 24.3/70.9 MB 3.8 MB/s eta 0:00:13\n",
      "     ------------- -------------------------- 24.5/70.9 MB 3.8 MB/s eta 0:00:13\n",
      "     ------------- -------------------------- 24.7/70.9 MB 3.8 MB/s eta 0:00:13\n",
      "     -------------- ------------------------- 24.9/70.9 MB 3.8 MB/s eta 0:00:13\n",
      "     -------------- ------------------------- 25.1/70.9 MB 3.8 MB/s eta 0:00:13\n",
      "     -------------- ------------------------- 25.2/70.9 MB 3.7 MB/s eta 0:00:13\n",
      "     -------------- ------------------------- 25.4/70.9 MB 3.8 MB/s eta 0:00:13\n",
      "     -------------- ------------------------- 25.7/70.9 MB 3.8 MB/s eta 0:00:13\n",
      "     -------------- ------------------------- 25.9/70.9 MB 3.8 MB/s eta 0:00:12\n",
      "     -------------- ------------------------- 26.1/70.9 MB 3.8 MB/s eta 0:00:12\n",
      "     -------------- ------------------------- 26.3/70.9 MB 3.8 MB/s eta 0:00:12\n",
      "     -------------- ------------------------- 26.5/70.9 MB 3.7 MB/s eta 0:00:12\n",
      "     --------------- ------------------------ 26.6/70.9 MB 3.7 MB/s eta 0:00:12\n",
      "     --------------- ------------------------ 26.9/70.9 MB 3.7 MB/s eta 0:00:12\n",
      "     --------------- ------------------------ 27.1/70.9 MB 3.8 MB/s eta 0:00:12\n",
      "     --------------- ------------------------ 27.3/70.9 MB 3.8 MB/s eta 0:00:12\n",
      "     --------------- ------------------------ 27.5/70.9 MB 3.8 MB/s eta 0:00:12\n",
      "     --------------- ------------------------ 27.7/70.9 MB 3.8 MB/s eta 0:00:12\n",
      "     --------------- ------------------------ 27.8/70.9 MB 3.8 MB/s eta 0:00:12\n",
      "     --------------- ------------------------ 28.0/70.9 MB 3.8 MB/s eta 0:00:12\n",
      "     --------------- ------------------------ 28.2/70.9 MB 3.8 MB/s eta 0:00:12\n",
      "     ---------------- ----------------------- 28.4/70.9 MB 3.8 MB/s eta 0:00:12\n",
      "     ---------------- ----------------------- 28.6/70.9 MB 3.8 MB/s eta 0:00:12\n",
      "     ---------------- ----------------------- 28.8/70.9 MB 3.9 MB/s eta 0:00:11\n",
      "     ---------------- ----------------------- 28.9/70.9 MB 3.9 MB/s eta 0:00:11\n",
      "     ---------------- ----------------------- 29.1/70.9 MB 3.9 MB/s eta 0:00:11\n",
      "     ---------------- ----------------------- 29.3/70.9 MB 3.9 MB/s eta 0:00:11\n",
      "     ---------------- ----------------------- 29.5/70.9 MB 3.9 MB/s eta 0:00:11\n",
      "     ---------------- ----------------------- 29.6/70.9 MB 3.9 MB/s eta 0:00:11\n",
      "     ---------------- ----------------------- 29.9/70.9 MB 3.9 MB/s eta 0:00:11\n",
      "     ----------------- ---------------------- 30.2/70.9 MB 3.9 MB/s eta 0:00:11\n",
      "     ----------------- ---------------------- 30.3/70.9 MB 3.9 MB/s eta 0:00:11\n",
      "     ----------------- ---------------------- 30.6/70.9 MB 3.9 MB/s eta 0:00:11\n",
      "     ----------------- ---------------------- 30.8/70.9 MB 3.9 MB/s eta 0:00:11\n",
      "     ----------------- ---------------------- 31.0/70.9 MB 3.9 MB/s eta 0:00:11\n",
      "     ----------------- ---------------------- 31.2/70.9 MB 3.9 MB/s eta 0:00:11\n",
      "     ----------------- ---------------------- 31.3/70.9 MB 3.9 MB/s eta 0:00:11\n",
      "     ----------------- ---------------------- 31.5/70.9 MB 3.9 MB/s eta 0:00:11\n",
      "     ----------------- ---------------------- 31.7/70.9 MB 3.9 MB/s eta 0:00:11\n",
      "     ----------------- ---------------------- 31.9/70.9 MB 3.9 MB/s eta 0:00:11\n",
      "     ------------------ --------------------- 32.1/70.9 MB 3.9 MB/s eta 0:00:11\n",
      "     ------------------ --------------------- 32.3/70.9 MB 3.9 MB/s eta 0:00:10\n",
      "     ------------------ --------------------- 32.5/70.9 MB 3.9 MB/s eta 0:00:10\n",
      "     ------------------ --------------------- 32.7/70.9 MB 3.9 MB/s eta 0:00:10\n",
      "     ------------------ --------------------- 33.0/70.9 MB 3.9 MB/s eta 0:00:10\n",
      "     ------------------ --------------------- 33.2/70.9 MB 3.9 MB/s eta 0:00:10\n",
      "     ------------------ --------------------- 33.4/70.9 MB 3.9 MB/s eta 0:00:10\n",
      "     ------------------ --------------------- 33.6/70.9 MB 3.9 MB/s eta 0:00:10\n",
      "     ------------------ --------------------- 33.6/70.9 MB 3.8 MB/s eta 0:00:10\n",
      "     ------------------- -------------------- 33.7/70.9 MB 3.8 MB/s eta 0:00:10\n",
      "     ------------------- -------------------- 33.9/70.9 MB 3.7 MB/s eta 0:00:10\n",
      "     ------------------- -------------------- 34.1/70.9 MB 3.7 MB/s eta 0:00:10\n",
      "     ------------------- -------------------- 34.2/70.9 MB 3.7 MB/s eta 0:00:10\n",
      "     ------------------- -------------------- 34.5/70.9 MB 3.7 MB/s eta 0:00:10\n",
      "     ------------------- -------------------- 34.7/70.9 MB 3.8 MB/s eta 0:00:10\n",
      "     ------------------- -------------------- 35.0/70.9 MB 3.7 MB/s eta 0:00:10\n",
      "     ------------------- -------------------- 35.1/70.9 MB 3.8 MB/s eta 0:00:10\n",
      "     ------------------- -------------------- 35.4/70.9 MB 3.7 MB/s eta 0:00:10\n",
      "     -------------------- ------------------- 35.6/70.9 MB 3.8 MB/s eta 0:00:10\n",
      "     -------------------- ------------------- 35.7/70.9 MB 3.8 MB/s eta 0:00:10\n",
      "     -------------------- ------------------- 35.9/70.9 MB 3.8 MB/s eta 0:00:10\n",
      "     -------------------- ------------------- 36.1/70.9 MB 3.8 MB/s eta 0:00:10\n",
      "     -------------------- ------------------- 36.2/70.9 MB 3.8 MB/s eta 0:00:10\n",
      "     -------------------- ------------------- 36.4/70.9 MB 3.8 MB/s eta 0:00:10\n",
      "     -------------------- ------------------- 36.6/70.9 MB 3.8 MB/s eta 0:00:10\n",
      "     -------------------- ------------------- 36.8/70.9 MB 3.8 MB/s eta 0:00:10\n",
      "     -------------------- ------------------- 37.0/70.9 MB 3.8 MB/s eta 0:00:10\n",
      "     -------------------- ------------------- 37.1/70.9 MB 3.8 MB/s eta 0:00:09\n",
      "     --------------------- ------------------ 37.4/70.9 MB 3.8 MB/s eta 0:00:09\n",
      "     --------------------- ------------------ 37.6/70.9 MB 3.8 MB/s eta 0:00:09\n",
      "     --------------------- ------------------ 37.8/70.9 MB 3.8 MB/s eta 0:00:09\n",
      "     --------------------- ------------------ 38.0/70.9 MB 3.8 MB/s eta 0:00:09\n",
      "     --------------------- ------------------ 38.2/70.9 MB 3.8 MB/s eta 0:00:09\n",
      "     --------------------- ------------------ 38.4/70.9 MB 3.8 MB/s eta 0:00:09\n",
      "     --------------------- ------------------ 38.6/70.9 MB 3.8 MB/s eta 0:00:09\n",
      "     --------------------- ------------------ 38.8/70.9 MB 3.8 MB/s eta 0:00:09\n",
      "     --------------------- ------------------ 38.9/70.9 MB 3.8 MB/s eta 0:00:09\n",
      "     ---------------------- ----------------- 39.1/70.9 MB 3.8 MB/s eta 0:00:09\n",
      "     ---------------------- ----------------- 39.3/70.9 MB 3.8 MB/s eta 0:00:09\n",
      "     ---------------------- ----------------- 39.5/70.9 MB 3.8 MB/s eta 0:00:09\n",
      "     ---------------------- ----------------- 39.7/70.9 MB 3.7 MB/s eta 0:00:09\n",
      "     ---------------------- ----------------- 39.7/70.9 MB 3.8 MB/s eta 0:00:09\n",
      "     ---------------------- ----------------- 40.0/70.9 MB 3.8 MB/s eta 0:00:09\n",
      "     ---------------------- ----------------- 40.1/70.9 MB 3.8 MB/s eta 0:00:09\n",
      "     ---------------------- ----------------- 40.3/70.9 MB 3.8 MB/s eta 0:00:09\n",
      "     ---------------------- ----------------- 40.4/70.9 MB 3.8 MB/s eta 0:00:09\n",
      "     ---------------------- ----------------- 40.6/70.9 MB 3.8 MB/s eta 0:00:09\n",
      "     ----------------------- ---------------- 40.8/70.9 MB 3.7 MB/s eta 0:00:09\n",
      "     ----------------------- ---------------- 41.0/70.9 MB 3.8 MB/s eta 0:00:08\n",
      "     ----------------------- ---------------- 41.3/70.9 MB 3.8 MB/s eta 0:00:08\n",
      "     ----------------------- ---------------- 41.5/70.9 MB 3.8 MB/s eta 0:00:08\n",
      "     ----------------------- ---------------- 41.7/70.9 MB 3.7 MB/s eta 0:00:08\n",
      "     ----------------------- ---------------- 42.0/70.9 MB 3.8 MB/s eta 0:00:08\n",
      "     ----------------------- ---------------- 42.1/70.9 MB 3.8 MB/s eta 0:00:08\n",
      "     ----------------------- ---------------- 42.4/70.9 MB 3.7 MB/s eta 0:00:08\n",
      "     ----------------------- ---------------- 42.6/70.9 MB 3.8 MB/s eta 0:00:08\n",
      "     ------------------------ --------------- 42.7/70.9 MB 3.7 MB/s eta 0:00:08\n",
      "     ------------------------ --------------- 42.9/70.9 MB 3.8 MB/s eta 0:00:08\n",
      "     ------------------------ --------------- 43.1/70.9 MB 3.7 MB/s eta 0:00:08\n",
      "     ------------------------ --------------- 43.3/70.9 MB 3.8 MB/s eta 0:00:08\n",
      "     ------------------------ --------------- 43.5/70.9 MB 3.8 MB/s eta 0:00:08\n",
      "     ------------------------ --------------- 43.7/70.9 MB 3.8 MB/s eta 0:00:08\n",
      "     ------------------------ --------------- 43.9/70.9 MB 3.9 MB/s eta 0:00:07\n",
      "     ------------------------ --------------- 44.1/70.9 MB 3.9 MB/s eta 0:00:07\n",
      "     ------------------------- -------------- 44.3/70.9 MB 3.9 MB/s eta 0:00:07\n",
      "     ------------------------- -------------- 44.5/70.9 MB 3.9 MB/s eta 0:00:07\n",
      "     ------------------------- -------------- 44.8/70.9 MB 3.9 MB/s eta 0:00:07\n",
      "     ------------------------- -------------- 45.0/70.9 MB 3.9 MB/s eta 0:00:07\n",
      "     ------------------------- -------------- 45.2/70.9 MB 3.9 MB/s eta 0:00:07\n",
      "     ------------------------- -------------- 45.4/70.9 MB 3.9 MB/s eta 0:00:07\n",
      "     ------------------------- -------------- 45.6/70.9 MB 3.9 MB/s eta 0:00:07\n",
      "     ------------------------- -------------- 45.8/70.9 MB 3.9 MB/s eta 0:00:07\n",
      "     ------------------------- -------------- 46.1/70.9 MB 3.9 MB/s eta 0:00:07\n",
      "     -------------------------- ------------- 46.2/70.9 MB 3.9 MB/s eta 0:00:07\n",
      "     -------------------------- ------------- 46.4/70.9 MB 3.9 MB/s eta 0:00:07\n",
      "     -------------------------- ------------- 46.6/70.9 MB 3.9 MB/s eta 0:00:07\n",
      "     -------------------------- ------------- 46.8/70.9 MB 3.9 MB/s eta 0:00:07\n",
      "     -------------------------- ------------- 47.0/70.9 MB 3.9 MB/s eta 0:00:07\n",
      "     -------------------------- ------------- 47.1/70.9 MB 3.9 MB/s eta 0:00:07\n",
      "     -------------------------- ------------- 47.4/70.9 MB 3.9 MB/s eta 0:00:07\n",
      "     -------------------------- ------------- 47.6/70.9 MB 3.9 MB/s eta 0:00:06\n",
      "     -------------------------- ------------- 47.8/70.9 MB 3.9 MB/s eta 0:00:06\n",
      "     --------------------------- ------------ 48.1/70.9 MB 3.9 MB/s eta 0:00:06\n",
      "     --------------------------- ------------ 48.3/70.9 MB 3.9 MB/s eta 0:00:06\n",
      "     --------------------------- ------------ 48.5/70.9 MB 3.9 MB/s eta 0:00:06\n",
      "     --------------------------- ------------ 48.7/70.9 MB 3.9 MB/s eta 0:00:06\n",
      "     --------------------------- ------------ 48.8/70.9 MB 3.9 MB/s eta 0:00:06\n",
      "     --------------------------- ------------ 48.8/70.9 MB 3.8 MB/s eta 0:00:06\n",
      "     --------------------------- ------------ 48.9/70.9 MB 3.7 MB/s eta 0:00:06\n",
      "     --------------------------- ------------ 49.1/70.9 MB 3.7 MB/s eta 0:00:06\n",
      "     --------------------------- ------------ 49.4/70.9 MB 3.7 MB/s eta 0:00:06\n",
      "     --------------------------- ------------ 49.5/70.9 MB 3.7 MB/s eta 0:00:06\n",
      "     ---------------------------- ----------- 49.7/70.9 MB 3.7 MB/s eta 0:00:06\n",
      "     ---------------------------- ----------- 49.9/70.9 MB 3.7 MB/s eta 0:00:06\n",
      "     ---------------------------- ----------- 50.1/70.9 MB 3.7 MB/s eta 0:00:06\n",
      "     ---------------------------- ----------- 50.4/70.9 MB 3.7 MB/s eta 0:00:06\n",
      "     ---------------------------- ----------- 50.6/70.9 MB 3.8 MB/s eta 0:00:06\n",
      "     ---------------------------- ----------- 50.8/70.9 MB 3.7 MB/s eta 0:00:06\n",
      "     ---------------------------- ----------- 51.1/70.9 MB 3.8 MB/s eta 0:00:06\n",
      "     ---------------------------- ----------- 51.3/70.9 MB 3.8 MB/s eta 0:00:06\n",
      "     ----------------------------- ---------- 51.5/70.9 MB 3.8 MB/s eta 0:00:06\n",
      "     ----------------------------- ---------- 51.7/70.9 MB 3.7 MB/s eta 0:00:06\n",
      "     ----------------------------- ---------- 51.9/70.9 MB 3.7 MB/s eta 0:00:06\n",
      "     ----------------------------- ---------- 52.1/70.9 MB 3.8 MB/s eta 0:00:06\n",
      "     ----------------------------- ---------- 52.3/70.9 MB 3.7 MB/s eta 0:00:05\n",
      "     ----------------------------- ---------- 52.4/70.9 MB 3.7 MB/s eta 0:00:05\n",
      "     ----------------------------- ---------- 52.6/70.9 MB 3.7 MB/s eta 0:00:05\n",
      "     ----------------------------- ---------- 52.8/70.9 MB 3.7 MB/s eta 0:00:05\n",
      "     ----------------------------- ---------- 53.0/70.9 MB 3.8 MB/s eta 0:00:05\n",
      "     ----------------------------- ---------- 53.2/70.9 MB 3.7 MB/s eta 0:00:05\n",
      "     ------------------------------ --------- 53.4/70.9 MB 3.7 MB/s eta 0:00:05\n",
      "     ------------------------------ --------- 53.6/70.9 MB 3.7 MB/s eta 0:00:05\n",
      "     ------------------------------ --------- 53.7/70.9 MB 3.7 MB/s eta 0:00:05\n",
      "     ------------------------------ --------- 53.9/70.9 MB 3.7 MB/s eta 0:00:05\n",
      "     ------------------------------ --------- 54.2/70.9 MB 3.7 MB/s eta 0:00:05\n",
      "     ------------------------------ --------- 54.5/70.9 MB 3.7 MB/s eta 0:00:05\n",
      "     ------------------------------ --------- 54.7/70.9 MB 3.7 MB/s eta 0:00:05\n",
      "     ------------------------------ --------- 54.8/70.9 MB 3.7 MB/s eta 0:00:05\n",
      "     ------------------------------- -------- 55.0/70.9 MB 3.7 MB/s eta 0:00:05\n",
      "     ------------------------------- -------- 55.2/70.9 MB 3.7 MB/s eta 0:00:05\n",
      "     ------------------------------- -------- 55.6/70.9 MB 3.7 MB/s eta 0:00:05\n",
      "     ------------------------------- -------- 55.7/70.9 MB 3.7 MB/s eta 0:00:05\n",
      "     ------------------------------- -------- 55.9/70.9 MB 3.7 MB/s eta 0:00:05\n",
      "     ------------------------------- -------- 56.1/70.9 MB 3.7 MB/s eta 0:00:05\n",
      "     ------------------------------- -------- 56.3/70.9 MB 3.7 MB/s eta 0:00:04\n",
      "     ------------------------------- -------- 56.5/70.9 MB 3.7 MB/s eta 0:00:04\n",
      "     ------------------------------- -------- 56.7/70.9 MB 3.7 MB/s eta 0:00:04\n",
      "     -------------------------------- ------- 56.9/70.9 MB 3.7 MB/s eta 0:00:04\n",
      "     -------------------------------- ------- 56.9/70.9 MB 3.7 MB/s eta 0:00:04\n",
      "     -------------------------------- ------- 56.9/70.9 MB 3.7 MB/s eta 0:00:04\n",
      "     -------------------------------- ------- 57.7/70.9 MB 3.7 MB/s eta 0:00:04\n",
      "     -------------------------------- ------- 57.9/70.9 MB 3.7 MB/s eta 0:00:04\n",
      "     -------------------------------- ------- 58.0/70.9 MB 3.7 MB/s eta 0:00:04\n",
      "     -------------------------------- ------- 58.2/70.9 MB 3.8 MB/s eta 0:00:04\n",
      "     -------------------------------- ------- 58.4/70.9 MB 3.7 MB/s eta 0:00:04\n",
      "     --------------------------------- ------ 58.6/70.9 MB 3.7 MB/s eta 0:00:04\n",
      "     --------------------------------- ------ 58.9/70.9 MB 3.7 MB/s eta 0:00:04\n",
      "     --------------------------------- ------ 59.1/70.9 MB 3.9 MB/s eta 0:00:04\n",
      "     --------------------------------- ------ 59.4/70.9 MB 3.9 MB/s eta 0:00:03\n",
      "     --------------------------------- ------ 59.6/70.9 MB 3.9 MB/s eta 0:00:03\n",
      "     --------------------------------- ------ 59.8/70.9 MB 3.9 MB/s eta 0:00:03\n",
      "     --------------------------------- ------ 60.0/70.9 MB 3.9 MB/s eta 0:00:03\n",
      "     --------------------------------- ------ 60.2/70.9 MB 3.9 MB/s eta 0:00:03\n",
      "     ---------------------------------- ----- 60.4/70.9 MB 3.9 MB/s eta 0:00:03\n",
      "     ---------------------------------- ----- 60.6/70.9 MB 3.9 MB/s eta 0:00:03\n",
      "     ---------------------------------- ----- 60.8/70.9 MB 3.9 MB/s eta 0:00:03\n",
      "     ---------------------------------- ----- 60.9/70.9 MB 3.9 MB/s eta 0:00:03\n",
      "     ---------------------------------- ----- 61.1/70.9 MB 3.9 MB/s eta 0:00:03\n",
      "     ---------------------------------- ----- 61.4/70.9 MB 3.9 MB/s eta 0:00:03\n",
      "     ---------------------------------- ----- 61.6/70.9 MB 3.9 MB/s eta 0:00:03\n",
      "     ---------------------------------- ----- 61.7/70.9 MB 3.9 MB/s eta 0:00:03\n",
      "     ---------------------------------- ----- 61.9/70.9 MB 3.9 MB/s eta 0:00:03\n",
      "     ----------------------------------- ---- 62.1/70.9 MB 3.9 MB/s eta 0:00:03\n",
      "     ----------------------------------- ---- 62.3/70.9 MB 3.9 MB/s eta 0:00:03\n",
      "     ----------------------------------- ---- 62.4/70.9 MB 3.9 MB/s eta 0:00:03\n",
      "     ----------------------------------- ---- 62.6/70.9 MB 3.8 MB/s eta 0:00:03\n",
      "     ----------------------------------- ---- 62.8/70.9 MB 3.8 MB/s eta 0:00:03\n",
      "     ----------------------------------- ---- 63.0/70.9 MB 3.8 MB/s eta 0:00:03\n",
      "     ----------------------------------- ---- 63.2/70.9 MB 3.8 MB/s eta 0:00:03\n",
      "     ----------------------------------- ---- 63.5/70.9 MB 3.9 MB/s eta 0:00:02\n",
      "     ----------------------------------- ---- 63.6/70.9 MB 3.9 MB/s eta 0:00:02\n",
      "     ----------------------------------- ---- 63.8/70.9 MB 3.9 MB/s eta 0:00:02\n",
      "     ------------------------------------ --- 63.9/70.9 MB 3.8 MB/s eta 0:00:02\n",
      "     ------------------------------------ --- 63.9/70.9 MB 3.7 MB/s eta 0:00:02\n",
      "     ------------------------------------ --- 64.0/70.9 MB 3.7 MB/s eta 0:00:02\n",
      "     ------------------------------------ --- 64.1/70.9 MB 3.7 MB/s eta 0:00:02\n",
      "     ------------------------------------ --- 64.3/70.9 MB 3.6 MB/s eta 0:00:02\n",
      "     ------------------------------------ --- 64.4/70.9 MB 3.6 MB/s eta 0:00:02\n",
      "     ------------------------------------ --- 64.6/70.9 MB 3.6 MB/s eta 0:00:02\n",
      "     ------------------------------------ --- 64.8/70.9 MB 3.6 MB/s eta 0:00:02\n",
      "     ------------------------------------ --- 64.9/70.9 MB 3.6 MB/s eta 0:00:02\n",
      "     ------------------------------------ --- 65.1/70.9 MB 3.6 MB/s eta 0:00:02\n",
      "     ------------------------------------ --- 65.3/70.9 MB 3.6 MB/s eta 0:00:02\n",
      "     ------------------------------------ --- 65.5/70.9 MB 3.6 MB/s eta 0:00:02\n",
      "     ------------------------------------- -- 65.7/70.9 MB 3.6 MB/s eta 0:00:02\n",
      "     ------------------------------------- -- 65.9/70.9 MB 3.6 MB/s eta 0:00:02\n",
      "     ------------------------------------- -- 66.1/70.9 MB 3.6 MB/s eta 0:00:02\n",
      "     ------------------------------------- -- 66.4/70.9 MB 3.6 MB/s eta 0:00:02\n",
      "     ------------------------------------- -- 66.6/70.9 MB 3.6 MB/s eta 0:00:02\n",
      "     ------------------------------------- -- 66.9/70.9 MB 3.6 MB/s eta 0:00:02\n",
      "     ------------------------------------- -- 67.2/70.9 MB 3.9 MB/s eta 0:00:01\n",
      "     -------------------------------------- - 67.4/70.9 MB 3.8 MB/s eta 0:00:01\n",
      "     -------------------------------------- - 67.8/70.9 MB 3.7 MB/s eta 0:00:01\n",
      "     -------------------------------------- - 68.2/70.9 MB 3.7 MB/s eta 0:00:01\n",
      "     -------------------------------------- - 68.4/70.9 MB 3.7 MB/s eta 0:00:01\n",
      "     -------------------------------------- - 68.7/70.9 MB 3.7 MB/s eta 0:00:01\n",
      "     -------------------------------------- - 68.8/70.9 MB 3.7 MB/s eta 0:00:01\n",
      "     -------------------------------------- - 69.0/70.9 MB 3.7 MB/s eta 0:00:01\n",
      "     -------------------------------------- - 69.1/70.9 MB 3.7 MB/s eta 0:00:01\n",
      "     ---------------------------------------  69.4/70.9 MB 3.7 MB/s eta 0:00:01\n",
      "     ---------------------------------------  69.6/70.9 MB 3.7 MB/s eta 0:00:01\n",
      "     ---------------------------------------  69.8/70.9 MB 3.7 MB/s eta 0:00:01\n",
      "     ---------------------------------------  69.9/70.9 MB 3.7 MB/s eta 0:00:01\n",
      "     ---------------------------------------  70.1/70.9 MB 3.7 MB/s eta 0:00:01\n",
      "     ---------------------------------------  70.3/70.9 MB 3.7 MB/s eta 0:00:01\n",
      "     ---------------------------------------  70.5/70.9 MB 3.7 MB/s eta 0:00:01\n",
      "     ---------------------------------------  70.7/70.9 MB 3.7 MB/s eta 0:00:01\n",
      "     ---------------------------------------  70.9/70.9 MB 3.7 MB/s eta 0:00:01\n",
      "     ---------------------------------------  70.9/70.9 MB 3.7 MB/s eta 0:00:01\n",
      "     ---------------------------------------  70.9/70.9 MB 3.7 MB/s eta 0:00:01\n",
      "     ---------------------------------------  70.9/70.9 MB 3.7 MB/s eta 0:00:01\n",
      "     ---------------------------------------  70.9/70.9 MB 3.7 MB/s eta 0:00:01\n",
      "     ---------------------------------------  70.9/70.9 MB 3.7 MB/s eta 0:00:01\n",
      "     ---------------------------------------  70.9/70.9 MB 3.7 MB/s eta 0:00:01\n",
      "     ---------------------------------------  70.9/70.9 MB 3.7 MB/s eta 0:00:01\n",
      "     ---------------------------------------  70.9/70.9 MB 3.7 MB/s eta 0:00:01\n",
      "     ---------------------------------------  70.9/70.9 MB 3.7 MB/s eta 0:00:01\n",
      "     ---------------------------------------  70.9/70.9 MB 3.7 MB/s eta 0:00:01\n",
      "     ---------------------------------------  70.9/70.9 MB 3.7 MB/s eta 0:00:01\n",
      "     ---------------------------------------  70.9/70.9 MB 3.7 MB/s eta 0:00:01\n",
      "     ---------------------------------------  70.9/70.9 MB 3.7 MB/s eta 0:00:01\n",
      "     ---------------------------------------  70.9/70.9 MB 3.7 MB/s eta 0:00:01\n",
      "     ---------------------------------------  70.9/70.9 MB 3.7 MB/s eta 0:00:01\n",
      "     ---------------------------------------  70.9/70.9 MB 3.7 MB/s eta 0:00:01\n",
      "     ---------------------------------------  70.9/70.9 MB 3.7 MB/s eta 0:00:01\n",
      "     ---------------------------------------  70.9/70.9 MB 3.7 MB/s eta 0:00:01\n",
      "     ---------------------------------------  70.9/70.9 MB 3.7 MB/s eta 0:00:01\n",
      "     ---------------------------------------  70.9/70.9 MB 3.7 MB/s eta 0:00:01\n",
      "     ---------------------------------------  70.9/70.9 MB 3.7 MB/s eta 0:00:01\n",
      "     ---------------------------------------  70.9/70.9 MB 3.7 MB/s eta 0:00:01\n",
      "     ---------------------------------------  70.9/70.9 MB 3.7 MB/s eta 0:00:01\n",
      "     ---------------------------------------  70.9/70.9 MB 3.7 MB/s eta 0:00:01\n",
      "     ---------------------------------------- 70.9/70.9 MB 2.5 MB/s eta 0:00:00\n",
      "Requirement already satisfied: numpy in c:\\users\\gm-rao\\appdata\\local\\programs\\python\\python311\\lib\\site-packages (from xgboost) (1.23.5)\n",
      "Requirement already satisfied: scipy in c:\\users\\gm-rao\\appdata\\local\\programs\\python\\python311\\lib\\site-packages (from xgboost) (1.9.3)\n",
      "Installing collected packages: xgboost\n",
      "Successfully installed xgboost-1.7.6\n",
      "Note: you may need to restart the kernel to use updated packages.\n"
     ]
    },
    {
     "name": "stderr",
     "output_type": "stream",
     "text": [
      "\n",
      "[notice] A new release of pip is available: 23.0.1 -> 23.2.1\n",
      "[notice] To update, run: python.exe -m pip install --upgrade pip\n"
     ]
    }
   ],
   "source": [
    "pip install xgboost"
   ]
  },
  {
   "cell_type": "markdown",
   "id": "cc1bc9f1",
   "metadata": {
    "_cell_guid": "ddfdb1c0-0d56-4e49-b721-d0106fedf5e8",
    "_uuid": "6c73bb2e-36f9-4cb3-a05e-967a1d0b1ff2",
    "papermill": {
     "duration": 0.017896,
     "end_time": "2023-09-05T10:36:38.096047",
     "exception": false,
     "start_time": "2023-09-05T10:36:38.078151",
     "status": "completed"
    },
    "tags": []
   },
   "source": [
    "### 3. XGBoost"
   ]
  },
  {
   "cell_type": "code",
   "execution_count": 38,
   "id": "bbef97d6",
   "metadata": {
    "_cell_guid": "17abd884-a05e-45a3-924f-c45cff349130",
    "_uuid": "9af229af-bf96-40a9-8854-3c7fdecfae72",
    "execution": {
     "iopub.execute_input": "2023-09-05T10:36:38.133942Z",
     "iopub.status.busy": "2023-09-05T10:36:38.133518Z",
     "iopub.status.idle": "2023-09-05T10:38:43.072360Z",
     "shell.execute_reply": "2023-09-05T10:38:43.071085Z"
    },
    "jupyter": {
     "outputs_hidden": false
    },
    "papermill": {
     "duration": 124.979395,
     "end_time": "2023-09-05T10:38:43.093446",
     "exception": false,
     "start_time": "2023-09-05T10:36:38.114051",
     "status": "completed"
    },
    "tags": []
   },
   "outputs": [],
   "source": [
    "# Import necessary libraries\n",
    "import xgboost as xgb\n",
    "\n",
    "# Create an XGBoost classifier\n",
    "clf = xgb.XGBClassifier(\n",
    "    learning_rate=0.1,  # Learning rate (controls step size during training)\n",
    "    n_estimators=100,   # Number of boosting rounds (trees)\n",
    "    max_depth=3,        # Maximum tree depth\n",
    "    objective='binary:logistic',  # Binary classification problem\n",
    "    random_state=42\n",
    ")\n",
    "\n"
   ]
  },
  {
   "cell_type": "code",
   "execution_count": 39,
   "id": "6eea0191",
   "metadata": {},
   "outputs": [
    {
     "data": {
      "text/html": [
       "<style>#sk-container-id-2 {color: black;background-color: white;}#sk-container-id-2 pre{padding: 0;}#sk-container-id-2 div.sk-toggleable {background-color: white;}#sk-container-id-2 label.sk-toggleable__label {cursor: pointer;display: block;width: 100%;margin-bottom: 0;padding: 0.3em;box-sizing: border-box;text-align: center;}#sk-container-id-2 label.sk-toggleable__label-arrow:before {content: \"▸\";float: left;margin-right: 0.25em;color: #696969;}#sk-container-id-2 label.sk-toggleable__label-arrow:hover:before {color: black;}#sk-container-id-2 div.sk-estimator:hover label.sk-toggleable__label-arrow:before {color: black;}#sk-container-id-2 div.sk-toggleable__content {max-height: 0;max-width: 0;overflow: hidden;text-align: left;background-color: #f0f8ff;}#sk-container-id-2 div.sk-toggleable__content pre {margin: 0.2em;color: black;border-radius: 0.25em;background-color: #f0f8ff;}#sk-container-id-2 input.sk-toggleable__control:checked~div.sk-toggleable__content {max-height: 200px;max-width: 100%;overflow: auto;}#sk-container-id-2 input.sk-toggleable__control:checked~label.sk-toggleable__label-arrow:before {content: \"▾\";}#sk-container-id-2 div.sk-estimator input.sk-toggleable__control:checked~label.sk-toggleable__label {background-color: #d4ebff;}#sk-container-id-2 div.sk-label input.sk-toggleable__control:checked~label.sk-toggleable__label {background-color: #d4ebff;}#sk-container-id-2 input.sk-hidden--visually {border: 0;clip: rect(1px 1px 1px 1px);clip: rect(1px, 1px, 1px, 1px);height: 1px;margin: -1px;overflow: hidden;padding: 0;position: absolute;width: 1px;}#sk-container-id-2 div.sk-estimator {font-family: monospace;background-color: #f0f8ff;border: 1px dotted black;border-radius: 0.25em;box-sizing: border-box;margin-bottom: 0.5em;}#sk-container-id-2 div.sk-estimator:hover {background-color: #d4ebff;}#sk-container-id-2 div.sk-parallel-item::after {content: \"\";width: 100%;border-bottom: 1px solid gray;flex-grow: 1;}#sk-container-id-2 div.sk-label:hover label.sk-toggleable__label {background-color: #d4ebff;}#sk-container-id-2 div.sk-serial::before {content: \"\";position: absolute;border-left: 1px solid gray;box-sizing: border-box;top: 0;bottom: 0;left: 50%;z-index: 0;}#sk-container-id-2 div.sk-serial {display: flex;flex-direction: column;align-items: center;background-color: white;padding-right: 0.2em;padding-left: 0.2em;position: relative;}#sk-container-id-2 div.sk-item {position: relative;z-index: 1;}#sk-container-id-2 div.sk-parallel {display: flex;align-items: stretch;justify-content: center;background-color: white;position: relative;}#sk-container-id-2 div.sk-item::before, #sk-container-id-2 div.sk-parallel-item::before {content: \"\";position: absolute;border-left: 1px solid gray;box-sizing: border-box;top: 0;bottom: 0;left: 50%;z-index: -1;}#sk-container-id-2 div.sk-parallel-item {display: flex;flex-direction: column;z-index: 1;position: relative;background-color: white;}#sk-container-id-2 div.sk-parallel-item:first-child::after {align-self: flex-end;width: 50%;}#sk-container-id-2 div.sk-parallel-item:last-child::after {align-self: flex-start;width: 50%;}#sk-container-id-2 div.sk-parallel-item:only-child::after {width: 0;}#sk-container-id-2 div.sk-dashed-wrapped {border: 1px dashed gray;margin: 0 0.4em 0.5em 0.4em;box-sizing: border-box;padding-bottom: 0.4em;background-color: white;}#sk-container-id-2 div.sk-label label {font-family: monospace;font-weight: bold;display: inline-block;line-height: 1.2em;}#sk-container-id-2 div.sk-label-container {text-align: center;}#sk-container-id-2 div.sk-container {/* jupyter's `normalize.less` sets `[hidden] { display: none; }` but bootstrap.min.css set `[hidden] { display: none !important; }` so we also need the `!important` here to be able to override the default hidden behavior on the sphinx rendered scikit-learn.org. See: https://github.com/scikit-learn/scikit-learn/issues/21755 */display: inline-block !important;position: relative;}#sk-container-id-2 div.sk-text-repr-fallback {display: none;}</style><div id=\"sk-container-id-2\" class=\"sk-top-container\"><div class=\"sk-text-repr-fallback\"><pre>XGBClassifier(base_score=None, booster=None, callbacks=None,\n",
       "              colsample_bylevel=None, colsample_bynode=None,\n",
       "              colsample_bytree=None, early_stopping_rounds=None,\n",
       "              enable_categorical=False, eval_metric=None, feature_types=None,\n",
       "              gamma=None, gpu_id=None, grow_policy=None, importance_type=None,\n",
       "              interaction_constraints=None, learning_rate=0.1, max_bin=None,\n",
       "              max_cat_threshold=None, max_cat_to_onehot=None,\n",
       "              max_delta_step=None, max_depth=3, max_leaves=None,\n",
       "              min_child_weight=None, missing=nan, monotone_constraints=None,\n",
       "              n_estimators=100, n_jobs=None, num_parallel_tree=None,\n",
       "              predictor=None, random_state=42, ...)</pre><b>In a Jupyter environment, please rerun this cell to show the HTML representation or trust the notebook. <br />On GitHub, the HTML representation is unable to render, please try loading this page with nbviewer.org.</b></div><div class=\"sk-container\" hidden><div class=\"sk-item\"><div class=\"sk-estimator sk-toggleable\"><input class=\"sk-toggleable__control sk-hidden--visually\" id=\"sk-estimator-id-2\" type=\"checkbox\" checked><label for=\"sk-estimator-id-2\" class=\"sk-toggleable__label sk-toggleable__label-arrow\">XGBClassifier</label><div class=\"sk-toggleable__content\"><pre>XGBClassifier(base_score=None, booster=None, callbacks=None,\n",
       "              colsample_bylevel=None, colsample_bynode=None,\n",
       "              colsample_bytree=None, early_stopping_rounds=None,\n",
       "              enable_categorical=False, eval_metric=None, feature_types=None,\n",
       "              gamma=None, gpu_id=None, grow_policy=None, importance_type=None,\n",
       "              interaction_constraints=None, learning_rate=0.1, max_bin=None,\n",
       "              max_cat_threshold=None, max_cat_to_onehot=None,\n",
       "              max_delta_step=None, max_depth=3, max_leaves=None,\n",
       "              min_child_weight=None, missing=nan, monotone_constraints=None,\n",
       "              n_estimators=100, n_jobs=None, num_parallel_tree=None,\n",
       "              predictor=None, random_state=42, ...)</pre></div></div></div></div></div>"
      ],
      "text/plain": [
       "XGBClassifier(base_score=None, booster=None, callbacks=None,\n",
       "              colsample_bylevel=None, colsample_bynode=None,\n",
       "              colsample_bytree=None, early_stopping_rounds=None,\n",
       "              enable_categorical=False, eval_metric=None, feature_types=None,\n",
       "              gamma=None, gpu_id=None, grow_policy=None, importance_type=None,\n",
       "              interaction_constraints=None, learning_rate=0.1, max_bin=None,\n",
       "              max_cat_threshold=None, max_cat_to_onehot=None,\n",
       "              max_delta_step=None, max_depth=3, max_leaves=None,\n",
       "              min_child_weight=None, missing=nan, monotone_constraints=None,\n",
       "              n_estimators=100, n_jobs=None, num_parallel_tree=None,\n",
       "              predictor=None, random_state=42, ...)"
      ]
     },
     "execution_count": 39,
     "metadata": {},
     "output_type": "execute_result"
    }
   ],
   "source": [
    "# Train the classifier on the training data\n",
    "clf.fit(X_train, y_train)"
   ]
  },
  {
   "cell_type": "code",
   "execution_count": 40,
   "id": "40f35f5c",
   "metadata": {},
   "outputs": [
    {
     "name": "stdout",
     "output_type": "stream",
     "text": [
      "              precision    recall  f1-score   support\n",
      "\n",
      "           0       1.00      0.99      0.99    553574\n",
      "           1       0.22      0.85      0.35      2145\n",
      "\n",
      "    accuracy                           0.99    555719\n",
      "   macro avg       0.61      0.92      0.67    555719\n",
      "weighted avg       1.00      0.99      0.99    555719\n",
      "\n"
     ]
    }
   ],
   "source": [
    "# Make predictions on the test data\n",
    "y_pred1 = clf.predict(X_test)\n",
    "\n",
    "# Generate a classification report\n",
    "report = classification_report(y_test, y_pred)\n",
    "\n",
    "# Print the classification report\n",
    "print(report)"
   ]
  },
  {
   "cell_type": "code",
   "execution_count": 57,
   "id": "712ad3aa",
   "metadata": {},
   "outputs": [],
   "source": [
    "from sklearn.linear_model import LogisticRegression\n",
    "\n",
    "# Initialize and fit the Random Forest classifier on the training data\n",
    "Lg= LogisticRegression()\n"
   ]
  },
  {
   "cell_type": "code",
   "execution_count": 58,
   "id": "9672fef8",
   "metadata": {},
   "outputs": [
    {
     "data": {
      "text/html": [
       "<style>#sk-container-id-4 {color: black;background-color: white;}#sk-container-id-4 pre{padding: 0;}#sk-container-id-4 div.sk-toggleable {background-color: white;}#sk-container-id-4 label.sk-toggleable__label {cursor: pointer;display: block;width: 100%;margin-bottom: 0;padding: 0.3em;box-sizing: border-box;text-align: center;}#sk-container-id-4 label.sk-toggleable__label-arrow:before {content: \"▸\";float: left;margin-right: 0.25em;color: #696969;}#sk-container-id-4 label.sk-toggleable__label-arrow:hover:before {color: black;}#sk-container-id-4 div.sk-estimator:hover label.sk-toggleable__label-arrow:before {color: black;}#sk-container-id-4 div.sk-toggleable__content {max-height: 0;max-width: 0;overflow: hidden;text-align: left;background-color: #f0f8ff;}#sk-container-id-4 div.sk-toggleable__content pre {margin: 0.2em;color: black;border-radius: 0.25em;background-color: #f0f8ff;}#sk-container-id-4 input.sk-toggleable__control:checked~div.sk-toggleable__content {max-height: 200px;max-width: 100%;overflow: auto;}#sk-container-id-4 input.sk-toggleable__control:checked~label.sk-toggleable__label-arrow:before {content: \"▾\";}#sk-container-id-4 div.sk-estimator input.sk-toggleable__control:checked~label.sk-toggleable__label {background-color: #d4ebff;}#sk-container-id-4 div.sk-label input.sk-toggleable__control:checked~label.sk-toggleable__label {background-color: #d4ebff;}#sk-container-id-4 input.sk-hidden--visually {border: 0;clip: rect(1px 1px 1px 1px);clip: rect(1px, 1px, 1px, 1px);height: 1px;margin: -1px;overflow: hidden;padding: 0;position: absolute;width: 1px;}#sk-container-id-4 div.sk-estimator {font-family: monospace;background-color: #f0f8ff;border: 1px dotted black;border-radius: 0.25em;box-sizing: border-box;margin-bottom: 0.5em;}#sk-container-id-4 div.sk-estimator:hover {background-color: #d4ebff;}#sk-container-id-4 div.sk-parallel-item::after {content: \"\";width: 100%;border-bottom: 1px solid gray;flex-grow: 1;}#sk-container-id-4 div.sk-label:hover label.sk-toggleable__label {background-color: #d4ebff;}#sk-container-id-4 div.sk-serial::before {content: \"\";position: absolute;border-left: 1px solid gray;box-sizing: border-box;top: 0;bottom: 0;left: 50%;z-index: 0;}#sk-container-id-4 div.sk-serial {display: flex;flex-direction: column;align-items: center;background-color: white;padding-right: 0.2em;padding-left: 0.2em;position: relative;}#sk-container-id-4 div.sk-item {position: relative;z-index: 1;}#sk-container-id-4 div.sk-parallel {display: flex;align-items: stretch;justify-content: center;background-color: white;position: relative;}#sk-container-id-4 div.sk-item::before, #sk-container-id-4 div.sk-parallel-item::before {content: \"\";position: absolute;border-left: 1px solid gray;box-sizing: border-box;top: 0;bottom: 0;left: 50%;z-index: -1;}#sk-container-id-4 div.sk-parallel-item {display: flex;flex-direction: column;z-index: 1;position: relative;background-color: white;}#sk-container-id-4 div.sk-parallel-item:first-child::after {align-self: flex-end;width: 50%;}#sk-container-id-4 div.sk-parallel-item:last-child::after {align-self: flex-start;width: 50%;}#sk-container-id-4 div.sk-parallel-item:only-child::after {width: 0;}#sk-container-id-4 div.sk-dashed-wrapped {border: 1px dashed gray;margin: 0 0.4em 0.5em 0.4em;box-sizing: border-box;padding-bottom: 0.4em;background-color: white;}#sk-container-id-4 div.sk-label label {font-family: monospace;font-weight: bold;display: inline-block;line-height: 1.2em;}#sk-container-id-4 div.sk-label-container {text-align: center;}#sk-container-id-4 div.sk-container {/* jupyter's `normalize.less` sets `[hidden] { display: none; }` but bootstrap.min.css set `[hidden] { display: none !important; }` so we also need the `!important` here to be able to override the default hidden behavior on the sphinx rendered scikit-learn.org. See: https://github.com/scikit-learn/scikit-learn/issues/21755 */display: inline-block !important;position: relative;}#sk-container-id-4 div.sk-text-repr-fallback {display: none;}</style><div id=\"sk-container-id-4\" class=\"sk-top-container\"><div class=\"sk-text-repr-fallback\"><pre>LogisticRegression()</pre><b>In a Jupyter environment, please rerun this cell to show the HTML representation or trust the notebook. <br />On GitHub, the HTML representation is unable to render, please try loading this page with nbviewer.org.</b></div><div class=\"sk-container\" hidden><div class=\"sk-item\"><div class=\"sk-estimator sk-toggleable\"><input class=\"sk-toggleable__control sk-hidden--visually\" id=\"sk-estimator-id-4\" type=\"checkbox\" checked><label for=\"sk-estimator-id-4\" class=\"sk-toggleable__label sk-toggleable__label-arrow\">LogisticRegression</label><div class=\"sk-toggleable__content\"><pre>LogisticRegression()</pre></div></div></div></div></div>"
      ],
      "text/plain": [
       "LogisticRegression()"
      ]
     },
     "execution_count": 58,
     "metadata": {},
     "output_type": "execute_result"
    }
   ],
   "source": [
    "Lg.fit(X_train, y_train)\n"
   ]
  },
  {
   "cell_type": "code",
   "execution_count": 59,
   "id": "6bcd688c",
   "metadata": {},
   "outputs": [],
   "source": [
    "# Make predictions on the testing data\n",
    "y_pred = Lg.predict(X_test)"
   ]
  },
  {
   "cell_type": "code",
   "execution_count": 60,
   "id": "c181b899",
   "metadata": {},
   "outputs": [
    {
     "data": {
      "text/plain": [
       "array([1, 1, 1, ..., 1, 1, 1], dtype=int64)"
      ]
     },
     "execution_count": 60,
     "metadata": {},
     "output_type": "execute_result"
    }
   ],
   "source": [
    "y_pred"
   ]
  },
  {
   "cell_type": "code",
   "execution_count": 61,
   "id": "7f8abeeb",
   "metadata": {},
   "outputs": [
    {
     "name": "stdout",
     "output_type": "stream",
     "text": [
      "[1 1 1 ... 1 1 1]\n"
     ]
    }
   ],
   "source": [
    "y_preds=Lg.predict(X_test)\n",
    "print(y_preds)"
   ]
  },
  {
   "cell_type": "code",
   "execution_count": null,
   "id": "221ee9a8",
   "metadata": {},
   "outputs": [],
   "source": [
    "from sklearn.metrics import accuracy_score\n",
    "final_data=pd.DataFrame({'Models':['Lg','DT_cl','RF'],'ACC':[accuracy_score(y_test,y_pred1),\n",
    "                                                                            accuracy_score(y_test,y_pred2),\n",
    "                                                                            accuracy_score(y_test,y_pred3),\n",
    "                                                                            accuracy_score(y_test,y_pred4),\n",
    "                                                                            accuracy_score(y_test,y_pred5),\n",
    "                                                                            accuracy_score(y_test,y_pred6)]})"
   ]
  },
  {
   "cell_type": "code",
   "execution_count": null,
   "id": "21c5fa13",
   "metadata": {},
   "outputs": [],
   "source": [
    "import joblib"
   ]
  },
  {
   "cell_type": "code",
   "execution_count": null,
   "id": "cac57dbb",
   "metadata": {},
   "outputs": [],
   "source": [
    "joblib.dump(RF,'Fraud_prediction_model')"
   ]
  },
  {
   "cell_type": "code",
   "execution_count": null,
   "id": "c9d88fcd",
   "metadata": {},
   "outputs": [],
   "source": [
    "model=joblib.load('Fraud_prediction_model')"
   ]
  },
  {
   "cell_type": "code",
   "execution_count": null,
   "id": "96d4f090",
   "metadata": {},
   "outputs": [],
   "source": []
  }
 ],
 "metadata": {
  "kernelspec": {
   "display_name": "Python 3",
   "language": "python",
   "name": "python3"
  },
  "language_info": {
   "codemirror_mode": {
    "name": "ipython",
    "version": 3
   },
   "file_extension": ".py",
   "mimetype": "text/x-python",
   "name": "python",
   "nbconvert_exporter": "python",
   "pygments_lexer": "ipython3",
   "version": "3.8.8"
  },
  "papermill": {
   "default_parameters": {},
   "duration": 1317.854877,
   "end_time": "2023-09-05T10:38:44.439695",
   "environment_variables": {},
   "exception": null,
   "input_path": "__notebook__.ipynb",
   "output_path": "__notebook__.ipynb",
   "parameters": {},
   "start_time": "2023-09-05T10:16:46.584818",
   "version": "2.4.0"
  }
 },
 "nbformat": 4,
 "nbformat_minor": 5
}
