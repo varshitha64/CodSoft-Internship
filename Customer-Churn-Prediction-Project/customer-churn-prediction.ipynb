{
 "cells": [
  {
   "cell_type": "code",
   "execution_count": 24,
   "id": "646308b4",
   "metadata": {
    "execution": {
     "iopub.execute_input": "2023-08-26T17:52:26.617555Z",
     "iopub.status.busy": "2023-08-26T17:52:26.616390Z",
     "iopub.status.idle": "2023-08-26T17:52:26.630523Z",
     "shell.execute_reply": "2023-08-26T17:52:26.629694Z"
    },
    "papermill": {
     "duration": 0.040681,
     "end_time": "2023-08-26T17:52:26.632663",
     "exception": false,
     "start_time": "2023-08-26T17:52:26.591982",
     "status": "completed"
    },
    "tags": []
   },
   "outputs": [],
   "source": [
    "import pandas as pd"
   ]
  },
  {
   "cell_type": "code",
   "execution_count": 25,
   "id": "ecfed77f",
   "metadata": {
    "execution": {
     "iopub.execute_input": "2023-08-26T17:52:26.679451Z",
     "iopub.status.busy": "2023-08-26T17:52:26.679059Z",
     "iopub.status.idle": "2023-08-26T17:52:26.736288Z",
     "shell.execute_reply": "2023-08-26T17:52:26.734774Z"
    },
    "papermill": {
     "duration": 0.083523,
     "end_time": "2023-08-26T17:52:26.739287",
     "exception": false,
     "start_time": "2023-08-26T17:52:26.655764",
     "status": "completed"
    },
    "tags": []
   },
   "outputs": [],
   "source": [
    "data=pd.read_csv('Churn_Modelling.csv')"
   ]
  },
  {
   "cell_type": "code",
   "execution_count": 26,
   "id": "45143106",
   "metadata": {
    "execution": {
     "iopub.execute_input": "2023-08-26T17:52:26.785716Z",
     "iopub.status.busy": "2023-08-26T17:52:26.785280Z",
     "iopub.status.idle": "2023-08-26T17:52:26.813495Z",
     "shell.execute_reply": "2023-08-26T17:52:26.812388Z"
    },
    "papermill": {
     "duration": 0.05402,
     "end_time": "2023-08-26T17:52:26.816166",
     "exception": false,
     "start_time": "2023-08-26T17:52:26.762146",
     "status": "completed"
    },
    "tags": []
   },
   "outputs": [
    {
     "data": {
      "text/html": [
       "<div>\n",
       "<style scoped>\n",
       "    .dataframe tbody tr th:only-of-type {\n",
       "        vertical-align: middle;\n",
       "    }\n",
       "\n",
       "    .dataframe tbody tr th {\n",
       "        vertical-align: top;\n",
       "    }\n",
       "\n",
       "    .dataframe thead th {\n",
       "        text-align: right;\n",
       "    }\n",
       "</style>\n",
       "<table border=\"1\" class=\"dataframe\">\n",
       "  <thead>\n",
       "    <tr style=\"text-align: right;\">\n",
       "      <th></th>\n",
       "      <th>RowNumber</th>\n",
       "      <th>CustomerId</th>\n",
       "      <th>Surname</th>\n",
       "      <th>CreditScore</th>\n",
       "      <th>Geography</th>\n",
       "      <th>Gender</th>\n",
       "      <th>Age</th>\n",
       "      <th>Tenure</th>\n",
       "      <th>Balance</th>\n",
       "      <th>NumOfProducts</th>\n",
       "      <th>HasCrCard</th>\n",
       "      <th>IsActiveMember</th>\n",
       "      <th>EstimatedSalary</th>\n",
       "      <th>Exited</th>\n",
       "    </tr>\n",
       "  </thead>\n",
       "  <tbody>\n",
       "    <tr>\n",
       "      <th>0</th>\n",
       "      <td>1</td>\n",
       "      <td>15634602</td>\n",
       "      <td>Hargrave</td>\n",
       "      <td>619</td>\n",
       "      <td>France</td>\n",
       "      <td>Female</td>\n",
       "      <td>42</td>\n",
       "      <td>2</td>\n",
       "      <td>0.00</td>\n",
       "      <td>1</td>\n",
       "      <td>1</td>\n",
       "      <td>1</td>\n",
       "      <td>101348.88</td>\n",
       "      <td>1</td>\n",
       "    </tr>\n",
       "    <tr>\n",
       "      <th>1</th>\n",
       "      <td>2</td>\n",
       "      <td>15647311</td>\n",
       "      <td>Hill</td>\n",
       "      <td>608</td>\n",
       "      <td>Spain</td>\n",
       "      <td>Female</td>\n",
       "      <td>41</td>\n",
       "      <td>1</td>\n",
       "      <td>83807.86</td>\n",
       "      <td>1</td>\n",
       "      <td>0</td>\n",
       "      <td>1</td>\n",
       "      <td>112542.58</td>\n",
       "      <td>0</td>\n",
       "    </tr>\n",
       "    <tr>\n",
       "      <th>2</th>\n",
       "      <td>3</td>\n",
       "      <td>15619304</td>\n",
       "      <td>Onio</td>\n",
       "      <td>502</td>\n",
       "      <td>France</td>\n",
       "      <td>Female</td>\n",
       "      <td>42</td>\n",
       "      <td>8</td>\n",
       "      <td>159660.80</td>\n",
       "      <td>3</td>\n",
       "      <td>1</td>\n",
       "      <td>0</td>\n",
       "      <td>113931.57</td>\n",
       "      <td>1</td>\n",
       "    </tr>\n",
       "    <tr>\n",
       "      <th>3</th>\n",
       "      <td>4</td>\n",
       "      <td>15701354</td>\n",
       "      <td>Boni</td>\n",
       "      <td>699</td>\n",
       "      <td>France</td>\n",
       "      <td>Female</td>\n",
       "      <td>39</td>\n",
       "      <td>1</td>\n",
       "      <td>0.00</td>\n",
       "      <td>2</td>\n",
       "      <td>0</td>\n",
       "      <td>0</td>\n",
       "      <td>93826.63</td>\n",
       "      <td>0</td>\n",
       "    </tr>\n",
       "    <tr>\n",
       "      <th>4</th>\n",
       "      <td>5</td>\n",
       "      <td>15737888</td>\n",
       "      <td>Mitchell</td>\n",
       "      <td>850</td>\n",
       "      <td>Spain</td>\n",
       "      <td>Female</td>\n",
       "      <td>43</td>\n",
       "      <td>2</td>\n",
       "      <td>125510.82</td>\n",
       "      <td>1</td>\n",
       "      <td>1</td>\n",
       "      <td>1</td>\n",
       "      <td>79084.10</td>\n",
       "      <td>0</td>\n",
       "    </tr>\n",
       "  </tbody>\n",
       "</table>\n",
       "</div>"
      ],
      "text/plain": [
       "   RowNumber  CustomerId   Surname  CreditScore Geography  Gender  Age  \\\n",
       "0          1    15634602  Hargrave          619    France  Female   42   \n",
       "1          2    15647311      Hill          608     Spain  Female   41   \n",
       "2          3    15619304      Onio          502    France  Female   42   \n",
       "3          4    15701354      Boni          699    France  Female   39   \n",
       "4          5    15737888  Mitchell          850     Spain  Female   43   \n",
       "\n",
       "   Tenure    Balance  NumOfProducts  HasCrCard  IsActiveMember  \\\n",
       "0       2       0.00              1          1               1   \n",
       "1       1   83807.86              1          0               1   \n",
       "2       8  159660.80              3          1               0   \n",
       "3       1       0.00              2          0               0   \n",
       "4       2  125510.82              1          1               1   \n",
       "\n",
       "   EstimatedSalary  Exited  \n",
       "0        101348.88       1  \n",
       "1        112542.58       0  \n",
       "2        113931.57       1  \n",
       "3         93826.63       0  \n",
       "4         79084.10       0  "
      ]
     },
     "execution_count": 26,
     "metadata": {},
     "output_type": "execute_result"
    }
   ],
   "source": [
    "# display top 5 rows of the dataset\n",
    "data.head()"
   ]
  },
  {
   "cell_type": "code",
   "execution_count": 27,
   "id": "669829e3",
   "metadata": {
    "execution": {
     "iopub.execute_input": "2023-08-26T17:52:26.862049Z",
     "iopub.status.busy": "2023-08-26T17:52:26.861640Z",
     "iopub.status.idle": "2023-08-26T17:52:26.879479Z",
     "shell.execute_reply": "2023-08-26T17:52:26.878295Z"
    },
    "papermill": {
     "duration": 0.0433,
     "end_time": "2023-08-26T17:52:26.881792",
     "exception": false,
     "start_time": "2023-08-26T17:52:26.838492",
     "status": "completed"
    },
    "tags": []
   },
   "outputs": [
    {
     "data": {
      "text/html": [
       "<div>\n",
       "<style scoped>\n",
       "    .dataframe tbody tr th:only-of-type {\n",
       "        vertical-align: middle;\n",
       "    }\n",
       "\n",
       "    .dataframe tbody tr th {\n",
       "        vertical-align: top;\n",
       "    }\n",
       "\n",
       "    .dataframe thead th {\n",
       "        text-align: right;\n",
       "    }\n",
       "</style>\n",
       "<table border=\"1\" class=\"dataframe\">\n",
       "  <thead>\n",
       "    <tr style=\"text-align: right;\">\n",
       "      <th></th>\n",
       "      <th>RowNumber</th>\n",
       "      <th>CustomerId</th>\n",
       "      <th>Surname</th>\n",
       "      <th>CreditScore</th>\n",
       "      <th>Geography</th>\n",
       "      <th>Gender</th>\n",
       "      <th>Age</th>\n",
       "      <th>Tenure</th>\n",
       "      <th>Balance</th>\n",
       "      <th>NumOfProducts</th>\n",
       "      <th>HasCrCard</th>\n",
       "      <th>IsActiveMember</th>\n",
       "      <th>EstimatedSalary</th>\n",
       "      <th>Exited</th>\n",
       "    </tr>\n",
       "  </thead>\n",
       "  <tbody>\n",
       "    <tr>\n",
       "      <th>9995</th>\n",
       "      <td>9996</td>\n",
       "      <td>15606229</td>\n",
       "      <td>Obijiaku</td>\n",
       "      <td>771</td>\n",
       "      <td>France</td>\n",
       "      <td>Male</td>\n",
       "      <td>39</td>\n",
       "      <td>5</td>\n",
       "      <td>0.00</td>\n",
       "      <td>2</td>\n",
       "      <td>1</td>\n",
       "      <td>0</td>\n",
       "      <td>96270.64</td>\n",
       "      <td>0</td>\n",
       "    </tr>\n",
       "    <tr>\n",
       "      <th>9996</th>\n",
       "      <td>9997</td>\n",
       "      <td>15569892</td>\n",
       "      <td>Johnstone</td>\n",
       "      <td>516</td>\n",
       "      <td>France</td>\n",
       "      <td>Male</td>\n",
       "      <td>35</td>\n",
       "      <td>10</td>\n",
       "      <td>57369.61</td>\n",
       "      <td>1</td>\n",
       "      <td>1</td>\n",
       "      <td>1</td>\n",
       "      <td>101699.77</td>\n",
       "      <td>0</td>\n",
       "    </tr>\n",
       "    <tr>\n",
       "      <th>9997</th>\n",
       "      <td>9998</td>\n",
       "      <td>15584532</td>\n",
       "      <td>Liu</td>\n",
       "      <td>709</td>\n",
       "      <td>France</td>\n",
       "      <td>Female</td>\n",
       "      <td>36</td>\n",
       "      <td>7</td>\n",
       "      <td>0.00</td>\n",
       "      <td>1</td>\n",
       "      <td>0</td>\n",
       "      <td>1</td>\n",
       "      <td>42085.58</td>\n",
       "      <td>1</td>\n",
       "    </tr>\n",
       "    <tr>\n",
       "      <th>9998</th>\n",
       "      <td>9999</td>\n",
       "      <td>15682355</td>\n",
       "      <td>Sabbatini</td>\n",
       "      <td>772</td>\n",
       "      <td>Germany</td>\n",
       "      <td>Male</td>\n",
       "      <td>42</td>\n",
       "      <td>3</td>\n",
       "      <td>75075.31</td>\n",
       "      <td>2</td>\n",
       "      <td>1</td>\n",
       "      <td>0</td>\n",
       "      <td>92888.52</td>\n",
       "      <td>1</td>\n",
       "    </tr>\n",
       "    <tr>\n",
       "      <th>9999</th>\n",
       "      <td>10000</td>\n",
       "      <td>15628319</td>\n",
       "      <td>Walker</td>\n",
       "      <td>792</td>\n",
       "      <td>France</td>\n",
       "      <td>Female</td>\n",
       "      <td>28</td>\n",
       "      <td>4</td>\n",
       "      <td>130142.79</td>\n",
       "      <td>1</td>\n",
       "      <td>1</td>\n",
       "      <td>0</td>\n",
       "      <td>38190.78</td>\n",
       "      <td>0</td>\n",
       "    </tr>\n",
       "  </tbody>\n",
       "</table>\n",
       "</div>"
      ],
      "text/plain": [
       "      RowNumber  CustomerId    Surname  CreditScore Geography  Gender  Age  \\\n",
       "9995       9996    15606229   Obijiaku          771    France    Male   39   \n",
       "9996       9997    15569892  Johnstone          516    France    Male   35   \n",
       "9997       9998    15584532        Liu          709    France  Female   36   \n",
       "9998       9999    15682355  Sabbatini          772   Germany    Male   42   \n",
       "9999      10000    15628319     Walker          792    France  Female   28   \n",
       "\n",
       "      Tenure    Balance  NumOfProducts  HasCrCard  IsActiveMember  \\\n",
       "9995       5       0.00              2          1               0   \n",
       "9996      10   57369.61              1          1               1   \n",
       "9997       7       0.00              1          0               1   \n",
       "9998       3   75075.31              2          1               0   \n",
       "9999       4  130142.79              1          1               0   \n",
       "\n",
       "      EstimatedSalary  Exited  \n",
       "9995         96270.64       0  \n",
       "9996        101699.77       0  \n",
       "9997         42085.58       1  \n",
       "9998         92888.52       1  \n",
       "9999         38190.78       0  "
      ]
     },
     "execution_count": 27,
     "metadata": {},
     "output_type": "execute_result"
    }
   ],
   "source": [
    "# display bottom 5 rows \n",
    "data.tail()"
   ]
  },
  {
   "cell_type": "code",
   "execution_count": 28,
   "id": "23a19caf",
   "metadata": {
    "execution": {
     "iopub.execute_input": "2023-08-26T17:52:26.928850Z",
     "iopub.status.busy": "2023-08-26T17:52:26.927634Z",
     "iopub.status.idle": "2023-08-26T17:52:26.934947Z",
     "shell.execute_reply": "2023-08-26T17:52:26.933830Z"
    },
    "papermill": {
     "duration": 0.03349,
     "end_time": "2023-08-26T17:52:26.937325",
     "exception": false,
     "start_time": "2023-08-26T17:52:26.903835",
     "status": "completed"
    },
    "tags": []
   },
   "outputs": [
    {
     "data": {
      "text/plain": [
       "(10000, 14)"
      ]
     },
     "execution_count": 28,
     "metadata": {},
     "output_type": "execute_result"
    }
   ],
   "source": [
    "# find shape of dataset\n",
    "data.shape"
   ]
  },
  {
   "cell_type": "code",
   "execution_count": 29,
   "id": "2b016fe1",
   "metadata": {
    "execution": {
     "iopub.execute_input": "2023-08-26T17:52:26.984236Z",
     "iopub.status.busy": "2023-08-26T17:52:26.983798Z",
     "iopub.status.idle": "2023-08-26T17:52:26.990073Z",
     "shell.execute_reply": "2023-08-26T17:52:26.988974Z"
    },
    "papermill": {
     "duration": 0.032434,
     "end_time": "2023-08-26T17:52:26.992702",
     "exception": false,
     "start_time": "2023-08-26T17:52:26.960268",
     "status": "completed"
    },
    "tags": []
   },
   "outputs": [
    {
     "name": "stdout",
     "output_type": "stream",
     "text": [
      "Number of Rows: 10000\n",
      "Number of Columns: 14\n"
     ]
    }
   ],
   "source": [
    "print('Number of Rows:',data.shape[0])\n",
    "print('Number of Columns:',data.shape[1])"
   ]
  },
  {
   "cell_type": "code",
   "execution_count": 30,
   "id": "010518d1",
   "metadata": {
    "execution": {
     "iopub.execute_input": "2023-08-26T17:52:27.040408Z",
     "iopub.status.busy": "2023-08-26T17:52:27.039965Z",
     "iopub.status.idle": "2023-08-26T17:52:27.076550Z",
     "shell.execute_reply": "2023-08-26T17:52:27.075352Z"
    },
    "papermill": {
     "duration": 0.062738,
     "end_time": "2023-08-26T17:52:27.078719",
     "exception": false,
     "start_time": "2023-08-26T17:52:27.015981",
     "status": "completed"
    },
    "tags": []
   },
   "outputs": [
    {
     "name": "stdout",
     "output_type": "stream",
     "text": [
      "<class 'pandas.core.frame.DataFrame'>\n",
      "RangeIndex: 10000 entries, 0 to 9999\n",
      "Data columns (total 14 columns):\n",
      " #   Column           Non-Null Count  Dtype  \n",
      "---  ------           --------------  -----  \n",
      " 0   RowNumber        10000 non-null  int64  \n",
      " 1   CustomerId       10000 non-null  int64  \n",
      " 2   Surname          10000 non-null  object \n",
      " 3   CreditScore      10000 non-null  int64  \n",
      " 4   Geography        10000 non-null  object \n",
      " 5   Gender           10000 non-null  object \n",
      " 6   Age              10000 non-null  int64  \n",
      " 7   Tenure           10000 non-null  int64  \n",
      " 8   Balance          10000 non-null  float64\n",
      " 9   NumOfProducts    10000 non-null  int64  \n",
      " 10  HasCrCard        10000 non-null  int64  \n",
      " 11  IsActiveMember   10000 non-null  int64  \n",
      " 12  EstimatedSalary  10000 non-null  float64\n",
      " 13  Exited           10000 non-null  int64  \n",
      "dtypes: float64(2), int64(9), object(3)\n",
      "memory usage: 1.1+ MB\n"
     ]
    }
   ],
   "source": [
    "# get information about dataset \n",
    "data.info()"
   ]
  },
  {
   "cell_type": "code",
   "execution_count": 31,
   "id": "817d7254",
   "metadata": {
    "execution": {
     "iopub.execute_input": "2023-08-26T17:52:27.126591Z",
     "iopub.status.busy": "2023-08-26T17:52:27.126178Z",
     "iopub.status.idle": "2023-08-26T17:52:27.145647Z",
     "shell.execute_reply": "2023-08-26T17:52:27.144556Z"
    },
    "papermill": {
     "duration": 0.046407,
     "end_time": "2023-08-26T17:52:27.148034",
     "exception": false,
     "start_time": "2023-08-26T17:52:27.101627",
     "status": "completed"
    },
    "tags": []
   },
   "outputs": [
    {
     "data": {
      "text/plain": [
       "RowNumber          0\n",
       "CustomerId         0\n",
       "Surname            0\n",
       "CreditScore        0\n",
       "Geography          0\n",
       "Gender             0\n",
       "Age                0\n",
       "Tenure             0\n",
       "Balance            0\n",
       "NumOfProducts      0\n",
       "HasCrCard          0\n",
       "IsActiveMember     0\n",
       "EstimatedSalary    0\n",
       "Exited             0\n",
       "dtype: int64"
      ]
     },
     "execution_count": 31,
     "metadata": {},
     "output_type": "execute_result"
    }
   ],
   "source": [
    "# check null values\n",
    "data.isnull().sum()"
   ]
  },
  {
   "cell_type": "code",
   "execution_count": 32,
   "id": "a3684327",
   "metadata": {
    "execution": {
     "iopub.execute_input": "2023-08-26T17:52:27.196242Z",
     "iopub.status.busy": "2023-08-26T17:52:27.195805Z",
     "iopub.status.idle": "2023-08-26T17:52:27.248576Z",
     "shell.execute_reply": "2023-08-26T17:52:27.247290Z"
    },
    "papermill": {
     "duration": 0.080583,
     "end_time": "2023-08-26T17:52:27.251409",
     "exception": false,
     "start_time": "2023-08-26T17:52:27.170826",
     "status": "completed"
    },
    "tags": []
   },
   "outputs": [
    {
     "data": {
      "text/html": [
       "<div>\n",
       "<style scoped>\n",
       "    .dataframe tbody tr th:only-of-type {\n",
       "        vertical-align: middle;\n",
       "    }\n",
       "\n",
       "    .dataframe tbody tr th {\n",
       "        vertical-align: top;\n",
       "    }\n",
       "\n",
       "    .dataframe thead th {\n",
       "        text-align: right;\n",
       "    }\n",
       "</style>\n",
       "<table border=\"1\" class=\"dataframe\">\n",
       "  <thead>\n",
       "    <tr style=\"text-align: right;\">\n",
       "      <th></th>\n",
       "      <th>RowNumber</th>\n",
       "      <th>CustomerId</th>\n",
       "      <th>CreditScore</th>\n",
       "      <th>Age</th>\n",
       "      <th>Tenure</th>\n",
       "      <th>Balance</th>\n",
       "      <th>NumOfProducts</th>\n",
       "      <th>HasCrCard</th>\n",
       "      <th>IsActiveMember</th>\n",
       "      <th>EstimatedSalary</th>\n",
       "      <th>Exited</th>\n",
       "    </tr>\n",
       "  </thead>\n",
       "  <tbody>\n",
       "    <tr>\n",
       "      <th>count</th>\n",
       "      <td>10000.00000</td>\n",
       "      <td>1.000000e+04</td>\n",
       "      <td>10000.000000</td>\n",
       "      <td>10000.000000</td>\n",
       "      <td>10000.000000</td>\n",
       "      <td>10000.000000</td>\n",
       "      <td>10000.000000</td>\n",
       "      <td>10000.00000</td>\n",
       "      <td>10000.000000</td>\n",
       "      <td>10000.000000</td>\n",
       "      <td>10000.000000</td>\n",
       "    </tr>\n",
       "    <tr>\n",
       "      <th>mean</th>\n",
       "      <td>5000.50000</td>\n",
       "      <td>1.569094e+07</td>\n",
       "      <td>650.528800</td>\n",
       "      <td>38.921800</td>\n",
       "      <td>5.012800</td>\n",
       "      <td>76485.889288</td>\n",
       "      <td>1.530200</td>\n",
       "      <td>0.70550</td>\n",
       "      <td>0.515100</td>\n",
       "      <td>100090.239881</td>\n",
       "      <td>0.203700</td>\n",
       "    </tr>\n",
       "    <tr>\n",
       "      <th>std</th>\n",
       "      <td>2886.89568</td>\n",
       "      <td>7.193619e+04</td>\n",
       "      <td>96.653299</td>\n",
       "      <td>10.487806</td>\n",
       "      <td>2.892174</td>\n",
       "      <td>62397.405202</td>\n",
       "      <td>0.581654</td>\n",
       "      <td>0.45584</td>\n",
       "      <td>0.499797</td>\n",
       "      <td>57510.492818</td>\n",
       "      <td>0.402769</td>\n",
       "    </tr>\n",
       "    <tr>\n",
       "      <th>min</th>\n",
       "      <td>1.00000</td>\n",
       "      <td>1.556570e+07</td>\n",
       "      <td>350.000000</td>\n",
       "      <td>18.000000</td>\n",
       "      <td>0.000000</td>\n",
       "      <td>0.000000</td>\n",
       "      <td>1.000000</td>\n",
       "      <td>0.00000</td>\n",
       "      <td>0.000000</td>\n",
       "      <td>11.580000</td>\n",
       "      <td>0.000000</td>\n",
       "    </tr>\n",
       "    <tr>\n",
       "      <th>25%</th>\n",
       "      <td>2500.75000</td>\n",
       "      <td>1.562853e+07</td>\n",
       "      <td>584.000000</td>\n",
       "      <td>32.000000</td>\n",
       "      <td>3.000000</td>\n",
       "      <td>0.000000</td>\n",
       "      <td>1.000000</td>\n",
       "      <td>0.00000</td>\n",
       "      <td>0.000000</td>\n",
       "      <td>51002.110000</td>\n",
       "      <td>0.000000</td>\n",
       "    </tr>\n",
       "    <tr>\n",
       "      <th>50%</th>\n",
       "      <td>5000.50000</td>\n",
       "      <td>1.569074e+07</td>\n",
       "      <td>652.000000</td>\n",
       "      <td>37.000000</td>\n",
       "      <td>5.000000</td>\n",
       "      <td>97198.540000</td>\n",
       "      <td>1.000000</td>\n",
       "      <td>1.00000</td>\n",
       "      <td>1.000000</td>\n",
       "      <td>100193.915000</td>\n",
       "      <td>0.000000</td>\n",
       "    </tr>\n",
       "    <tr>\n",
       "      <th>75%</th>\n",
       "      <td>7500.25000</td>\n",
       "      <td>1.575323e+07</td>\n",
       "      <td>718.000000</td>\n",
       "      <td>44.000000</td>\n",
       "      <td>7.000000</td>\n",
       "      <td>127644.240000</td>\n",
       "      <td>2.000000</td>\n",
       "      <td>1.00000</td>\n",
       "      <td>1.000000</td>\n",
       "      <td>149388.247500</td>\n",
       "      <td>0.000000</td>\n",
       "    </tr>\n",
       "    <tr>\n",
       "      <th>max</th>\n",
       "      <td>10000.00000</td>\n",
       "      <td>1.581569e+07</td>\n",
       "      <td>850.000000</td>\n",
       "      <td>92.000000</td>\n",
       "      <td>10.000000</td>\n",
       "      <td>250898.090000</td>\n",
       "      <td>4.000000</td>\n",
       "      <td>1.00000</td>\n",
       "      <td>1.000000</td>\n",
       "      <td>199992.480000</td>\n",
       "      <td>1.000000</td>\n",
       "    </tr>\n",
       "  </tbody>\n",
       "</table>\n",
       "</div>"
      ],
      "text/plain": [
       "         RowNumber    CustomerId   CreditScore           Age        Tenure  \\\n",
       "count  10000.00000  1.000000e+04  10000.000000  10000.000000  10000.000000   \n",
       "mean    5000.50000  1.569094e+07    650.528800     38.921800      5.012800   \n",
       "std     2886.89568  7.193619e+04     96.653299     10.487806      2.892174   \n",
       "min        1.00000  1.556570e+07    350.000000     18.000000      0.000000   \n",
       "25%     2500.75000  1.562853e+07    584.000000     32.000000      3.000000   \n",
       "50%     5000.50000  1.569074e+07    652.000000     37.000000      5.000000   \n",
       "75%     7500.25000  1.575323e+07    718.000000     44.000000      7.000000   \n",
       "max    10000.00000  1.581569e+07    850.000000     92.000000     10.000000   \n",
       "\n",
       "             Balance  NumOfProducts    HasCrCard  IsActiveMember  \\\n",
       "count   10000.000000   10000.000000  10000.00000    10000.000000   \n",
       "mean    76485.889288       1.530200      0.70550        0.515100   \n",
       "std     62397.405202       0.581654      0.45584        0.499797   \n",
       "min         0.000000       1.000000      0.00000        0.000000   \n",
       "25%         0.000000       1.000000      0.00000        0.000000   \n",
       "50%     97198.540000       1.000000      1.00000        1.000000   \n",
       "75%    127644.240000       2.000000      1.00000        1.000000   \n",
       "max    250898.090000       4.000000      1.00000        1.000000   \n",
       "\n",
       "       EstimatedSalary        Exited  \n",
       "count     10000.000000  10000.000000  \n",
       "mean     100090.239881      0.203700  \n",
       "std       57510.492818      0.402769  \n",
       "min          11.580000      0.000000  \n",
       "25%       51002.110000      0.000000  \n",
       "50%      100193.915000      0.000000  \n",
       "75%      149388.247500      0.000000  \n",
       "max      199992.480000      1.000000  "
      ]
     },
     "execution_count": 32,
     "metadata": {},
     "output_type": "execute_result"
    }
   ],
   "source": [
    "# get overall statistics about the dataset\n",
    "data.describe()"
   ]
  },
  {
   "cell_type": "code",
   "execution_count": 33,
   "id": "d114c0f0",
   "metadata": {
    "execution": {
     "iopub.execute_input": "2023-08-26T17:52:27.302725Z",
     "iopub.status.busy": "2023-08-26T17:52:27.302339Z",
     "iopub.status.idle": "2023-08-26T17:52:27.309357Z",
     "shell.execute_reply": "2023-08-26T17:52:27.308265Z"
    },
    "papermill": {
     "duration": 0.033995,
     "end_time": "2023-08-26T17:52:27.311698",
     "exception": false,
     "start_time": "2023-08-26T17:52:27.277703",
     "status": "completed"
    },
    "tags": []
   },
   "outputs": [
    {
     "data": {
      "text/plain": [
       "Index(['RowNumber', 'CustomerId', 'Surname', 'CreditScore', 'Geography',\n",
       "       'Gender', 'Age', 'Tenure', 'Balance', 'NumOfProducts', 'HasCrCard',\n",
       "       'IsActiveMember', 'EstimatedSalary', 'Exited'],\n",
       "      dtype='object')"
      ]
     },
     "execution_count": 33,
     "metadata": {},
     "output_type": "execute_result"
    }
   ],
   "source": [
    "# dropping irrelevant features\n",
    "data.columns"
   ]
  },
  {
   "cell_type": "code",
   "execution_count": 34,
   "id": "2225a0fc",
   "metadata": {
    "execution": {
     "iopub.execute_input": "2023-08-26T17:52:27.359891Z",
     "iopub.status.busy": "2023-08-26T17:52:27.359516Z",
     "iopub.status.idle": "2023-08-26T17:52:27.385407Z",
     "shell.execute_reply": "2023-08-26T17:52:27.384235Z"
    },
    "papermill": {
     "duration": 0.05287,
     "end_time": "2023-08-26T17:52:27.387974",
     "exception": false,
     "start_time": "2023-08-26T17:52:27.335104",
     "status": "completed"
    },
    "tags": []
   },
   "outputs": [
    {
     "data": {
      "text/html": [
       "<div>\n",
       "<style scoped>\n",
       "    .dataframe tbody tr th:only-of-type {\n",
       "        vertical-align: middle;\n",
       "    }\n",
       "\n",
       "    .dataframe tbody tr th {\n",
       "        vertical-align: top;\n",
       "    }\n",
       "\n",
       "    .dataframe thead th {\n",
       "        text-align: right;\n",
       "    }\n",
       "</style>\n",
       "<table border=\"1\" class=\"dataframe\">\n",
       "  <thead>\n",
       "    <tr style=\"text-align: right;\">\n",
       "      <th></th>\n",
       "      <th>CreditScore</th>\n",
       "      <th>Geography</th>\n",
       "      <th>Gender</th>\n",
       "      <th>Age</th>\n",
       "      <th>Tenure</th>\n",
       "      <th>Balance</th>\n",
       "      <th>NumOfProducts</th>\n",
       "      <th>HasCrCard</th>\n",
       "      <th>IsActiveMember</th>\n",
       "      <th>EstimatedSalary</th>\n",
       "      <th>Exited</th>\n",
       "    </tr>\n",
       "  </thead>\n",
       "  <tbody>\n",
       "    <tr>\n",
       "      <th>0</th>\n",
       "      <td>619</td>\n",
       "      <td>France</td>\n",
       "      <td>Female</td>\n",
       "      <td>42</td>\n",
       "      <td>2</td>\n",
       "      <td>0.00</td>\n",
       "      <td>1</td>\n",
       "      <td>1</td>\n",
       "      <td>1</td>\n",
       "      <td>101348.88</td>\n",
       "      <td>1</td>\n",
       "    </tr>\n",
       "    <tr>\n",
       "      <th>1</th>\n",
       "      <td>608</td>\n",
       "      <td>Spain</td>\n",
       "      <td>Female</td>\n",
       "      <td>41</td>\n",
       "      <td>1</td>\n",
       "      <td>83807.86</td>\n",
       "      <td>1</td>\n",
       "      <td>0</td>\n",
       "      <td>1</td>\n",
       "      <td>112542.58</td>\n",
       "      <td>0</td>\n",
       "    </tr>\n",
       "    <tr>\n",
       "      <th>2</th>\n",
       "      <td>502</td>\n",
       "      <td>France</td>\n",
       "      <td>Female</td>\n",
       "      <td>42</td>\n",
       "      <td>8</td>\n",
       "      <td>159660.80</td>\n",
       "      <td>3</td>\n",
       "      <td>1</td>\n",
       "      <td>0</td>\n",
       "      <td>113931.57</td>\n",
       "      <td>1</td>\n",
       "    </tr>\n",
       "    <tr>\n",
       "      <th>3</th>\n",
       "      <td>699</td>\n",
       "      <td>France</td>\n",
       "      <td>Female</td>\n",
       "      <td>39</td>\n",
       "      <td>1</td>\n",
       "      <td>0.00</td>\n",
       "      <td>2</td>\n",
       "      <td>0</td>\n",
       "      <td>0</td>\n",
       "      <td>93826.63</td>\n",
       "      <td>0</td>\n",
       "    </tr>\n",
       "    <tr>\n",
       "      <th>4</th>\n",
       "      <td>850</td>\n",
       "      <td>Spain</td>\n",
       "      <td>Female</td>\n",
       "      <td>43</td>\n",
       "      <td>2</td>\n",
       "      <td>125510.82</td>\n",
       "      <td>1</td>\n",
       "      <td>1</td>\n",
       "      <td>1</td>\n",
       "      <td>79084.10</td>\n",
       "      <td>0</td>\n",
       "    </tr>\n",
       "    <tr>\n",
       "      <th>...</th>\n",
       "      <td>...</td>\n",
       "      <td>...</td>\n",
       "      <td>...</td>\n",
       "      <td>...</td>\n",
       "      <td>...</td>\n",
       "      <td>...</td>\n",
       "      <td>...</td>\n",
       "      <td>...</td>\n",
       "      <td>...</td>\n",
       "      <td>...</td>\n",
       "      <td>...</td>\n",
       "    </tr>\n",
       "    <tr>\n",
       "      <th>9995</th>\n",
       "      <td>771</td>\n",
       "      <td>France</td>\n",
       "      <td>Male</td>\n",
       "      <td>39</td>\n",
       "      <td>5</td>\n",
       "      <td>0.00</td>\n",
       "      <td>2</td>\n",
       "      <td>1</td>\n",
       "      <td>0</td>\n",
       "      <td>96270.64</td>\n",
       "      <td>0</td>\n",
       "    </tr>\n",
       "    <tr>\n",
       "      <th>9996</th>\n",
       "      <td>516</td>\n",
       "      <td>France</td>\n",
       "      <td>Male</td>\n",
       "      <td>35</td>\n",
       "      <td>10</td>\n",
       "      <td>57369.61</td>\n",
       "      <td>1</td>\n",
       "      <td>1</td>\n",
       "      <td>1</td>\n",
       "      <td>101699.77</td>\n",
       "      <td>0</td>\n",
       "    </tr>\n",
       "    <tr>\n",
       "      <th>9997</th>\n",
       "      <td>709</td>\n",
       "      <td>France</td>\n",
       "      <td>Female</td>\n",
       "      <td>36</td>\n",
       "      <td>7</td>\n",
       "      <td>0.00</td>\n",
       "      <td>1</td>\n",
       "      <td>0</td>\n",
       "      <td>1</td>\n",
       "      <td>42085.58</td>\n",
       "      <td>1</td>\n",
       "    </tr>\n",
       "    <tr>\n",
       "      <th>9998</th>\n",
       "      <td>772</td>\n",
       "      <td>Germany</td>\n",
       "      <td>Male</td>\n",
       "      <td>42</td>\n",
       "      <td>3</td>\n",
       "      <td>75075.31</td>\n",
       "      <td>2</td>\n",
       "      <td>1</td>\n",
       "      <td>0</td>\n",
       "      <td>92888.52</td>\n",
       "      <td>1</td>\n",
       "    </tr>\n",
       "    <tr>\n",
       "      <th>9999</th>\n",
       "      <td>792</td>\n",
       "      <td>France</td>\n",
       "      <td>Female</td>\n",
       "      <td>28</td>\n",
       "      <td>4</td>\n",
       "      <td>130142.79</td>\n",
       "      <td>1</td>\n",
       "      <td>1</td>\n",
       "      <td>0</td>\n",
       "      <td>38190.78</td>\n",
       "      <td>0</td>\n",
       "    </tr>\n",
       "  </tbody>\n",
       "</table>\n",
       "<p>10000 rows × 11 columns</p>\n",
       "</div>"
      ],
      "text/plain": [
       "      CreditScore Geography  Gender  Age  Tenure    Balance  NumOfProducts  \\\n",
       "0             619    France  Female   42       2       0.00              1   \n",
       "1             608     Spain  Female   41       1   83807.86              1   \n",
       "2             502    France  Female   42       8  159660.80              3   \n",
       "3             699    France  Female   39       1       0.00              2   \n",
       "4             850     Spain  Female   43       2  125510.82              1   \n",
       "...           ...       ...     ...  ...     ...        ...            ...   \n",
       "9995          771    France    Male   39       5       0.00              2   \n",
       "9996          516    France    Male   35      10   57369.61              1   \n",
       "9997          709    France  Female   36       7       0.00              1   \n",
       "9998          772   Germany    Male   42       3   75075.31              2   \n",
       "9999          792    France  Female   28       4  130142.79              1   \n",
       "\n",
       "      HasCrCard  IsActiveMember  EstimatedSalary  Exited  \n",
       "0             1               1        101348.88       1  \n",
       "1             0               1        112542.58       0  \n",
       "2             1               0        113931.57       1  \n",
       "3             0               0         93826.63       0  \n",
       "4             1               1         79084.10       0  \n",
       "...         ...             ...              ...     ...  \n",
       "9995          1               0         96270.64       0  \n",
       "9996          1               1        101699.77       0  \n",
       "9997          0               1         42085.58       1  \n",
       "9998          1               0         92888.52       1  \n",
       "9999          1               0         38190.78       0  \n",
       "\n",
       "[10000 rows x 11 columns]"
      ]
     },
     "execution_count": 34,
     "metadata": {},
     "output_type": "execute_result"
    }
   ],
   "source": [
    "data=data.drop(['RowNumber', 'CustomerId', 'Surname'],axis=1)\n",
    "data"
   ]
  },
  {
   "cell_type": "code",
   "execution_count": 35,
   "id": "f9081d59",
   "metadata": {
    "execution": {
     "iopub.execute_input": "2023-08-26T17:52:27.439774Z",
     "iopub.status.busy": "2023-08-26T17:52:27.439393Z",
     "iopub.status.idle": "2023-08-26T17:52:27.447596Z",
     "shell.execute_reply": "2023-08-26T17:52:27.446366Z"
    },
    "papermill": {
     "duration": 0.03714,
     "end_time": "2023-08-26T17:52:27.449762",
     "exception": false,
     "start_time": "2023-08-26T17:52:27.412622",
     "status": "completed"
    },
    "tags": []
   },
   "outputs": [
    {
     "data": {
      "text/plain": [
       "array(['France', 'Spain', 'Germany'], dtype=object)"
      ]
     },
     "execution_count": 35,
     "metadata": {},
     "output_type": "execute_result"
    }
   ],
   "source": [
    "# encoding categorical data\n",
    "data['Geography'].unique()"
   ]
  },
  {
   "cell_type": "code",
   "execution_count": 36,
   "id": "3b1a8a26",
   "metadata": {
    "execution": {
     "iopub.execute_input": "2023-08-26T17:52:27.500287Z",
     "iopub.status.busy": "2023-08-26T17:52:27.499774Z",
     "iopub.status.idle": "2023-08-26T17:52:27.512620Z",
     "shell.execute_reply": "2023-08-26T17:52:27.511574Z"
    },
    "papermill": {
     "duration": 0.041539,
     "end_time": "2023-08-26T17:52:27.515273",
     "exception": false,
     "start_time": "2023-08-26T17:52:27.473734",
     "status": "completed"
    },
    "tags": []
   },
   "outputs": [],
   "source": [
    "data=pd.get_dummies(data,drop_first=True)"
   ]
  },
  {
   "cell_type": "code",
   "execution_count": 37,
   "id": "e6dd5b02",
   "metadata": {
    "execution": {
     "iopub.execute_input": "2023-08-26T17:52:27.565637Z",
     "iopub.status.busy": "2023-08-26T17:52:27.565222Z",
     "iopub.status.idle": "2023-08-26T17:52:27.580977Z",
     "shell.execute_reply": "2023-08-26T17:52:27.579936Z"
    },
    "papermill": {
     "duration": 0.043626,
     "end_time": "2023-08-26T17:52:27.583333",
     "exception": false,
     "start_time": "2023-08-26T17:52:27.539707",
     "status": "completed"
    },
    "tags": []
   },
   "outputs": [
    {
     "data": {
      "text/html": [
       "<div>\n",
       "<style scoped>\n",
       "    .dataframe tbody tr th:only-of-type {\n",
       "        vertical-align: middle;\n",
       "    }\n",
       "\n",
       "    .dataframe tbody tr th {\n",
       "        vertical-align: top;\n",
       "    }\n",
       "\n",
       "    .dataframe thead th {\n",
       "        text-align: right;\n",
       "    }\n",
       "</style>\n",
       "<table border=\"1\" class=\"dataframe\">\n",
       "  <thead>\n",
       "    <tr style=\"text-align: right;\">\n",
       "      <th></th>\n",
       "      <th>CreditScore</th>\n",
       "      <th>Age</th>\n",
       "      <th>Tenure</th>\n",
       "      <th>Balance</th>\n",
       "      <th>NumOfProducts</th>\n",
       "      <th>HasCrCard</th>\n",
       "      <th>IsActiveMember</th>\n",
       "      <th>EstimatedSalary</th>\n",
       "      <th>Exited</th>\n",
       "      <th>Geography_Germany</th>\n",
       "      <th>Geography_Spain</th>\n",
       "      <th>Gender_Male</th>\n",
       "    </tr>\n",
       "  </thead>\n",
       "  <tbody>\n",
       "    <tr>\n",
       "      <th>0</th>\n",
       "      <td>619</td>\n",
       "      <td>42</td>\n",
       "      <td>2</td>\n",
       "      <td>0.00</td>\n",
       "      <td>1</td>\n",
       "      <td>1</td>\n",
       "      <td>1</td>\n",
       "      <td>101348.88</td>\n",
       "      <td>1</td>\n",
       "      <td>0</td>\n",
       "      <td>0</td>\n",
       "      <td>0</td>\n",
       "    </tr>\n",
       "    <tr>\n",
       "      <th>1</th>\n",
       "      <td>608</td>\n",
       "      <td>41</td>\n",
       "      <td>1</td>\n",
       "      <td>83807.86</td>\n",
       "      <td>1</td>\n",
       "      <td>0</td>\n",
       "      <td>1</td>\n",
       "      <td>112542.58</td>\n",
       "      <td>0</td>\n",
       "      <td>0</td>\n",
       "      <td>1</td>\n",
       "      <td>0</td>\n",
       "    </tr>\n",
       "    <tr>\n",
       "      <th>2</th>\n",
       "      <td>502</td>\n",
       "      <td>42</td>\n",
       "      <td>8</td>\n",
       "      <td>159660.80</td>\n",
       "      <td>3</td>\n",
       "      <td>1</td>\n",
       "      <td>0</td>\n",
       "      <td>113931.57</td>\n",
       "      <td>1</td>\n",
       "      <td>0</td>\n",
       "      <td>0</td>\n",
       "      <td>0</td>\n",
       "    </tr>\n",
       "    <tr>\n",
       "      <th>3</th>\n",
       "      <td>699</td>\n",
       "      <td>39</td>\n",
       "      <td>1</td>\n",
       "      <td>0.00</td>\n",
       "      <td>2</td>\n",
       "      <td>0</td>\n",
       "      <td>0</td>\n",
       "      <td>93826.63</td>\n",
       "      <td>0</td>\n",
       "      <td>0</td>\n",
       "      <td>0</td>\n",
       "      <td>0</td>\n",
       "    </tr>\n",
       "    <tr>\n",
       "      <th>4</th>\n",
       "      <td>850</td>\n",
       "      <td>43</td>\n",
       "      <td>2</td>\n",
       "      <td>125510.82</td>\n",
       "      <td>1</td>\n",
       "      <td>1</td>\n",
       "      <td>1</td>\n",
       "      <td>79084.10</td>\n",
       "      <td>0</td>\n",
       "      <td>0</td>\n",
       "      <td>1</td>\n",
       "      <td>0</td>\n",
       "    </tr>\n",
       "  </tbody>\n",
       "</table>\n",
       "</div>"
      ],
      "text/plain": [
       "   CreditScore  Age  Tenure    Balance  NumOfProducts  HasCrCard  \\\n",
       "0          619   42       2       0.00              1          1   \n",
       "1          608   41       1   83807.86              1          0   \n",
       "2          502   42       8  159660.80              3          1   \n",
       "3          699   39       1       0.00              2          0   \n",
       "4          850   43       2  125510.82              1          1   \n",
       "\n",
       "   IsActiveMember  EstimatedSalary  Exited  Geography_Germany  \\\n",
       "0               1        101348.88       1                  0   \n",
       "1               1        112542.58       0                  0   \n",
       "2               0        113931.57       1                  0   \n",
       "3               0         93826.63       0                  0   \n",
       "4               1         79084.10       0                  0   \n",
       "\n",
       "   Geography_Spain  Gender_Male  \n",
       "0                0            0  \n",
       "1                1            0  \n",
       "2                0            0  \n",
       "3                0            0  \n",
       "4                1            0  "
      ]
     },
     "execution_count": 37,
     "metadata": {},
     "output_type": "execute_result"
    }
   ],
   "source": [
    "data.head()"
   ]
  },
  {
   "cell_type": "code",
   "execution_count": 38,
   "id": "91bacfc2",
   "metadata": {
    "execution": {
     "iopub.execute_input": "2023-08-26T17:52:27.633529Z",
     "iopub.status.busy": "2023-08-26T17:52:27.633132Z",
     "iopub.status.idle": "2023-08-26T17:52:27.641177Z",
     "shell.execute_reply": "2023-08-26T17:52:27.640123Z"
    },
    "papermill": {
     "duration": 0.036158,
     "end_time": "2023-08-26T17:52:27.643534",
     "exception": false,
     "start_time": "2023-08-26T17:52:27.607376",
     "status": "completed"
    },
    "tags": []
   },
   "outputs": [
    {
     "data": {
      "text/plain": [
       "0    7963\n",
       "1    2037\n",
       "Name: Exited, dtype: int64"
      ]
     },
     "execution_count": 38,
     "metadata": {},
     "output_type": "execute_result"
    }
   ],
   "source": [
    "data['Exited'].value_counts()"
   ]
  },
  {
   "cell_type": "code",
   "execution_count": 39,
   "id": "03742550",
   "metadata": {
    "execution": {
     "iopub.execute_input": "2023-08-26T17:52:27.695440Z",
     "iopub.status.busy": "2023-08-26T17:52:27.695038Z",
     "iopub.status.idle": "2023-08-26T17:52:29.133016Z",
     "shell.execute_reply": "2023-08-26T17:52:29.132157Z"
    },
    "papermill": {
     "duration": 1.466892,
     "end_time": "2023-08-26T17:52:29.135673",
     "exception": false,
     "start_time": "2023-08-26T17:52:27.668781",
     "status": "completed"
    },
    "tags": []
   },
   "outputs": [],
   "source": [
    "import seaborn as sns"
   ]
  },
  {
   "cell_type": "code",
   "execution_count": 40,
   "id": "b9102eee",
   "metadata": {
    "execution": {
     "iopub.execute_input": "2023-08-26T17:52:29.185758Z",
     "iopub.status.busy": "2023-08-26T17:52:29.185372Z",
     "iopub.status.idle": "2023-08-26T17:52:29.459508Z",
     "shell.execute_reply": "2023-08-26T17:52:29.458406Z"
    },
    "papermill": {
     "duration": 0.302028,
     "end_time": "2023-08-26T17:52:29.461885",
     "exception": false,
     "start_time": "2023-08-26T17:52:29.159857",
     "status": "completed"
    },
    "tags": []
   },
   "outputs": [
    {
     "data": {
      "text/plain": [
       "<AxesSubplot: xlabel='Exited', ylabel='count'>"
      ]
     },
     "execution_count": 40,
     "metadata": {},
     "output_type": "execute_result"
    },
    {
     "data": {
      "image/png": "[encoded data removed]",
      "text/plain": [
       "<Figure size 640x480 with 1 Axes>"
      ]
     },
     "metadata": {},
     "output_type": "display_data"
    }
   ],
   "source": [
    "sns.countplot(x='Exited',data=data)"
   ]
  },
  {
   "cell_type": "code",
   "execution_count": 41,
   "id": "c000d14b",
   "metadata": {
    "execution": {
     "iopub.execute_input": "2023-08-26T17:52:29.514343Z",
     "iopub.status.busy": "2023-08-26T17:52:29.513280Z",
     "iopub.status.idle": "2023-08-26T17:52:29.520265Z",
     "shell.execute_reply": "2023-08-26T17:52:29.519441Z"
    },
    "papermill": {
     "duration": 0.035425,
     "end_time": "2023-08-26T17:52:29.522523",
     "exception": false,
     "start_time": "2023-08-26T17:52:29.487098",
     "status": "completed"
    },
    "tags": []
   },
   "outputs": [],
   "source": [
    "x=data.drop('Exited',axis=1)\n",
    "y=data['Exited']"
   ]
  },
  {
   "cell_type": "code",
   "execution_count": 42,
   "id": "a6d801bc",
   "metadata": {
    "execution": {
     "iopub.execute_input": "2023-08-26T17:52:29.576122Z",
     "iopub.status.busy": "2023-08-26T17:52:29.575436Z",
     "iopub.status.idle": "2023-08-26T17:52:29.583673Z",
     "shell.execute_reply": "2023-08-26T17:52:29.582528Z"
    },
    "papermill": {
     "duration": 0.037797,
     "end_time": "2023-08-26T17:52:29.585813",
     "exception": false,
     "start_time": "2023-08-26T17:52:29.548016",
     "status": "completed"
    },
    "tags": []
   },
   "outputs": [
    {
     "data": {
      "text/plain": [
       "0       1\n",
       "1       0\n",
       "2       1\n",
       "3       0\n",
       "4       0\n",
       "       ..\n",
       "9995    0\n",
       "9996    0\n",
       "9997    1\n",
       "9998    1\n",
       "9999    0\n",
       "Name: Exited, Length: 10000, dtype: int64"
      ]
     },
     "execution_count": 42,
     "metadata": {},
     "output_type": "execute_result"
    }
   ],
   "source": [
    "y"
   ]
  },
  {
   "cell_type": "code",
   "execution_count": 44,
   "id": "9dcc503b",
   "metadata": {
    "execution": {
     "iopub.execute_input": "2023-08-26T17:52:29.637569Z",
     "iopub.status.busy": "2023-08-26T17:52:29.636857Z",
     "iopub.status.idle": "2023-08-26T17:52:29.941116Z",
     "shell.execute_reply": "2023-08-26T17:52:29.939877Z"
    },
    "papermill": {
     "duration": 0.333177,
     "end_time": "2023-08-26T17:52:29.943784",
     "exception": false,
     "start_time": "2023-08-26T17:52:29.610607",
     "status": "completed"
    },
    "tags": []
   },
   "outputs": [],
   "source": [
    "# splitting the dataset into training and test set\n",
    "from sklearn.model_selection import train_test_split\n",
    "x_train,x_test,y_train,y_test=train_test_split(x,y,test_size=0.3,random_state=1,stratify=y)"
   ]
  },
  {
   "cell_type": "code",
   "execution_count": 45,
   "id": "25ab61bc",
   "metadata": {
    "execution": {
     "iopub.execute_input": "2023-08-26T17:52:29.994159Z",
     "iopub.status.busy": "2023-08-26T17:52:29.993708Z",
     "iopub.status.idle": "2023-08-26T17:52:29.998105Z",
     "shell.execute_reply": "2023-08-26T17:52:29.997277Z"
    },
    "papermill": {
     "duration": 0.032097,
     "end_time": "2023-08-26T17:52:30.000102",
     "exception": false,
     "start_time": "2023-08-26T17:52:29.968005",
     "status": "completed"
    },
    "tags": []
   },
   "outputs": [],
   "source": [
    "# feature scaling\n",
    "from sklearn.preprocessing import StandardScaler\n",
    " "
   ]
  },
  {
   "cell_type": "code",
   "execution_count": 46,
   "id": "a332ebed",
   "metadata": {
    "execution": {
     "iopub.execute_input": "2023-08-26T17:52:30.052198Z",
     "iopub.status.busy": "2023-08-26T17:52:30.051473Z",
     "iopub.status.idle": "2023-08-26T17:52:30.065088Z",
     "shell.execute_reply": "2023-08-26T17:52:30.063744Z"
    },
    "papermill": {
     "duration": 0.04231,
     "end_time": "2023-08-26T17:52:30.067564",
     "exception": false,
     "start_time": "2023-08-26T17:52:30.025254",
     "status": "completed"
    },
    "tags": []
   },
   "outputs": [],
   "source": [
    "sc=StandardScaler()\n",
    "x_train=sc.fit_transform(x_train)\n",
    "x_test=sc.transform(x_test)"
   ]
  },
  {
   "cell_type": "code",
   "execution_count": 47,
   "id": "673da11d",
   "metadata": {
    "execution": {
     "iopub.execute_input": "2023-08-26T17:52:30.119374Z",
     "iopub.status.busy": "2023-08-26T17:52:30.118909Z",
     "iopub.status.idle": "2023-08-26T17:52:30.126384Z",
     "shell.execute_reply": "2023-08-26T17:52:30.125564Z"
    },
    "papermill": {
     "duration": 0.036043,
     "end_time": "2023-08-26T17:52:30.128444",
     "exception": false,
     "start_time": "2023-08-26T17:52:30.092401",
     "status": "completed"
    },
    "tags": []
   },
   "outputs": [
    {
     "data": {
      "text/plain": [
       "array([[-1.38547975, -0.93891988, -1.03586961, ..., -0.57735027,\n",
       "        -0.57823004, -1.08972474],\n",
       "       [ 0.97953771,  1.14222324, -0.68911014, ...,  1.73205081,\n",
       "        -0.57823004,  0.91766294],\n",
       "       [ 2.06393436,  2.56118446, -0.34235067, ..., -0.57735027,\n",
       "        -0.57823004,  0.91766294],\n",
       "       ...,\n",
       "       [-2.36660053, -1.0335173 ,  1.04468721, ...,  1.73205081,\n",
       "        -0.57823004,  0.91766294],\n",
       "       [ 2.06393436,  0.10165168,  1.39144668, ..., -0.57735027,\n",
       "        -0.57823004,  0.91766294],\n",
       "       [ 0.78331355, -1.0335173 , -1.03586961, ..., -0.57735027,\n",
       "        -0.57823004,  0.91766294]])"
      ]
     },
     "execution_count": 47,
     "metadata": {},
     "output_type": "execute_result"
    }
   ],
   "source": [
    "x_train"
   ]
  },
  {
   "cell_type": "code",
   "execution_count": 48,
   "id": "f0996c20",
   "metadata": {
    "execution": {
     "iopub.execute_input": "2023-08-26T17:52:30.180431Z",
     "iopub.status.busy": "2023-08-26T17:52:30.180037Z",
     "iopub.status.idle": "2023-08-26T17:52:30.283997Z",
     "shell.execute_reply": "2023-08-26T17:52:30.282811Z"
    },
    "papermill": {
     "duration": 0.133106,
     "end_time": "2023-08-26T17:52:30.286545",
     "exception": false,
     "start_time": "2023-08-26T17:52:30.153439",
     "status": "completed"
    },
    "tags": []
   },
   "outputs": [],
   "source": [
    "# Logistic Regression\n",
    "from sklearn.linear_model import LogisticRegression\n",
    "log=LogisticRegression()"
   ]
  },
  {
   "cell_type": "code",
   "execution_count": 49,
   "id": "953f9da8",
   "metadata": {
    "execution": {
     "iopub.execute_input": "2023-08-26T17:52:30.338407Z",
     "iopub.status.busy": "2023-08-26T17:52:30.337941Z",
     "iopub.status.idle": "2023-08-26T17:52:30.380669Z",
     "shell.execute_reply": "2023-08-26T17:52:30.379353Z"
    },
    "papermill": {
     "duration": 0.072976,
     "end_time": "2023-08-26T17:52:30.384650",
     "exception": false,
     "start_time": "2023-08-26T17:52:30.311674",
     "status": "completed"
    },
    "tags": []
   },
   "outputs": [
    {
     "data": {
      "text/html": [
       "<style>#sk-container-id-4 {color: black;background-color: white;}#sk-container-id-4 pre{padding: 0;}#sk-container-id-4 div.sk-toggleable {background-color: white;}#sk-container-id-4 label.sk-toggleable__label {cursor: pointer;display: block;width: 100%;margin-bottom: 0;padding: 0.3em;box-sizing: border-box;text-align: center;}#sk-container-id-4 label.sk-toggleable__label-arrow:before {content: \"▸\";float: left;margin-right: 0.25em;color: #696969;}#sk-container-id-4 label.sk-toggleable__label-arrow:hover:before {color: black;}#sk-container-id-4 div.sk-estimator:hover label.sk-toggleable__label-arrow:before {color: black;}#sk-container-id-4 div.sk-toggleable__content {max-height: 0;max-width: 0;overflow: hidden;text-align: left;background-color: #f0f8ff;}#sk-container-id-4 div.sk-toggleable__content pre {margin: 0.2em;color: black;border-radius: 0.25em;background-color: #f0f8ff;}#sk-container-id-4 input.sk-toggleable__control:checked~div.sk-toggleable__content {max-height: 200px;max-width: 100%;overflow: auto;}#sk-container-id-4 input.sk-toggleable__control:checked~label.sk-toggleable__label-arrow:before {content: \"▾\";}#sk-container-id-4 div.sk-estimator input.sk-toggleable__control:checked~label.sk-toggleable__label {background-color: #d4ebff;}#sk-container-id-4 div.sk-label input.sk-toggleable__control:checked~label.sk-toggleable__label {background-color: #d4ebff;}#sk-container-id-4 input.sk-hidden--visually {border: 0;clip: rect(1px 1px 1px 1px);clip: rect(1px, 1px, 1px, 1px);height: 1px;margin: -1px;overflow: hidden;padding: 0;position: absolute;width: 1px;}#sk-container-id-4 div.sk-estimator {font-family: monospace;background-color: #f0f8ff;border: 1px dotted black;border-radius: 0.25em;box-sizing: border-box;margin-bottom: 0.5em;}#sk-container-id-4 div.sk-estimator:hover {background-color: #d4ebff;}#sk-container-id-4 div.sk-parallel-item::after {content: \"\";width: 100%;border-bottom: 1px solid gray;flex-grow: 1;}#sk-container-id-4 div.sk-label:hover label.sk-toggleable__label {background-color: #d4ebff;}#sk-container-id-4 div.sk-serial::before {content: \"\";position: absolute;border-left: 1px solid gray;box-sizing: border-box;top: 0;bottom: 0;left: 50%;z-index: 0;}#sk-container-id-4 div.sk-serial {display: flex;flex-direction: column;align-items: center;background-color: white;padding-right: 0.2em;padding-left: 0.2em;position: relative;}#sk-container-id-4 div.sk-item {position: relative;z-index: 1;}#sk-container-id-4 div.sk-parallel {display: flex;align-items: stretch;justify-content: center;background-color: white;position: relative;}#sk-container-id-4 div.sk-item::before, #sk-container-id-4 div.sk-parallel-item::before {content: \"\";position: absolute;border-left: 1px solid gray;box-sizing: border-box;top: 0;bottom: 0;left: 50%;z-index: -1;}#sk-container-id-4 div.sk-parallel-item {display: flex;flex-direction: column;z-index: 1;position: relative;background-color: white;}#sk-container-id-4 div.sk-parallel-item:first-child::after {align-self: flex-end;width: 50%;}#sk-container-id-4 div.sk-parallel-item:last-child::after {align-self: flex-start;width: 50%;}#sk-container-id-4 div.sk-parallel-item:only-child::after {width: 0;}#sk-container-id-4 div.sk-dashed-wrapped {border: 1px dashed gray;margin: 0 0.4em 0.5em 0.4em;box-sizing: border-box;padding-bottom: 0.4em;background-color: white;}#sk-container-id-4 div.sk-label label {font-family: monospace;font-weight: bold;display: inline-block;line-height: 1.2em;}#sk-container-id-4 div.sk-label-container {text-align: center;}#sk-container-id-4 div.sk-container {/* jupyter's `normalize.less` sets `[hidden] { display: none; }` but bootstrap.min.css set `[hidden] { display: none !important; }` so we also need the `!important` here to be able to override the default hidden behavior on the sphinx rendered scikit-learn.org. See: https://github.com/scikit-learn/scikit-learn/issues/21755 */display: inline-block !important;position: relative;}#sk-container-id-4 div.sk-text-repr-fallback {display: none;}</style><div id=\"sk-container-id-4\" class=\"sk-top-container\"><div class=\"sk-text-repr-fallback\"><pre>LogisticRegression()</pre><b>In a Jupyter environment, please rerun this cell to show the HTML representation or trust the notebook. <br />On GitHub, the HTML representation is unable to render, please try loading this page with nbviewer.org.</b></div><div class=\"sk-container\" hidden><div class=\"sk-item\"><div class=\"sk-estimator sk-toggleable\"><input class=\"sk-toggleable__control sk-hidden--visually\" id=\"sk-estimator-id-4\" type=\"checkbox\" checked><label for=\"sk-estimator-id-4\" class=\"sk-toggleable__label sk-toggleable__label-arrow\">LogisticRegression</label><div class=\"sk-toggleable__content\"><pre>LogisticRegression()</pre></div></div></div></div></div>"
      ],
      "text/plain": [
       "LogisticRegression()"
      ]
     },
     "execution_count": 49,
     "metadata": {},
     "output_type": "execute_result"
    }
   ],
   "source": [
    "log.fit(x_train,y_train)"
   ]
  },
  {
   "cell_type": "code",
   "execution_count": 50,
   "id": "e9fe2328",
   "metadata": {
    "execution": {
     "iopub.execute_input": "2023-08-26T17:52:30.489324Z",
     "iopub.status.busy": "2023-08-26T17:52:30.488900Z",
     "iopub.status.idle": "2023-08-26T17:52:30.495680Z",
     "shell.execute_reply": "2023-08-26T17:52:30.494259Z"
    },
    "papermill": {
     "duration": 0.060985,
     "end_time": "2023-08-26T17:52:30.499523",
     "exception": false,
     "start_time": "2023-08-26T17:52:30.438538",
     "status": "completed"
    },
    "tags": []
   },
   "outputs": [],
   "source": [
    "y_pred=log.predict(x_test)"
   ]
  },
  {
   "cell_type": "code",
   "execution_count": 51,
   "id": "aaeb1b51",
   "metadata": {
    "execution": {
     "iopub.execute_input": "2023-08-26T17:52:30.612301Z",
     "iopub.status.busy": "2023-08-26T17:52:30.610492Z",
     "iopub.status.idle": "2023-08-26T17:52:30.620378Z",
     "shell.execute_reply": "2023-08-26T17:52:30.619285Z"
    },
    "papermill": {
     "duration": 0.068221,
     "end_time": "2023-08-26T17:52:30.623031",
     "exception": false,
     "start_time": "2023-08-26T17:52:30.554810",
     "status": "completed"
    },
    "tags": []
   },
   "outputs": [
    {
     "data": {
      "text/plain": [
       "0.8093333333333333"
      ]
     },
     "execution_count": 51,
     "metadata": {},
     "output_type": "execute_result"
    }
   ],
   "source": [
    "from sklearn.metrics import accuracy_score\n",
    "accuracy_score(y_test,y_pred)"
   ]
  },
  {
   "cell_type": "code",
   "execution_count": 52,
   "id": "4383545b",
   "metadata": {
    "execution": {
     "iopub.execute_input": "2023-08-26T17:52:30.676885Z",
     "iopub.status.busy": "2023-08-26T17:52:30.676073Z",
     "iopub.status.idle": "2023-08-26T17:52:30.680998Z",
     "shell.execute_reply": "2023-08-26T17:52:30.680262Z"
    },
    "papermill": {
     "duration": 0.034141,
     "end_time": "2023-08-26T17:52:30.683075",
     "exception": false,
     "start_time": "2023-08-26T17:52:30.648934",
     "status": "completed"
    },
    "tags": []
   },
   "outputs": [],
   "source": [
    "from sklearn.metrics import precision_score,recall_score,f1_score"
   ]
  },
  {
   "cell_type": "code",
   "execution_count": 53,
   "id": "87849a10",
   "metadata": {
    "execution": {
     "iopub.execute_input": "2023-08-26T17:52:30.735545Z",
     "iopub.status.busy": "2023-08-26T17:52:30.735133Z",
     "iopub.status.idle": "2023-08-26T17:52:30.745184Z",
     "shell.execute_reply": "2023-08-26T17:52:30.744027Z"
    },
    "papermill": {
     "duration": 0.039028,
     "end_time": "2023-08-26T17:52:30.747500",
     "exception": false,
     "start_time": "2023-08-26T17:52:30.708472",
     "status": "completed"
    },
    "tags": []
   },
   "outputs": [
    {
     "data": {
      "text/plain": [
       "0.5951219512195122"
      ]
     },
     "execution_count": 53,
     "metadata": {},
     "output_type": "execute_result"
    }
   ],
   "source": [
    "precision_score(y_test,y_pred)"
   ]
  },
  {
   "cell_type": "code",
   "execution_count": 54,
   "id": "50aeaba7",
   "metadata": {
    "execution": {
     "iopub.execute_input": "2023-08-26T17:52:30.800804Z",
     "iopub.status.busy": "2023-08-26T17:52:30.800413Z",
     "iopub.status.idle": "2023-08-26T17:52:30.810067Z",
     "shell.execute_reply": "2023-08-26T17:52:30.809028Z"
    },
    "papermill": {
     "duration": 0.038882,
     "end_time": "2023-08-26T17:52:30.812227",
     "exception": false,
     "start_time": "2023-08-26T17:52:30.773345",
     "status": "completed"
    },
    "tags": []
   },
   "outputs": [
    {
     "data": {
      "text/plain": [
       "0.19967266775777415"
      ]
     },
     "execution_count": 54,
     "metadata": {},
     "output_type": "execute_result"
    }
   ],
   "source": [
    "recall_score(y_test,y_pred)"
   ]
  },
  {
   "cell_type": "code",
   "execution_count": 55,
   "id": "4fbccbde",
   "metadata": {
    "execution": {
     "iopub.execute_input": "2023-08-26T17:52:30.865173Z",
     "iopub.status.busy": "2023-08-26T17:52:30.864789Z",
     "iopub.status.idle": "2023-08-26T17:52:30.874126Z",
     "shell.execute_reply": "2023-08-26T17:52:30.873051Z"
    },
    "papermill": {
     "duration": 0.038624,
     "end_time": "2023-08-26T17:52:30.876397",
     "exception": false,
     "start_time": "2023-08-26T17:52:30.837773",
     "status": "completed"
    },
    "tags": []
   },
   "outputs": [
    {
     "data": {
      "text/plain": [
       "0.29901960784313725"
      ]
     },
     "execution_count": 55,
     "metadata": {},
     "output_type": "execute_result"
    }
   ],
   "source": [
    "f1_score(y_test,y_pred)"
   ]
  },
  {
   "cell_type": "code",
   "execution_count": 56,
   "id": "ceeb5ba1",
   "metadata": {
    "execution": {
     "iopub.execute_input": "2023-08-26T17:52:30.929959Z",
     "iopub.status.busy": "2023-08-26T17:52:30.929537Z",
     "iopub.status.idle": "2023-08-26T17:52:31.420515Z",
     "shell.execute_reply": "2023-08-26T17:52:31.419247Z"
    },
    "papermill": {
     "duration": 0.520899,
     "end_time": "2023-08-26T17:52:31.423248",
     "exception": false,
     "start_time": "2023-08-26T17:52:30.902349",
     "status": "completed"
    },
    "tags": []
   },
   "outputs": [],
   "source": [
    "# handling imbalanced data with SMOTE\n",
    "from imblearn.over_sampling import SMOTE"
   ]
  },
  {
   "cell_type": "code",
   "execution_count": 57,
   "id": "32afc4ce",
   "metadata": {
    "execution": {
     "iopub.execute_input": "2023-08-26T17:52:31.478016Z",
     "iopub.status.busy": "2023-08-26T17:52:31.477594Z",
     "iopub.status.idle": "2023-08-26T17:52:31.513307Z",
     "shell.execute_reply": "2023-08-26T17:52:31.512048Z"
    },
    "papermill": {
     "duration": 0.066062,
     "end_time": "2023-08-26T17:52:31.516158",
     "exception": false,
     "start_time": "2023-08-26T17:52:31.450096",
     "status": "completed"
    },
    "tags": []
   },
   "outputs": [],
   "source": [
    "x_res,y_res=SMOTE().fit_resample(x,y)"
   ]
  },
  {
   "cell_type": "code",
   "execution_count": 58,
   "id": "c4bb7ae2",
   "metadata": {
    "execution": {
     "iopub.execute_input": "2023-08-26T17:52:31.572114Z",
     "iopub.status.busy": "2023-08-26T17:52:31.571000Z",
     "iopub.status.idle": "2023-08-26T17:52:31.580409Z",
     "shell.execute_reply": "2023-08-26T17:52:31.579262Z"
    },
    "papermill": {
     "duration": 0.039733,
     "end_time": "2023-08-26T17:52:31.582595",
     "exception": false,
     "start_time": "2023-08-26T17:52:31.542862",
     "status": "completed"
    },
    "tags": []
   },
   "outputs": [
    {
     "data": {
      "text/plain": [
       "1    7963\n",
       "0    7963\n",
       "Name: Exited, dtype: int64"
      ]
     },
     "execution_count": 58,
     "metadata": {},
     "output_type": "execute_result"
    }
   ],
   "source": [
    "y_res.value_counts()"
   ]
  },
  {
   "cell_type": "code",
   "execution_count": 59,
   "id": "588e3aa5",
   "metadata": {
    "execution": {
     "iopub.execute_input": "2023-08-26T17:52:31.638357Z",
     "iopub.status.busy": "2023-08-26T17:52:31.637284Z",
     "iopub.status.idle": "2023-08-26T17:52:31.648276Z",
     "shell.execute_reply": "2023-08-26T17:52:31.647362Z"
    },
    "papermill": {
     "duration": 0.041845,
     "end_time": "2023-08-26T17:52:31.650837",
     "exception": false,
     "start_time": "2023-08-26T17:52:31.608992",
     "status": "completed"
    },
    "tags": []
   },
   "outputs": [],
   "source": [
    "x_train,x_test,y_train,y_test=train_test_split(x_res,y_res,test_size=0.30,random_state=1)"
   ]
  },
  {
   "cell_type": "code",
   "execution_count": 60,
   "id": "6d63b863",
   "metadata": {
    "execution": {
     "iopub.execute_input": "2023-08-26T17:52:31.705953Z",
     "iopub.status.busy": "2023-08-26T17:52:31.705274Z",
     "iopub.status.idle": "2023-08-26T17:52:31.819726Z",
     "shell.execute_reply": "2023-08-26T17:52:31.818583Z"
    },
    "papermill": {
     "duration": 0.145756,
     "end_time": "2023-08-26T17:52:31.823433",
     "exception": false,
     "start_time": "2023-08-26T17:52:31.677677",
     "status": "completed"
    },
    "tags": []
   },
   "outputs": [
    {
     "data": {
      "text/plain": [
       "0.6778987023859355"
      ]
     },
     "execution_count": 60,
     "metadata": {},
     "output_type": "execute_result"
    }
   ],
   "source": [
    "# feature scaling\n",
    "from sklearn.linear_model import LogisticRegression\n",
    "LR=LogisticRegression()\n",
    "LR.fit(x_train,y_train)\n",
    "y_pred1=LR.predict(x_test)\n",
    "accuracy_score(y_test,y_pred1)"
   ]
  },
  {
   "cell_type": "code",
   "execution_count": 61,
   "id": "a520b934",
   "metadata": {
    "execution": {
     "iopub.execute_input": "2023-08-26T17:52:31.935808Z",
     "iopub.status.busy": "2023-08-26T17:52:31.935396Z",
     "iopub.status.idle": "2023-08-26T17:52:31.946679Z",
     "shell.execute_reply": "2023-08-26T17:52:31.945646Z"
    },
    "papermill": {
     "duration": 0.069499,
     "end_time": "2023-08-26T17:52:31.948940",
     "exception": false,
     "start_time": "2023-08-26T17:52:31.879441",
     "status": "completed"
    },
    "tags": []
   },
   "outputs": [
    {
     "data": {
      "text/plain": [
       "0.6852525252525252"
      ]
     },
     "execution_count": 61,
     "metadata": {},
     "output_type": "execute_result"
    }
   ],
   "source": [
    "precision_score(y_test,y_pred1)"
   ]
  },
  {
   "cell_type": "code",
   "execution_count": 62,
   "id": "2275c39a",
   "metadata": {
    "execution": {
     "iopub.execute_input": "2023-08-26T17:52:32.003818Z",
     "iopub.status.busy": "2023-08-26T17:52:32.003046Z",
     "iopub.status.idle": "2023-08-26T17:52:32.013850Z",
     "shell.execute_reply": "2023-08-26T17:52:32.012890Z"
    },
    "papermill": {
     "duration": 0.040697,
     "end_time": "2023-08-26T17:52:32.016072",
     "exception": false,
     "start_time": "2023-08-26T17:52:31.975375",
     "status": "completed"
    },
    "tags": []
   },
   "outputs": [
    {
     "data": {
      "text/plain": [
       "0.6905537459283387"
      ]
     },
     "execution_count": 62,
     "metadata": {},
     "output_type": "execute_result"
    }
   ],
   "source": [
    "recall_score(y_test,y_pred1)"
   ]
  },
  {
   "cell_type": "code",
   "execution_count": 63,
   "id": "3c5261d6",
   "metadata": {
    "execution": {
     "iopub.execute_input": "2023-08-26T17:52:32.071662Z",
     "iopub.status.busy": "2023-08-26T17:52:32.070535Z",
     "iopub.status.idle": "2023-08-26T17:52:32.081528Z",
     "shell.execute_reply": "2023-08-26T17:52:32.080536Z"
    },
    "papermill": {
     "duration": 0.04106,
     "end_time": "2023-08-26T17:52:32.083729",
     "exception": false,
     "start_time": "2023-08-26T17:52:32.042669",
     "status": "completed"
    },
    "tags": []
   },
   "outputs": [
    {
     "data": {
      "text/plain": [
       "0.6878929223281282"
      ]
     },
     "execution_count": 63,
     "metadata": {},
     "output_type": "execute_result"
    }
   ],
   "source": [
    "f1_score(y_test,y_pred1)"
   ]
  },
  {
   "cell_type": "code",
   "execution_count": 64,
   "id": "dc7de913",
   "metadata": {
    "execution": {
     "iopub.execute_input": "2023-08-26T17:52:32.139018Z",
     "iopub.status.busy": "2023-08-26T17:52:32.138001Z",
     "iopub.status.idle": "2023-08-26T17:52:32.143249Z",
     "shell.execute_reply": "2023-08-26T17:52:32.142374Z"
    },
    "papermill": {
     "duration": 0.035128,
     "end_time": "2023-08-26T17:52:32.145495",
     "exception": false,
     "start_time": "2023-08-26T17:52:32.110367",
     "status": "completed"
    },
    "tags": []
   },
   "outputs": [],
   "source": [
    "# SVC\n",
    "from sklearn import svm\n",
    "SVC=svm.SVC()"
   ]
  },
  {
   "cell_type": "code",
   "execution_count": 65,
   "id": "9ca3ebd4",
   "metadata": {
    "execution": {
     "iopub.execute_input": "2023-08-26T17:52:32.200159Z",
     "iopub.status.busy": "2023-08-26T17:52:32.199761Z",
     "iopub.status.idle": "2023-08-26T17:52:41.796343Z",
     "shell.execute_reply": "2023-08-26T17:52:41.795186Z"
    },
    "papermill": {
     "duration": 9.626908,
     "end_time": "2023-08-26T17:52:41.798909",
     "exception": false,
     "start_time": "2023-08-26T17:52:32.172001",
     "status": "completed"
    },
    "tags": []
   },
   "outputs": [
    {
     "data": {
      "text/html": [
       "<style>#sk-container-id-5 {color: black;background-color: white;}#sk-container-id-5 pre{padding: 0;}#sk-container-id-5 div.sk-toggleable {background-color: white;}#sk-container-id-5 label.sk-toggleable__label {cursor: pointer;display: block;width: 100%;margin-bottom: 0;padding: 0.3em;box-sizing: border-box;text-align: center;}#sk-container-id-5 label.sk-toggleable__label-arrow:before {content: \"▸\";float: left;margin-right: 0.25em;color: #696969;}#sk-container-id-5 label.sk-toggleable__label-arrow:hover:before {color: black;}#sk-container-id-5 div.sk-estimator:hover label.sk-toggleable__label-arrow:before {color: black;}#sk-container-id-5 div.sk-toggleable__content {max-height: 0;max-width: 0;overflow: hidden;text-align: left;background-color: #f0f8ff;}#sk-container-id-5 div.sk-toggleable__content pre {margin: 0.2em;color: black;border-radius: 0.25em;background-color: #f0f8ff;}#sk-container-id-5 input.sk-toggleable__control:checked~div.sk-toggleable__content {max-height: 200px;max-width: 100%;overflow: auto;}#sk-container-id-5 input.sk-toggleable__control:checked~label.sk-toggleable__label-arrow:before {content: \"▾\";}#sk-container-id-5 div.sk-estimator input.sk-toggleable__control:checked~label.sk-toggleable__label {background-color: #d4ebff;}#sk-container-id-5 div.sk-label input.sk-toggleable__control:checked~label.sk-toggleable__label {background-color: #d4ebff;}#sk-container-id-5 input.sk-hidden--visually {border: 0;clip: rect(1px 1px 1px 1px);clip: rect(1px, 1px, 1px, 1px);height: 1px;margin: -1px;overflow: hidden;padding: 0;position: absolute;width: 1px;}#sk-container-id-5 div.sk-estimator {font-family: monospace;background-color: #f0f8ff;border: 1px dotted black;border-radius: 0.25em;box-sizing: border-box;margin-bottom: 0.5em;}#sk-container-id-5 div.sk-estimator:hover {background-color: #d4ebff;}#sk-container-id-5 div.sk-parallel-item::after {content: \"\";width: 100%;border-bottom: 1px solid gray;flex-grow: 1;}#sk-container-id-5 div.sk-label:hover label.sk-toggleable__label {background-color: #d4ebff;}#sk-container-id-5 div.sk-serial::before {content: \"\";position: absolute;border-left: 1px solid gray;box-sizing: border-box;top: 0;bottom: 0;left: 50%;z-index: 0;}#sk-container-id-5 div.sk-serial {display: flex;flex-direction: column;align-items: center;background-color: white;padding-right: 0.2em;padding-left: 0.2em;position: relative;}#sk-container-id-5 div.sk-item {position: relative;z-index: 1;}#sk-container-id-5 div.sk-parallel {display: flex;align-items: stretch;justify-content: center;background-color: white;position: relative;}#sk-container-id-5 div.sk-item::before, #sk-container-id-5 div.sk-parallel-item::before {content: \"\";position: absolute;border-left: 1px solid gray;box-sizing: border-box;top: 0;bottom: 0;left: 50%;z-index: -1;}#sk-container-id-5 div.sk-parallel-item {display: flex;flex-direction: column;z-index: 1;position: relative;background-color: white;}#sk-container-id-5 div.sk-parallel-item:first-child::after {align-self: flex-end;width: 50%;}#sk-container-id-5 div.sk-parallel-item:last-child::after {align-self: flex-start;width: 50%;}#sk-container-id-5 div.sk-parallel-item:only-child::after {width: 0;}#sk-container-id-5 div.sk-dashed-wrapped {border: 1px dashed gray;margin: 0 0.4em 0.5em 0.4em;box-sizing: border-box;padding-bottom: 0.4em;background-color: white;}#sk-container-id-5 div.sk-label label {font-family: monospace;font-weight: bold;display: inline-block;line-height: 1.2em;}#sk-container-id-5 div.sk-label-container {text-align: center;}#sk-container-id-5 div.sk-container {/* jupyter's `normalize.less` sets `[hidden] { display: none; }` but bootstrap.min.css set `[hidden] { display: none !important; }` so we also need the `!important` here to be able to override the default hidden behavior on the sphinx rendered scikit-learn.org. See: https://github.com/scikit-learn/scikit-learn/issues/21755 */display: inline-block !important;position: relative;}#sk-container-id-5 div.sk-text-repr-fallback {display: none;}</style><div id=\"sk-container-id-5\" class=\"sk-top-container\"><div class=\"sk-text-repr-fallback\"><pre>SVC()</pre><b>In a Jupyter environment, please rerun this cell to show the HTML representation or trust the notebook. <br />On GitHub, the HTML representation is unable to render, please try loading this page with nbviewer.org.</b></div><div class=\"sk-container\" hidden><div class=\"sk-item\"><div class=\"sk-estimator sk-toggleable\"><input class=\"sk-toggleable__control sk-hidden--visually\" id=\"sk-estimator-id-5\" type=\"checkbox\" checked><label for=\"sk-estimator-id-5\" class=\"sk-toggleable__label sk-toggleable__label-arrow\">SVC</label><div class=\"sk-toggleable__content\"><pre>SVC()</pre></div></div></div></div></div>"
      ],
      "text/plain": [
       "SVC()"
      ]
     },
     "execution_count": 65,
     "metadata": {},
     "output_type": "execute_result"
    }
   ],
   "source": [
    "SVC.fit(x_train,y_train)"
   ]
  },
  {
   "cell_type": "code",
   "execution_count": 66,
   "id": "c93a0b56",
   "metadata": {
    "execution": {
     "iopub.execute_input": "2023-08-26T17:52:41.855462Z",
     "iopub.status.busy": "2023-08-26T17:52:41.855019Z",
     "iopub.status.idle": "2023-08-26T17:52:43.763103Z",
     "shell.execute_reply": "2023-08-26T17:52:43.762125Z"
    },
    "papermill": {
     "duration": 1.939223,
     "end_time": "2023-08-26T17:52:43.765770",
     "exception": false,
     "start_time": "2023-08-26T17:52:41.826547",
     "status": "completed"
    },
    "tags": []
   },
   "outputs": [],
   "source": [
    "y_pred2=SVC.predict(x_test)"
   ]
  },
  {
   "cell_type": "code",
   "execution_count": 67,
   "id": "6d9ec615",
   "metadata": {
    "execution": {
     "iopub.execute_input": "2023-08-26T17:52:43.823369Z",
     "iopub.status.busy": "2023-08-26T17:52:43.822631Z",
     "iopub.status.idle": "2023-08-26T17:52:43.829751Z",
     "shell.execute_reply": "2023-08-26T17:52:43.828993Z"
    },
    "papermill": {
     "duration": 0.038361,
     "end_time": "2023-08-26T17:52:43.831992",
     "exception": false,
     "start_time": "2023-08-26T17:52:43.793631",
     "status": "completed"
    },
    "tags": []
   },
   "outputs": [
    {
     "data": {
      "text/plain": [
       "0.577019673503558"
      ]
     },
     "execution_count": 67,
     "metadata": {},
     "output_type": "execute_result"
    }
   ],
   "source": [
    "accuracy_score(y_test,y_pred2)"
   ]
  },
  {
   "cell_type": "code",
   "execution_count": 68,
   "id": "923a676d",
   "metadata": {
    "execution": {
     "iopub.execute_input": "2023-08-26T17:52:43.889414Z",
     "iopub.status.busy": "2023-08-26T17:52:43.888985Z",
     "iopub.status.idle": "2023-08-26T17:52:43.899743Z",
     "shell.execute_reply": "2023-08-26T17:52:43.898626Z"
    },
    "papermill": {
     "duration": 0.04274,
     "end_time": "2023-08-26T17:52:43.902032",
     "exception": false,
     "start_time": "2023-08-26T17:52:43.859292",
     "status": "completed"
    },
    "tags": []
   },
   "outputs": [
    {
     "data": {
      "text/plain": [
       "0.5659690627843494"
      ]
     },
     "execution_count": 68,
     "metadata": {},
     "output_type": "execute_result"
    }
   ],
   "source": [
    "precision_score(y_test,y_pred2)"
   ]
  },
  {
   "cell_type": "code",
   "execution_count": 69,
   "id": "8914627c",
   "metadata": {
    "execution": {
     "iopub.execute_input": "2023-08-26T17:52:43.958404Z",
     "iopub.status.busy": "2023-08-26T17:52:43.957993Z",
     "iopub.status.idle": "2023-08-26T17:52:43.962598Z",
     "shell.execute_reply": "2023-08-26T17:52:43.961288Z"
    },
    "papermill": {
     "duration": 0.035686,
     "end_time": "2023-08-26T17:52:43.964916",
     "exception": false,
     "start_time": "2023-08-26T17:52:43.929230",
     "status": "completed"
    },
    "tags": []
   },
   "outputs": [],
   "source": [
    "# KNeighbors Classifier\n",
    "from sklearn.neighbors import KNeighborsClassifier"
   ]
  },
  {
   "cell_type": "code",
   "execution_count": 70,
   "id": "64542362",
   "metadata": {
    "execution": {
     "iopub.execute_input": "2023-08-26T17:52:44.021807Z",
     "iopub.status.busy": "2023-08-26T17:52:44.021399Z",
     "iopub.status.idle": "2023-08-26T17:52:44.026552Z",
     "shell.execute_reply": "2023-08-26T17:52:44.025400Z"
    },
    "papermill": {
     "duration": 0.03632,
     "end_time": "2023-08-26T17:52:44.029112",
     "exception": false,
     "start_time": "2023-08-26T17:52:43.992792",
     "status": "completed"
    },
    "tags": []
   },
   "outputs": [],
   "source": [
    "KNN=KNeighborsClassifier()"
   ]
  },
  {
   "cell_type": "code",
   "execution_count": 71,
   "id": "b720b473",
   "metadata": {
    "execution": {
     "iopub.execute_input": "2023-08-26T17:52:44.085027Z",
     "iopub.status.busy": "2023-08-26T17:52:44.084647Z",
     "iopub.status.idle": "2023-08-26T17:52:44.112903Z",
     "shell.execute_reply": "2023-08-26T17:52:44.111720Z"
    },
    "papermill": {
     "duration": 0.058787,
     "end_time": "2023-08-26T17:52:44.115177",
     "exception": false,
     "start_time": "2023-08-26T17:52:44.056390",
     "status": "completed"
    },
    "tags": []
   },
   "outputs": [
    {
     "data": {
      "text/html": [
       "<style>#sk-container-id-6 {color: black;background-color: white;}#sk-container-id-6 pre{padding: 0;}#sk-container-id-6 div.sk-toggleable {background-color: white;}#sk-container-id-6 label.sk-toggleable__label {cursor: pointer;display: block;width: 100%;margin-bottom: 0;padding: 0.3em;box-sizing: border-box;text-align: center;}#sk-container-id-6 label.sk-toggleable__label-arrow:before {content: \"▸\";float: left;margin-right: 0.25em;color: #696969;}#sk-container-id-6 label.sk-toggleable__label-arrow:hover:before {color: black;}#sk-container-id-6 div.sk-estimator:hover label.sk-toggleable__label-arrow:before {color: black;}#sk-container-id-6 div.sk-toggleable__content {max-height: 0;max-width: 0;overflow: hidden;text-align: left;background-color: #f0f8ff;}#sk-container-id-6 div.sk-toggleable__content pre {margin: 0.2em;color: black;border-radius: 0.25em;background-color: #f0f8ff;}#sk-container-id-6 input.sk-toggleable__control:checked~div.sk-toggleable__content {max-height: 200px;max-width: 100%;overflow: auto;}#sk-container-id-6 input.sk-toggleable__control:checked~label.sk-toggleable__label-arrow:before {content: \"▾\";}#sk-container-id-6 div.sk-estimator input.sk-toggleable__control:checked~label.sk-toggleable__label {background-color: #d4ebff;}#sk-container-id-6 div.sk-label input.sk-toggleable__control:checked~label.sk-toggleable__label {background-color: #d4ebff;}#sk-container-id-6 input.sk-hidden--visually {border: 0;clip: rect(1px 1px 1px 1px);clip: rect(1px, 1px, 1px, 1px);height: 1px;margin: -1px;overflow: hidden;padding: 0;position: absolute;width: 1px;}#sk-container-id-6 div.sk-estimator {font-family: monospace;background-color: #f0f8ff;border: 1px dotted black;border-radius: 0.25em;box-sizing: border-box;margin-bottom: 0.5em;}#sk-container-id-6 div.sk-estimator:hover {background-color: #d4ebff;}#sk-container-id-6 div.sk-parallel-item::after {content: \"\";width: 100%;border-bottom: 1px solid gray;flex-grow: 1;}#sk-container-id-6 div.sk-label:hover label.sk-toggleable__label {background-color: #d4ebff;}#sk-container-id-6 div.sk-serial::before {content: \"\";position: absolute;border-left: 1px solid gray;box-sizing: border-box;top: 0;bottom: 0;left: 50%;z-index: 0;}#sk-container-id-6 div.sk-serial {display: flex;flex-direction: column;align-items: center;background-color: white;padding-right: 0.2em;padding-left: 0.2em;position: relative;}#sk-container-id-6 div.sk-item {position: relative;z-index: 1;}#sk-container-id-6 div.sk-parallel {display: flex;align-items: stretch;justify-content: center;background-color: white;position: relative;}#sk-container-id-6 div.sk-item::before, #sk-container-id-6 div.sk-parallel-item::before {content: \"\";position: absolute;border-left: 1px solid gray;box-sizing: border-box;top: 0;bottom: 0;left: 50%;z-index: -1;}#sk-container-id-6 div.sk-parallel-item {display: flex;flex-direction: column;z-index: 1;position: relative;background-color: white;}#sk-container-id-6 div.sk-parallel-item:first-child::after {align-self: flex-end;width: 50%;}#sk-container-id-6 div.sk-parallel-item:last-child::after {align-self: flex-start;width: 50%;}#sk-container-id-6 div.sk-parallel-item:only-child::after {width: 0;}#sk-container-id-6 div.sk-dashed-wrapped {border: 1px dashed gray;margin: 0 0.4em 0.5em 0.4em;box-sizing: border-box;padding-bottom: 0.4em;background-color: white;}#sk-container-id-6 div.sk-label label {font-family: monospace;font-weight: bold;display: inline-block;line-height: 1.2em;}#sk-container-id-6 div.sk-label-container {text-align: center;}#sk-container-id-6 div.sk-container {/* jupyter's `normalize.less` sets `[hidden] { display: none; }` but bootstrap.min.css set `[hidden] { display: none !important; }` so we also need the `!important` here to be able to override the default hidden behavior on the sphinx rendered scikit-learn.org. See: https://github.com/scikit-learn/scikit-learn/issues/21755 */display: inline-block !important;position: relative;}#sk-container-id-6 div.sk-text-repr-fallback {display: none;}</style><div id=\"sk-container-id-6\" class=\"sk-top-container\"><div class=\"sk-text-repr-fallback\"><pre>KNeighborsClassifier()</pre><b>In a Jupyter environment, please rerun this cell to show the HTML representation or trust the notebook. <br />On GitHub, the HTML representation is unable to render, please try loading this page with nbviewer.org.</b></div><div class=\"sk-container\" hidden><div class=\"sk-item\"><div class=\"sk-estimator sk-toggleable\"><input class=\"sk-toggleable__control sk-hidden--visually\" id=\"sk-estimator-id-6\" type=\"checkbox\" checked><label for=\"sk-estimator-id-6\" class=\"sk-toggleable__label sk-toggleable__label-arrow\">KNeighborsClassifier</label><div class=\"sk-toggleable__content\"><pre>KNeighborsClassifier()</pre></div></div></div></div></div>"
      ],
      "text/plain": [
       "KNeighborsClassifier()"
      ]
     },
     "execution_count": 71,
     "metadata": {},
     "output_type": "execute_result"
    }
   ],
   "source": [
    "KNN.fit(x_train,y_train)"
   ]
  },
  {
   "cell_type": "code",
   "execution_count": 72,
   "id": "0657d782",
   "metadata": {
    "execution": {
     "iopub.execute_input": "2023-08-26T17:52:44.172305Z",
     "iopub.status.busy": "2023-08-26T17:52:44.171870Z",
     "iopub.status.idle": "2023-08-26T17:52:44.320444Z",
     "shell.execute_reply": "2023-08-26T17:52:44.319262Z"
    },
    "papermill": {
     "duration": 0.18039,
     "end_time": "2023-08-26T17:52:44.323367",
     "exception": false,
     "start_time": "2023-08-26T17:52:44.142977",
     "status": "completed"
    },
    "tags": []
   },
   "outputs": [],
   "source": [
    "y_pred3=KNN.predict(x_test)"
   ]
  },
  {
   "cell_type": "code",
   "execution_count": 73,
   "id": "ab126734",
   "metadata": {
    "execution": {
     "iopub.execute_input": "2023-08-26T17:52:44.382829Z",
     "iopub.status.busy": "2023-08-26T17:52:44.382405Z",
     "iopub.status.idle": "2023-08-26T17:52:44.391638Z",
     "shell.execute_reply": "2023-08-26T17:52:44.390539Z"
    },
    "papermill": {
     "duration": 0.040427,
     "end_time": "2023-08-26T17:52:44.393791",
     "exception": false,
     "start_time": "2023-08-26T17:52:44.353364",
     "status": "completed"
    },
    "tags": []
   },
   "outputs": [
    {
     "data": {
      "text/plain": [
       "0.6862704060276266"
      ]
     },
     "execution_count": 73,
     "metadata": {},
     "output_type": "execute_result"
    }
   ],
   "source": [
    "accuracy_score(y_pred3,y_test)"
   ]
  },
  {
   "cell_type": "code",
   "execution_count": 74,
   "id": "fbfa0be2",
   "metadata": {
    "execution": {
     "iopub.execute_input": "2023-08-26T17:52:44.452480Z",
     "iopub.status.busy": "2023-08-26T17:52:44.452058Z",
     "iopub.status.idle": "2023-08-26T17:52:44.462786Z",
     "shell.execute_reply": "2023-08-26T17:52:44.461955Z"
    },
    "papermill": {
     "duration": 0.043045,
     "end_time": "2023-08-26T17:52:44.465026",
     "exception": false,
     "start_time": "2023-08-26T17:52:44.421981",
     "status": "completed"
    },
    "tags": []
   },
   "outputs": [
    {
     "data": {
      "text/plain": [
       "0.6731813246471227"
      ]
     },
     "execution_count": 74,
     "metadata": {},
     "output_type": "execute_result"
    }
   ],
   "source": [
    "precision_score(y_test,y_pred3)"
   ]
  },
  {
   "cell_type": "code",
   "execution_count": 75,
   "id": "5f382ac4",
   "metadata": {
    "execution": {
     "iopub.execute_input": "2023-08-26T17:52:44.523447Z",
     "iopub.status.busy": "2023-08-26T17:52:44.523055Z",
     "iopub.status.idle": "2023-08-26T17:52:44.612115Z",
     "shell.execute_reply": "2023-08-26T17:52:44.610954Z"
    },
    "papermill": {
     "duration": 0.121453,
     "end_time": "2023-08-26T17:52:44.614603",
     "exception": false,
     "start_time": "2023-08-26T17:52:44.493150",
     "status": "completed"
    },
    "tags": []
   },
   "outputs": [
    {
     "data": {
      "text/html": [
       "<style>#sk-container-id-7 {color: black;background-color: white;}#sk-container-id-7 pre{padding: 0;}#sk-container-id-7 div.sk-toggleable {background-color: white;}#sk-container-id-7 label.sk-toggleable__label {cursor: pointer;display: block;width: 100%;margin-bottom: 0;padding: 0.3em;box-sizing: border-box;text-align: center;}#sk-container-id-7 label.sk-toggleable__label-arrow:before {content: \"▸\";float: left;margin-right: 0.25em;color: #696969;}#sk-container-id-7 label.sk-toggleable__label-arrow:hover:before {color: black;}#sk-container-id-7 div.sk-estimator:hover label.sk-toggleable__label-arrow:before {color: black;}#sk-container-id-7 div.sk-toggleable__content {max-height: 0;max-width: 0;overflow: hidden;text-align: left;background-color: #f0f8ff;}#sk-container-id-7 div.sk-toggleable__content pre {margin: 0.2em;color: black;border-radius: 0.25em;background-color: #f0f8ff;}#sk-container-id-7 input.sk-toggleable__control:checked~div.sk-toggleable__content {max-height: 200px;max-width: 100%;overflow: auto;}#sk-container-id-7 input.sk-toggleable__control:checked~label.sk-toggleable__label-arrow:before {content: \"▾\";}#sk-container-id-7 div.sk-estimator input.sk-toggleable__control:checked~label.sk-toggleable__label {background-color: #d4ebff;}#sk-container-id-7 div.sk-label input.sk-toggleable__control:checked~label.sk-toggleable__label {background-color: #d4ebff;}#sk-container-id-7 input.sk-hidden--visually {border: 0;clip: rect(1px 1px 1px 1px);clip: rect(1px, 1px, 1px, 1px);height: 1px;margin: -1px;overflow: hidden;padding: 0;position: absolute;width: 1px;}#sk-container-id-7 div.sk-estimator {font-family: monospace;background-color: #f0f8ff;border: 1px dotted black;border-radius: 0.25em;box-sizing: border-box;margin-bottom: 0.5em;}#sk-container-id-7 div.sk-estimator:hover {background-color: #d4ebff;}#sk-container-id-7 div.sk-parallel-item::after {content: \"\";width: 100%;border-bottom: 1px solid gray;flex-grow: 1;}#sk-container-id-7 div.sk-label:hover label.sk-toggleable__label {background-color: #d4ebff;}#sk-container-id-7 div.sk-serial::before {content: \"\";position: absolute;border-left: 1px solid gray;box-sizing: border-box;top: 0;bottom: 0;left: 50%;z-index: 0;}#sk-container-id-7 div.sk-serial {display: flex;flex-direction: column;align-items: center;background-color: white;padding-right: 0.2em;padding-left: 0.2em;position: relative;}#sk-container-id-7 div.sk-item {position: relative;z-index: 1;}#sk-container-id-7 div.sk-parallel {display: flex;align-items: stretch;justify-content: center;background-color: white;position: relative;}#sk-container-id-7 div.sk-item::before, #sk-container-id-7 div.sk-parallel-item::before {content: \"\";position: absolute;border-left: 1px solid gray;box-sizing: border-box;top: 0;bottom: 0;left: 50%;z-index: -1;}#sk-container-id-7 div.sk-parallel-item {display: flex;flex-direction: column;z-index: 1;position: relative;background-color: white;}#sk-container-id-7 div.sk-parallel-item:first-child::after {align-self: flex-end;width: 50%;}#sk-container-id-7 div.sk-parallel-item:last-child::after {align-self: flex-start;width: 50%;}#sk-container-id-7 div.sk-parallel-item:only-child::after {width: 0;}#sk-container-id-7 div.sk-dashed-wrapped {border: 1px dashed gray;margin: 0 0.4em 0.5em 0.4em;box-sizing: border-box;padding-bottom: 0.4em;background-color: white;}#sk-container-id-7 div.sk-label label {font-family: monospace;font-weight: bold;display: inline-block;line-height: 1.2em;}#sk-container-id-7 div.sk-label-container {text-align: center;}#sk-container-id-7 div.sk-container {/* jupyter's `normalize.less` sets `[hidden] { display: none; }` but bootstrap.min.css set `[hidden] { display: none !important; }` so we also need the `!important` here to be able to override the default hidden behavior on the sphinx rendered scikit-learn.org. See: https://github.com/scikit-learn/scikit-learn/issues/21755 */display: inline-block !important;position: relative;}#sk-container-id-7 div.sk-text-repr-fallback {display: none;}</style><div id=\"sk-container-id-7\" class=\"sk-top-container\"><div class=\"sk-text-repr-fallback\"><pre>DecisionTreeClassifier()</pre><b>In a Jupyter environment, please rerun this cell to show the HTML representation or trust the notebook. <br />On GitHub, the HTML representation is unable to render, please try loading this page with nbviewer.org.</b></div><div class=\"sk-container\" hidden><div class=\"sk-item\"><div class=\"sk-estimator sk-toggleable\"><input class=\"sk-toggleable__control sk-hidden--visually\" id=\"sk-estimator-id-7\" type=\"checkbox\" checked><label for=\"sk-estimator-id-7\" class=\"sk-toggleable__label sk-toggleable__label-arrow\">DecisionTreeClassifier</label><div class=\"sk-toggleable__content\"><pre>DecisionTreeClassifier()</pre></div></div></div></div></div>"
      ],
      "text/plain": [
       "DecisionTreeClassifier()"
      ]
     },
     "execution_count": 75,
     "metadata": {},
     "output_type": "execute_result"
    }
   ],
   "source": [
    "# decision tree classifier\n",
    "from sklearn.tree import DecisionTreeClassifier\n",
    "DT=DecisionTreeClassifier()\n",
    "DT.fit(x_train,y_train)"
   ]
  },
  {
   "cell_type": "code",
   "execution_count": 76,
   "id": "6f3945b1",
   "metadata": {
    "execution": {
     "iopub.execute_input": "2023-08-26T17:52:44.674643Z",
     "iopub.status.busy": "2023-08-26T17:52:44.674232Z",
     "iopub.status.idle": "2023-08-26T17:52:44.685454Z",
     "shell.execute_reply": "2023-08-26T17:52:44.684602Z"
    },
    "papermill": {
     "duration": 0.044894,
     "end_time": "2023-08-26T17:52:44.687767",
     "exception": false,
     "start_time": "2023-08-26T17:52:44.642873",
     "status": "completed"
    },
    "tags": []
   },
   "outputs": [
    {
     "data": {
      "text/plain": [
       "0.7900795311845961"
      ]
     },
     "execution_count": 76,
     "metadata": {},
     "output_type": "execute_result"
    }
   ],
   "source": [
    "y_pred4=DT.predict(x_test)\n",
    "accuracy_score(y_test,y_pred4)"
   ]
  },
  {
   "cell_type": "code",
   "execution_count": 77,
   "id": "2c7aff06",
   "metadata": {
    "execution": {
     "iopub.execute_input": "2023-08-26T17:52:44.748119Z",
     "iopub.status.busy": "2023-08-26T17:52:44.747724Z",
     "iopub.status.idle": "2023-08-26T17:52:44.752647Z",
     "shell.execute_reply": "2023-08-26T17:52:44.751429Z"
    },
    "papermill": {
     "duration": 0.037637,
     "end_time": "2023-08-26T17:52:44.754916",
     "exception": false,
     "start_time": "2023-08-26T17:52:44.717279",
     "status": "completed"
    },
    "tags": []
   },
   "outputs": [],
   "source": [
    "# Random Forest Classifier\n",
    "from sklearn.ensemble import RandomForestClassifier"
   ]
  },
  {
   "cell_type": "code",
   "execution_count": 78,
   "id": "317d0b21",
   "metadata": {
    "execution": {
     "iopub.execute_input": "2023-08-26T17:52:44.812643Z",
     "iopub.status.busy": "2023-08-26T17:52:44.812236Z",
     "iopub.status.idle": "2023-08-26T17:52:44.817543Z",
     "shell.execute_reply": "2023-08-26T17:52:44.816512Z"
    },
    "papermill": {
     "duration": 0.036805,
     "end_time": "2023-08-26T17:52:44.819834",
     "exception": false,
     "start_time": "2023-08-26T17:52:44.783029",
     "status": "completed"
    },
    "tags": []
   },
   "outputs": [],
   "source": [
    "RF=RandomForestClassifier()"
   ]
  },
  {
   "cell_type": "code",
   "execution_count": 79,
   "id": "00307a33",
   "metadata": {
    "execution": {
     "iopub.execute_input": "2023-08-26T17:52:44.877986Z",
     "iopub.status.busy": "2023-08-26T17:52:44.877568Z",
     "iopub.status.idle": "2023-08-26T17:52:46.926141Z",
     "shell.execute_reply": "2023-08-26T17:52:46.925347Z"
    },
    "papermill": {
     "duration": 2.080892,
     "end_time": "2023-08-26T17:52:46.928830",
     "exception": false,
     "start_time": "2023-08-26T17:52:44.847938",
     "status": "completed"
    },
    "tags": []
   },
   "outputs": [
    {
     "data": {
      "text/html": [
       "<style>#sk-container-id-8 {color: black;background-color: white;}#sk-container-id-8 pre{padding: 0;}#sk-container-id-8 div.sk-toggleable {background-color: white;}#sk-container-id-8 label.sk-toggleable__label {cursor: pointer;display: block;width: 100%;margin-bottom: 0;padding: 0.3em;box-sizing: border-box;text-align: center;}#sk-container-id-8 label.sk-toggleable__label-arrow:before {content: \"▸\";float: left;margin-right: 0.25em;color: #696969;}#sk-container-id-8 label.sk-toggleable__label-arrow:hover:before {color: black;}#sk-container-id-8 div.sk-estimator:hover label.sk-toggleable__label-arrow:before {color: black;}#sk-container-id-8 div.sk-toggleable__content {max-height: 0;max-width: 0;overflow: hidden;text-align: left;background-color: #f0f8ff;}#sk-container-id-8 div.sk-toggleable__content pre {margin: 0.2em;color: black;border-radius: 0.25em;background-color: #f0f8ff;}#sk-container-id-8 input.sk-toggleable__control:checked~div.sk-toggleable__content {max-height: 200px;max-width: 100%;overflow: auto;}#sk-container-id-8 input.sk-toggleable__control:checked~label.sk-toggleable__label-arrow:before {content: \"▾\";}#sk-container-id-8 div.sk-estimator input.sk-toggleable__control:checked~label.sk-toggleable__label {background-color: #d4ebff;}#sk-container-id-8 div.sk-label input.sk-toggleable__control:checked~label.sk-toggleable__label {background-color: #d4ebff;}#sk-container-id-8 input.sk-hidden--visually {border: 0;clip: rect(1px 1px 1px 1px);clip: rect(1px, 1px, 1px, 1px);height: 1px;margin: -1px;overflow: hidden;padding: 0;position: absolute;width: 1px;}#sk-container-id-8 div.sk-estimator {font-family: monospace;background-color: #f0f8ff;border: 1px dotted black;border-radius: 0.25em;box-sizing: border-box;margin-bottom: 0.5em;}#sk-container-id-8 div.sk-estimator:hover {background-color: #d4ebff;}#sk-container-id-8 div.sk-parallel-item::after {content: \"\";width: 100%;border-bottom: 1px solid gray;flex-grow: 1;}#sk-container-id-8 div.sk-label:hover label.sk-toggleable__label {background-color: #d4ebff;}#sk-container-id-8 div.sk-serial::before {content: \"\";position: absolute;border-left: 1px solid gray;box-sizing: border-box;top: 0;bottom: 0;left: 50%;z-index: 0;}#sk-container-id-8 div.sk-serial {display: flex;flex-direction: column;align-items: center;background-color: white;padding-right: 0.2em;padding-left: 0.2em;position: relative;}#sk-container-id-8 div.sk-item {position: relative;z-index: 1;}#sk-container-id-8 div.sk-parallel {display: flex;align-items: stretch;justify-content: center;background-color: white;position: relative;}#sk-container-id-8 div.sk-item::before, #sk-container-id-8 div.sk-parallel-item::before {content: \"\";position: absolute;border-left: 1px solid gray;box-sizing: border-box;top: 0;bottom: 0;left: 50%;z-index: -1;}#sk-container-id-8 div.sk-parallel-item {display: flex;flex-direction: column;z-index: 1;position: relative;background-color: white;}#sk-container-id-8 div.sk-parallel-item:first-child::after {align-self: flex-end;width: 50%;}#sk-container-id-8 div.sk-parallel-item:last-child::after {align-self: flex-start;width: 50%;}#sk-container-id-8 div.sk-parallel-item:only-child::after {width: 0;}#sk-container-id-8 div.sk-dashed-wrapped {border: 1px dashed gray;margin: 0 0.4em 0.5em 0.4em;box-sizing: border-box;padding-bottom: 0.4em;background-color: white;}#sk-container-id-8 div.sk-label label {font-family: monospace;font-weight: bold;display: inline-block;line-height: 1.2em;}#sk-container-id-8 div.sk-label-container {text-align: center;}#sk-container-id-8 div.sk-container {/* jupyter's `normalize.less` sets `[hidden] { display: none; }` but bootstrap.min.css set `[hidden] { display: none !important; }` so we also need the `!important` here to be able to override the default hidden behavior on the sphinx rendered scikit-learn.org. See: https://github.com/scikit-learn/scikit-learn/issues/21755 */display: inline-block !important;position: relative;}#sk-container-id-8 div.sk-text-repr-fallback {display: none;}</style><div id=\"sk-container-id-8\" class=\"sk-top-container\"><div class=\"sk-text-repr-fallback\"><pre>RandomForestClassifier()</pre><b>In a Jupyter environment, please rerun this cell to show the HTML representation or trust the notebook. <br />On GitHub, the HTML representation is unable to render, please try loading this page with nbviewer.org.</b></div><div class=\"sk-container\" hidden><div class=\"sk-item\"><div class=\"sk-estimator sk-toggleable\"><input class=\"sk-toggleable__control sk-hidden--visually\" id=\"sk-estimator-id-8\" type=\"checkbox\" checked><label for=\"sk-estimator-id-8\" class=\"sk-toggleable__label sk-toggleable__label-arrow\">RandomForestClassifier</label><div class=\"sk-toggleable__content\"><pre>RandomForestClassifier()</pre></div></div></div></div></div>"
      ],
      "text/plain": [
       "RandomForestClassifier()"
      ]
     },
     "execution_count": 79,
     "metadata": {},
     "output_type": "execute_result"
    }
   ],
   "source": [
    "RF.fit(x_train,y_train)"
   ]
  },
  {
   "cell_type": "code",
   "execution_count": 80,
   "id": "68c29c41",
   "metadata": {
    "execution": {
     "iopub.execute_input": "2023-08-26T17:52:46.988429Z",
     "iopub.status.busy": "2023-08-26T17:52:46.987285Z",
     "iopub.status.idle": "2023-08-26T17:52:47.083421Z",
     "shell.execute_reply": "2023-08-26T17:52:47.082551Z"
    },
    "papermill": {
     "duration": 0.128347,
     "end_time": "2023-08-26T17:52:47.086041",
     "exception": false,
     "start_time": "2023-08-26T17:52:46.957694",
     "status": "completed"
    },
    "tags": []
   },
   "outputs": [],
   "source": [
    "y_pred5=RF.predict(x_test)"
   ]
  },
  {
   "cell_type": "code",
   "execution_count": 81,
   "id": "b568e3bf",
   "metadata": {
    "execution": {
     "iopub.execute_input": "2023-08-26T17:52:47.145257Z",
     "iopub.status.busy": "2023-08-26T17:52:47.144447Z",
     "iopub.status.idle": "2023-08-26T17:52:47.152929Z",
     "shell.execute_reply": "2023-08-26T17:52:47.151799Z"
    },
    "papermill": {
     "duration": 0.040949,
     "end_time": "2023-08-26T17:52:47.155326",
     "exception": false,
     "start_time": "2023-08-26T17:52:47.114377",
     "status": "completed"
    },
    "tags": []
   },
   "outputs": [
    {
     "data": {
      "text/plain": [
       "0.8497279196316451"
      ]
     },
     "execution_count": 81,
     "metadata": {},
     "output_type": "execute_result"
    }
   ],
   "source": [
    "accuracy_score(y_test,y_pred5)"
   ]
  },
  {
   "cell_type": "code",
   "execution_count": 82,
   "id": "90b8280f",
   "metadata": {
    "execution": {
     "iopub.execute_input": "2023-08-26T17:52:47.214407Z",
     "iopub.status.busy": "2023-08-26T17:52:47.213784Z",
     "iopub.status.idle": "2023-08-26T17:52:47.219271Z",
     "shell.execute_reply": "2023-08-26T17:52:47.218275Z"
    },
    "papermill": {
     "duration": 0.037879,
     "end_time": "2023-08-26T17:52:47.221647",
     "exception": false,
     "start_time": "2023-08-26T17:52:47.183768",
     "status": "completed"
    },
    "tags": []
   },
   "outputs": [],
   "source": [
    "# Gradient Boosting Classifier\n",
    "from sklearn.ensemble import GradientBoostingClassifier"
   ]
  },
  {
   "cell_type": "code",
   "execution_count": 83,
   "id": "6443d92a",
   "metadata": {
    "execution": {
     "iopub.execute_input": "2023-08-26T17:52:47.281346Z",
     "iopub.status.busy": "2023-08-26T17:52:47.280933Z",
     "iopub.status.idle": "2023-08-26T17:52:47.285780Z",
     "shell.execute_reply": "2023-08-26T17:52:47.284703Z"
    },
    "papermill": {
     "duration": 0.03735,
     "end_time": "2023-08-26T17:52:47.288058",
     "exception": false,
     "start_time": "2023-08-26T17:52:47.250708",
     "status": "completed"
    },
    "tags": []
   },
   "outputs": [],
   "source": [
    "GBC=GradientBoostingClassifier()"
   ]
  },
  {
   "cell_type": "code",
   "execution_count": 84,
   "id": "77685ef6",
   "metadata": {
    "execution": {
     "iopub.execute_input": "2023-08-26T17:52:47.350024Z",
     "iopub.status.busy": "2023-08-26T17:52:47.348673Z",
     "iopub.status.idle": "2023-08-26T17:52:49.321359Z",
     "shell.execute_reply": "2023-08-26T17:52:49.320258Z"
    },
    "papermill": {
     "duration": 2.006993,
     "end_time": "2023-08-26T17:52:49.323838",
     "exception": false,
     "start_time": "2023-08-26T17:52:47.316845",
     "status": "completed"
    },
    "tags": []
   },
   "outputs": [
    {
     "data": {
      "text/html": [
       "<style>#sk-container-id-9 {color: black;background-color: white;}#sk-container-id-9 pre{padding: 0;}#sk-container-id-9 div.sk-toggleable {background-color: white;}#sk-container-id-9 label.sk-toggleable__label {cursor: pointer;display: block;width: 100%;margin-bottom: 0;padding: 0.3em;box-sizing: border-box;text-align: center;}#sk-container-id-9 label.sk-toggleable__label-arrow:before {content: \"▸\";float: left;margin-right: 0.25em;color: #696969;}#sk-container-id-9 label.sk-toggleable__label-arrow:hover:before {color: black;}#sk-container-id-9 div.sk-estimator:hover label.sk-toggleable__label-arrow:before {color: black;}#sk-container-id-9 div.sk-toggleable__content {max-height: 0;max-width: 0;overflow: hidden;text-align: left;background-color: #f0f8ff;}#sk-container-id-9 div.sk-toggleable__content pre {margin: 0.2em;color: black;border-radius: 0.25em;background-color: #f0f8ff;}#sk-container-id-9 input.sk-toggleable__control:checked~div.sk-toggleable__content {max-height: 200px;max-width: 100%;overflow: auto;}#sk-container-id-9 input.sk-toggleable__control:checked~label.sk-toggleable__label-arrow:before {content: \"▾\";}#sk-container-id-9 div.sk-estimator input.sk-toggleable__control:checked~label.sk-toggleable__label {background-color: #d4ebff;}#sk-container-id-9 div.sk-label input.sk-toggleable__control:checked~label.sk-toggleable__label {background-color: #d4ebff;}#sk-container-id-9 input.sk-hidden--visually {border: 0;clip: rect(1px 1px 1px 1px);clip: rect(1px, 1px, 1px, 1px);height: 1px;margin: -1px;overflow: hidden;padding: 0;position: absolute;width: 1px;}#sk-container-id-9 div.sk-estimator {font-family: monospace;background-color: #f0f8ff;border: 1px dotted black;border-radius: 0.25em;box-sizing: border-box;margin-bottom: 0.5em;}#sk-container-id-9 div.sk-estimator:hover {background-color: #d4ebff;}#sk-container-id-9 div.sk-parallel-item::after {content: \"\";width: 100%;border-bottom: 1px solid gray;flex-grow: 1;}#sk-container-id-9 div.sk-label:hover label.sk-toggleable__label {background-color: #d4ebff;}#sk-container-id-9 div.sk-serial::before {content: \"\";position: absolute;border-left: 1px solid gray;box-sizing: border-box;top: 0;bottom: 0;left: 50%;z-index: 0;}#sk-container-id-9 div.sk-serial {display: flex;flex-direction: column;align-items: center;background-color: white;padding-right: 0.2em;padding-left: 0.2em;position: relative;}#sk-container-id-9 div.sk-item {position: relative;z-index: 1;}#sk-container-id-9 div.sk-parallel {display: flex;align-items: stretch;justify-content: center;background-color: white;position: relative;}#sk-container-id-9 div.sk-item::before, #sk-container-id-9 div.sk-parallel-item::before {content: \"\";position: absolute;border-left: 1px solid gray;box-sizing: border-box;top: 0;bottom: 0;left: 50%;z-index: -1;}#sk-container-id-9 div.sk-parallel-item {display: flex;flex-direction: column;z-index: 1;position: relative;background-color: white;}#sk-container-id-9 div.sk-parallel-item:first-child::after {align-self: flex-end;width: 50%;}#sk-container-id-9 div.sk-parallel-item:last-child::after {align-self: flex-start;width: 50%;}#sk-container-id-9 div.sk-parallel-item:only-child::after {width: 0;}#sk-container-id-9 div.sk-dashed-wrapped {border: 1px dashed gray;margin: 0 0.4em 0.5em 0.4em;box-sizing: border-box;padding-bottom: 0.4em;background-color: white;}#sk-container-id-9 div.sk-label label {font-family: monospace;font-weight: bold;display: inline-block;line-height: 1.2em;}#sk-container-id-9 div.sk-label-container {text-align: center;}#sk-container-id-9 div.sk-container {/* jupyter's `normalize.less` sets `[hidden] { display: none; }` but bootstrap.min.css set `[hidden] { display: none !important; }` so we also need the `!important` here to be able to override the default hidden behavior on the sphinx rendered scikit-learn.org. See: https://github.com/scikit-learn/scikit-learn/issues/21755 */display: inline-block !important;position: relative;}#sk-container-id-9 div.sk-text-repr-fallback {display: none;}</style><div id=\"sk-container-id-9\" class=\"sk-top-container\"><div class=\"sk-text-repr-fallback\"><pre>GradientBoostingClassifier()</pre><b>In a Jupyter environment, please rerun this cell to show the HTML representation or trust the notebook. <br />On GitHub, the HTML representation is unable to render, please try loading this page with nbviewer.org.</b></div><div class=\"sk-container\" hidden><div class=\"sk-item\"><div class=\"sk-estimator sk-toggleable\"><input class=\"sk-toggleable__control sk-hidden--visually\" id=\"sk-estimator-id-9\" type=\"checkbox\" checked><label for=\"sk-estimator-id-9\" class=\"sk-toggleable__label sk-toggleable__label-arrow\">GradientBoostingClassifier</label><div class=\"sk-toggleable__content\"><pre>GradientBoostingClassifier()</pre></div></div></div></div></div>"
      ],
      "text/plain": [
       "GradientBoostingClassifier()"
      ]
     },
     "execution_count": 84,
     "metadata": {},
     "output_type": "execute_result"
    }
   ],
   "source": [
    "GBC.fit(x_train,y_train)"
   ]
  },
  {
   "cell_type": "code",
   "execution_count": 85,
   "id": "126376d3",
   "metadata": {
    "execution": {
     "iopub.execute_input": "2023-08-26T17:52:49.383827Z",
     "iopub.status.busy": "2023-08-26T17:52:49.383116Z",
     "iopub.status.idle": "2023-08-26T17:52:49.397979Z",
     "shell.execute_reply": "2023-08-26T17:52:49.397117Z"
    },
    "papermill": {
     "duration": 0.047491,
     "end_time": "2023-08-26T17:52:49.400269",
     "exception": false,
     "start_time": "2023-08-26T17:52:49.352778",
     "status": "completed"
    },
    "tags": []
   },
   "outputs": [],
   "source": [
    "y_pred6=GBC.predict(x_test)"
   ]
  },
  {
   "cell_type": "code",
   "execution_count": 86,
   "id": "1ba64f5f",
   "metadata": {
    "execution": {
     "iopub.execute_input": "2023-08-26T17:52:49.459919Z",
     "iopub.status.busy": "2023-08-26T17:52:49.458726Z",
     "iopub.status.idle": "2023-08-26T17:52:49.468143Z",
     "shell.execute_reply": "2023-08-26T17:52:49.467006Z"
    },
    "papermill": {
     "duration": 0.041392,
     "end_time": "2023-08-26T17:52:49.470263",
     "exception": false,
     "start_time": "2023-08-26T17:52:49.428871",
     "status": "completed"
    },
    "tags": []
   },
   "outputs": [
    {
     "data": {
      "text/plain": [
       "0.8271243197990791"
      ]
     },
     "execution_count": 86,
     "metadata": {},
     "output_type": "execute_result"
    }
   ],
   "source": [
    "accuracy_score(y_pred6,y_test)"
   ]
  },
  {
   "cell_type": "code",
   "execution_count": 87,
   "id": "4a693a8b",
   "metadata": {
    "execution": {
     "iopub.execute_input": "2023-08-26T17:52:49.529471Z",
     "iopub.status.busy": "2023-08-26T17:52:49.529031Z",
     "iopub.status.idle": "2023-08-26T17:52:49.542608Z",
     "shell.execute_reply": "2023-08-26T17:52:49.541244Z"
    },
    "papermill": {
     "duration": 0.0461,
     "end_time": "2023-08-26T17:52:49.545028",
     "exception": false,
     "start_time": "2023-08-26T17:52:49.498928",
     "status": "completed"
    },
    "tags": []
   },
   "outputs": [],
   "source": [
    "final_data=pd.DataFrame({'Models':['LR','SVC','KNN','DT','RF','GBC'],'ACC':[accuracy_score(y_test,y_pred1),\n",
    "                                                                            accuracy_score(y_test,y_pred2),\n",
    "                                                                            accuracy_score(y_test,y_pred3),\n",
    "                                                                            accuracy_score(y_test,y_pred4),\n",
    "                                                                            accuracy_score(y_test,y_pred5),\n",
    "                                                                            accuracy_score(y_test,y_pred6)]})"
   ]
  },
  {
   "cell_type": "code",
   "execution_count": 88,
   "id": "9a11d943",
   "metadata": {
    "execution": {
     "iopub.execute_input": "2023-08-26T17:52:49.607557Z",
     "iopub.status.busy": "2023-08-26T17:52:49.606867Z",
     "iopub.status.idle": "2023-08-26T17:52:49.617466Z",
     "shell.execute_reply": "2023-08-26T17:52:49.616436Z"
    },
    "papermill": {
     "duration": 0.045014,
     "end_time": "2023-08-26T17:52:49.619720",
     "exception": false,
     "start_time": "2023-08-26T17:52:49.574706",
     "status": "completed"
    },
    "tags": []
   },
   "outputs": [
    {
     "data": {
      "text/html": [
       "<div>\n",
       "<style scoped>\n",
       "    .dataframe tbody tr th:only-of-type {\n",
       "        vertical-align: middle;\n",
       "    }\n",
       "\n",
       "    .dataframe tbody tr th {\n",
       "        vertical-align: top;\n",
       "    }\n",
       "\n",
       "    .dataframe thead th {\n",
       "        text-align: right;\n",
       "    }\n",
       "</style>\n",
       "<table border=\"1\" class=\"dataframe\">\n",
       "  <thead>\n",
       "    <tr style=\"text-align: right;\">\n",
       "      <th></th>\n",
       "      <th>Models</th>\n",
       "      <th>ACC</th>\n",
       "    </tr>\n",
       "  </thead>\n",
       "  <tbody>\n",
       "    <tr>\n",
       "      <th>0</th>\n",
       "      <td>LR</td>\n",
       "      <td>0.677899</td>\n",
       "    </tr>\n",
       "    <tr>\n",
       "      <th>1</th>\n",
       "      <td>SVC</td>\n",
       "      <td>0.577020</td>\n",
       "    </tr>\n",
       "    <tr>\n",
       "      <th>2</th>\n",
       "      <td>KNN</td>\n",
       "      <td>0.686270</td>\n",
       "    </tr>\n",
       "    <tr>\n",
       "      <th>3</th>\n",
       "      <td>DT</td>\n",
       "      <td>0.790080</td>\n",
       "    </tr>\n",
       "    <tr>\n",
       "      <th>4</th>\n",
       "      <td>RF</td>\n",
       "      <td>0.849728</td>\n",
       "    </tr>\n",
       "    <tr>\n",
       "      <th>5</th>\n",
       "      <td>GBC</td>\n",
       "      <td>0.827124</td>\n",
       "    </tr>\n",
       "  </tbody>\n",
       "</table>\n",
       "</div>"
      ],
      "text/plain": [
       "  Models       ACC\n",
       "0     LR  0.677899\n",
       "1    SVC  0.577020\n",
       "2    KNN  0.686270\n",
       "3     DT  0.790080\n",
       "4     RF  0.849728\n",
       "5    GBC  0.827124"
      ]
     },
     "execution_count": 88,
     "metadata": {},
     "output_type": "execute_result"
    }
   ],
   "source": [
    "final_data"
   ]
  },
  {
   "cell_type": "code",
   "execution_count": 89,
   "id": "ac8c6ec7",
   "metadata": {
    "execution": {
     "iopub.execute_input": "2023-08-26T17:52:49.680169Z",
     "iopub.status.busy": "2023-08-26T17:52:49.679744Z",
     "iopub.status.idle": "2023-08-26T17:52:49.684483Z",
     "shell.execute_reply": "2023-08-26T17:52:49.683398Z"
    },
    "papermill": {
     "duration": 0.037351,
     "end_time": "2023-08-26T17:52:49.686788",
     "exception": false,
     "start_time": "2023-08-26T17:52:49.649437",
     "status": "completed"
    },
    "tags": []
   },
   "outputs": [],
   "source": [
    "import seaborn as sns"
   ]
  },
  {
   "cell_type": "code",
   "execution_count": 90,
   "id": "9c6a6c2b",
   "metadata": {
    "execution": {
     "iopub.execute_input": "2023-08-26T17:52:49.747750Z",
     "iopub.status.busy": "2023-08-26T17:52:49.747350Z",
     "iopub.status.idle": "2023-08-26T17:52:49.956748Z",
     "shell.execute_reply": "2023-08-26T17:52:49.955560Z"
    },
    "papermill": {
     "duration": 0.24345,
     "end_time": "2023-08-26T17:52:49.959331",
     "exception": false,
     "start_time": "2023-08-26T17:52:49.715881",
     "status": "completed"
    },
    "tags": []
   },
   "outputs": [
    {
     "data": {
      "text/plain": [
       "<AxesSubplot: xlabel='Models', ylabel='ACC'>"
      ]
     },
     "execution_count": 90,
     "metadata": {},
     "output_type": "execute_result"
    },
    {
     "data": {
      "image/png": "[encoded data removed]",
      "text/plain": [
       "<Figure size 640x480 with 1 Axes>"
      ]
     },
     "metadata": {},
     "output_type": "display_data"
    }
   ],
   "source": [
    "sns.barplot(x=final_data['Models'],y=final_data['ACC'])"
   ]
  },
  {
   "cell_type": "code",
   "execution_count": 91,
   "id": "231e34e0",
   "metadata": {
    "execution": {
     "iopub.execute_input": "2023-08-26T17:52:50.020246Z",
     "iopub.status.busy": "2023-08-26T17:52:50.019837Z",
     "iopub.status.idle": "2023-08-26T17:52:50.032367Z",
     "shell.execute_reply": "2023-08-26T17:52:50.031216Z"
    },
    "papermill": {
     "duration": 0.045993,
     "end_time": "2023-08-26T17:52:50.034811",
     "exception": false,
     "start_time": "2023-08-26T17:52:49.988818",
     "status": "completed"
    },
    "tags": []
   },
   "outputs": [],
   "source": [
    "# Save the model\n",
    "x_res=sc.fit_transform(x_res)"
   ]
  },
  {
   "cell_type": "code",
   "execution_count": 92,
   "id": "7a2b7216",
   "metadata": {
    "execution": {
     "iopub.execute_input": "2023-08-26T17:52:50.096058Z",
     "iopub.status.busy": "2023-08-26T17:52:50.095037Z",
     "iopub.status.idle": "2023-08-26T17:52:52.643032Z",
     "shell.execute_reply": "2023-08-26T17:52:52.641909Z"
    },
    "papermill": {
     "duration": 2.581043,
     "end_time": "2023-08-26T17:52:52.645424",
     "exception": false,
     "start_time": "2023-08-26T17:52:50.064381",
     "status": "completed"
    },
    "tags": []
   },
   "outputs": [
    {
     "data": {
      "text/html": [
       "<style>#sk-container-id-10 {color: black;background-color: white;}#sk-container-id-10 pre{padding: 0;}#sk-container-id-10 div.sk-toggleable {background-color: white;}#sk-container-id-10 label.sk-toggleable__label {cursor: pointer;display: block;width: 100%;margin-bottom: 0;padding: 0.3em;box-sizing: border-box;text-align: center;}#sk-container-id-10 label.sk-toggleable__label-arrow:before {content: \"▸\";float: left;margin-right: 0.25em;color: #696969;}#sk-container-id-10 label.sk-toggleable__label-arrow:hover:before {color: black;}#sk-container-id-10 div.sk-estimator:hover label.sk-toggleable__label-arrow:before {color: black;}#sk-container-id-10 div.sk-toggleable__content {max-height: 0;max-width: 0;overflow: hidden;text-align: left;background-color: #f0f8ff;}#sk-container-id-10 div.sk-toggleable__content pre {margin: 0.2em;color: black;border-radius: 0.25em;background-color: #f0f8ff;}#sk-container-id-10 input.sk-toggleable__control:checked~div.sk-toggleable__content {max-height: 200px;max-width: 100%;overflow: auto;}#sk-container-id-10 input.sk-toggleable__control:checked~label.sk-toggleable__label-arrow:before {content: \"▾\";}#sk-container-id-10 div.sk-estimator input.sk-toggleable__control:checked~label.sk-toggleable__label {background-color: #d4ebff;}#sk-container-id-10 div.sk-label input.sk-toggleable__control:checked~label.sk-toggleable__label {background-color: #d4ebff;}#sk-container-id-10 input.sk-hidden--visually {border: 0;clip: rect(1px 1px 1px 1px);clip: rect(1px, 1px, 1px, 1px);height: 1px;margin: -1px;overflow: hidden;padding: 0;position: absolute;width: 1px;}#sk-container-id-10 div.sk-estimator {font-family: monospace;background-color: #f0f8ff;border: 1px dotted black;border-radius: 0.25em;box-sizing: border-box;margin-bottom: 0.5em;}#sk-container-id-10 div.sk-estimator:hover {background-color: #d4ebff;}#sk-container-id-10 div.sk-parallel-item::after {content: \"\";width: 100%;border-bottom: 1px solid gray;flex-grow: 1;}#sk-container-id-10 div.sk-label:hover label.sk-toggleable__label {background-color: #d4ebff;}#sk-container-id-10 div.sk-serial::before {content: \"\";position: absolute;border-left: 1px solid gray;box-sizing: border-box;top: 0;bottom: 0;left: 50%;z-index: 0;}#sk-container-id-10 div.sk-serial {display: flex;flex-direction: column;align-items: center;background-color: white;padding-right: 0.2em;padding-left: 0.2em;position: relative;}#sk-container-id-10 div.sk-item {position: relative;z-index: 1;}#sk-container-id-10 div.sk-parallel {display: flex;align-items: stretch;justify-content: center;background-color: white;position: relative;}#sk-container-id-10 div.sk-item::before, #sk-container-id-10 div.sk-parallel-item::before {content: \"\";position: absolute;border-left: 1px solid gray;box-sizing: border-box;top: 0;bottom: 0;left: 50%;z-index: -1;}#sk-container-id-10 div.sk-parallel-item {display: flex;flex-direction: column;z-index: 1;position: relative;background-color: white;}#sk-container-id-10 div.sk-parallel-item:first-child::after {align-self: flex-end;width: 50%;}#sk-container-id-10 div.sk-parallel-item:last-child::after {align-self: flex-start;width: 50%;}#sk-container-id-10 div.sk-parallel-item:only-child::after {width: 0;}#sk-container-id-10 div.sk-dashed-wrapped {border: 1px dashed gray;margin: 0 0.4em 0.5em 0.4em;box-sizing: border-box;padding-bottom: 0.4em;background-color: white;}#sk-container-id-10 div.sk-label label {font-family: monospace;font-weight: bold;display: inline-block;line-height: 1.2em;}#sk-container-id-10 div.sk-label-container {text-align: center;}#sk-container-id-10 div.sk-container {/* jupyter's `normalize.less` sets `[hidden] { display: none; }` but bootstrap.min.css set `[hidden] { display: none !important; }` so we also need the `!important` here to be able to override the default hidden behavior on the sphinx rendered scikit-learn.org. See: https://github.com/scikit-learn/scikit-learn/issues/21755 */display: inline-block !important;position: relative;}#sk-container-id-10 div.sk-text-repr-fallback {display: none;}</style><div id=\"sk-container-id-10\" class=\"sk-top-container\"><div class=\"sk-text-repr-fallback\"><pre>RandomForestClassifier()</pre><b>In a Jupyter environment, please rerun this cell to show the HTML representation or trust the notebook. <br />On GitHub, the HTML representation is unable to render, please try loading this page with nbviewer.org.</b></div><div class=\"sk-container\" hidden><div class=\"sk-item\"><div class=\"sk-estimator sk-toggleable\"><input class=\"sk-toggleable__control sk-hidden--visually\" id=\"sk-estimator-id-10\" type=\"checkbox\" checked><label for=\"sk-estimator-id-10\" class=\"sk-toggleable__label sk-toggleable__label-arrow\">RandomForestClassifier</label><div class=\"sk-toggleable__content\"><pre>RandomForestClassifier()</pre></div></div></div></div></div>"
      ],
      "text/plain": [
       "RandomForestClassifier()"
      ]
     },
     "execution_count": 92,
     "metadata": {},
     "output_type": "execute_result"
    }
   ],
   "source": [
    "RF.fit(x_res,y_res)"
   ]
  },
  {
   "cell_type": "code",
   "execution_count": 93,
   "id": "6eb28777",
   "metadata": {
    "execution": {
     "iopub.execute_input": "2023-08-26T17:52:52.708717Z",
     "iopub.status.busy": "2023-08-26T17:52:52.708000Z",
     "iopub.status.idle": "2023-08-26T17:52:52.712704Z",
     "shell.execute_reply": "2023-08-26T17:52:52.711627Z"
    },
    "papermill": {
     "duration": 0.03933,
     "end_time": "2023-08-26T17:52:52.715142",
     "exception": false,
     "start_time": "2023-08-26T17:52:52.675812",
     "status": "completed"
    },
    "tags": []
   },
   "outputs": [],
   "source": [
    "import joblib"
   ]
  },
  {
   "cell_type": "code",
   "execution_count": 94,
   "id": "569c5346",
   "metadata": {
    "execution": {
     "iopub.execute_input": "2023-08-26T17:52:52.777296Z",
     "iopub.status.busy": "2023-08-26T17:52:52.776856Z",
     "iopub.status.idle": "2023-08-26T17:52:52.899812Z",
     "shell.execute_reply": "2023-08-26T17:52:52.898656Z"
    },
    "papermill": {
     "duration": 0.156693,
     "end_time": "2023-08-26T17:52:52.902261",
     "exception": false,
     "start_time": "2023-08-26T17:52:52.745568",
     "status": "completed"
    },
    "tags": []
   },
   "outputs": [
    {
     "data": {
      "text/plain": [
       "['churn_predict_model']"
      ]
     },
     "execution_count": 94,
     "metadata": {},
     "output_type": "execute_result"
    }
   ],
   "source": [
    "joblib.dump(RF,'churn_predict_model')"
   ]
  },
  {
   "cell_type": "code",
   "execution_count": 95,
   "id": "b06084c6",
   "metadata": {
    "execution": {
     "iopub.execute_input": "2023-08-26T17:52:52.963827Z",
     "iopub.status.busy": "2023-08-26T17:52:52.963324Z",
     "iopub.status.idle": "2023-08-26T17:52:53.089915Z",
     "shell.execute_reply": "2023-08-26T17:52:53.088899Z"
    },
    "papermill": {
     "duration": 0.160791,
     "end_time": "2023-08-26T17:52:53.092896",
     "exception": false,
     "start_time": "2023-08-26T17:52:52.932105",
     "status": "completed"
    },
    "tags": []
   },
   "outputs": [],
   "source": [
    "model=joblib.load('churn_predict_model')"
   ]
  },
  {
   "cell_type": "code",
   "execution_count": 96,
   "id": "af7e318a",
   "metadata": {
    "execution": {
     "iopub.execute_input": "2023-08-26T17:52:53.154723Z",
     "iopub.status.busy": "2023-08-26T17:52:53.154090Z",
     "iopub.status.idle": "2023-08-26T17:52:53.159712Z",
     "shell.execute_reply": "2023-08-26T17:52:53.158980Z"
    },
    "papermill": {
     "duration": 0.038885,
     "end_time": "2023-08-26T17:52:53.161723",
     "exception": false,
     "start_time": "2023-08-26T17:52:53.122838",
     "status": "completed"
    },
    "tags": []
   },
   "outputs": [
    {
     "data": {
      "text/plain": [
       "Index(['CreditScore', 'Age', 'Tenure', 'Balance', 'NumOfProducts', 'HasCrCard',\n",
       "       'IsActiveMember', 'EstimatedSalary', 'Exited', 'Geography_Germany',\n",
       "       'Geography_Spain', 'Gender_Male'],\n",
       "      dtype='object')"
      ]
     },
     "execution_count": 96,
     "metadata": {},
     "output_type": "execute_result"
    }
   ],
   "source": [
    "data.columns"
   ]
  },
  {
   "cell_type": "code",
   "execution_count": 99,
   "id": "ce4e1b9f",
   "metadata": {
    "execution": {
     "iopub.execute_input": "2023-08-26T17:52:53.223990Z",
     "iopub.status.busy": "2023-08-26T17:52:53.223378Z",
     "iopub.status.idle": "2023-08-26T17:52:53.241366Z",
     "shell.execute_reply": "2023-08-26T17:52:53.240537Z"
    },
    "papermill": {
     "duration": 0.051588,
     "end_time": "2023-08-26T17:52:53.243460",
     "exception": false,
     "start_time": "2023-08-26T17:52:53.191872",
     "status": "completed"
    },
    "tags": []
   },
   "outputs": [
    {
     "data": {
      "text/plain": [
       "array([1], dtype=int64)"
      ]
     },
     "execution_count": 99,
     "metadata": {},
     "output_type": "execute_result"
    }
   ],
   "source": [
    "model.predict([[730,22,2,0,0,0,0,204317.88,1,1,0]])"
   ]
  }
 ],
 "metadata": {
  "kernelspec": {
   "display_name": "Python 3",
   "language": "python",
   "name": "python3"
  },
  "language_info": {
   "codemirror_mode": {
    "name": "ipython",
    "version": 3
   },
   "file_extension": ".py",
   "mimetype": "text/x-python",
   "name": "python",
   "nbconvert_exporter": "python",
   "pygments_lexer": "ipython3",
   "version": "3.10.12"
  },
  "papermill": {
   "default_parameters": {},
   "duration": 40.252133,
   "end_time": "2023-08-26T17:52:54.295896",
   "environment_variables": {},
   "exception": null,
   "input_path": "__notebook__.ipynb",
   "output_path": "__notebook__.ipynb",
   "parameters": {},
   "start_time": "2023-08-26T17:52:14.043763",
   "version": "2.4.0"
  }
 },
 "nbformat": 4,
 "nbformat_minor": 5
}
